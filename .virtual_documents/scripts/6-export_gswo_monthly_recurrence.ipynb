


import glob
import pprint as pp
import pandas as pd
import geopandas as gpd
import ee
import geemap

ee.Authenticate()
ee.Initialize()

rois = ee.data.listAssets('projects/alpod-412314/assets/ROIs/')
rois_ids = [roi['id'] for roi in rois['assets']]
rois_ids.remove('projects/alpod-412314/assets/ROIs/all_regions')
pp.pp(rois_ids)






# rois = ee.data.listAssets('projects/alpod-412314/assets/ROIs/')
# rois_ids = [roi['id'] for roi in rois['assets']]
# rois_ids.remove('projects/alpod-412314/assets/ROIs/all_regions')
# pp.pp(rois_ids)


# gswo_monthly_recurrence = ee.ImageCollection('JRC/GSW1_4/MonthlyRecurrence')
# june = 6
# aug = 8
# june_data = gswo_monthly_recurrence.filter(ee.Filter.eq('month', june)).first()
# aug_data = gswo_monthly_recurrence.filter(ee.Filter.eq('month', aug)).first()


# def export_rois(roi_id, target_img, month_name):
    
#     roi_name_temp = roi_id.split('/')[-1]
#     roi_name = roi_name_temp.split('_roi')[0]
#     feature = ee.FeatureCollection(roi_id).first()
#     bounds = feature.geometry()

#     clipped_img = target_img.clip(bounds)

#     export_params = {
#         'image': clipped_img,
#         'description': f'GSWORecurrence_{roi_name}_month_{month_name}_', 
#         'fileNamePrefix': f'GSWORecurrence_{roi_name}_month_{month_name}_',
#         'folder': 'gswo_exports', 
#         'scale': 30,
#         'crs': 'EPSG:4326',
#         'region': bounds,
#         'fileFormat': 'GeoTIFF',
#         'maxPixels': 1e13
#     }

#     ee.batch.Export.image.toDrive(**export_params).start()


# datasets = [june_data, aug_data]
# month_names = ['june', 'aug']

# monthly_datasets = list(zip(month_names, datasets))

# for month, ds in monthly_datasets:
#     for roi_id in rois_ids:
#         export_rois(roi_id, ds, month)





gswo_monthly_water_hist = ee.ImageCollection('JRC/GSW1_4/MonthlyHistory')
years = range(2016, 2021) # 2016 through 2020

june_idx = [f'{year}_06' for year in years]
print(june_idx)
aug_idx = [f'{year}_08' for year in years]
print(aug_idx)

june_imgs = gswo_monthly_water_hist.filter(ee.Filter.inList('system:index', june_idx))
aug_imgs = gswo_monthly_water_hist.filter(ee.Filter.inList('system:index', aug_idx))

june_max_obs = june_imgs.size().getInfo()
aug_max_obs = aug_imgs.size().getInfo()
print(june_max_obs, aug_max_obs)


"""GSWO bitmask for water is...
0: no data
1: no water 
2: water
"""
def select_invalid_pixels(img, mask_val):

    img_unmasked = img.unmask(mask_val)
    inval_pixels = img_unmasked.eq(mask_val)
    inval_pixels = inval_pixels.updateMask(ee.Image.constant(1))
    return inval_pixels

def select_water_pixels(img, water_val):
    water_pixels = img.eq(water_val)
    return water_pixels


def mask_invalid_pixels(img, mask_val):
    data_mask = img.neq(mask_val)
    data = img.updateMask(data_mask)
    return data


def calc_valid_occurrence(img_collection, max_obs, mask_val, water_val):
    # 
    invalid_masks = img_collection.map(lambda img: select_invalid_pixels(img, mask_val))
    sum_invalid = invalid_masks.reduce(ee.Reducer.sum())

    # Sum valid water obsergations in each image
    data = img_collection.map(lambda img: mask_invalid_pixels(img, mask_val))
    wtr_imgs = data.map(lambda img: select_water_pixels(img, water_val))
    sum_water = wtr_imgs.reduce(ee.Reducer.sum())

    # Calculate the % of valid water occurence. 
    max_obs_img = ee.Image.constant(max_obs)
    valid_obs = max_obs_img= max_obs_img.subtract(sum_invalid)
    valid_occurrence = sum_water.divide(valid_obs)

    return valid_occurrence
    


aug_occurrence = calc_valid_occurrence(aug_imgs, aug_max_obs, mask_val=0, water_val=2)
june_occurrence = calc_valid_occurrence(june_imgs, june_max_obs, mask_val=0, water_val=2)

month_names = ['june', 'aug']
datasets = [june_occurrence, aug_occurrence]

monthly_datasets = list(zip(month_names, datasets))



Map = geemap.Map(center=[0, 0], zoom=2)
Map.addLayer(aug_occurrence, {'min': 0, 'max': 1, 'palette': ['red', 'yellow', 'blue']}, "Water Mask")
Map.addLayerControl()
Map





def export_rois(roi_id, target_img, month_name):
    
    roi_name_temp = roi_id.split('/')[-1]
    roi_name = roi_name_temp.split('_roi')[0]
    feature = ee.FeatureCollection(roi_id).first()
    bounds = feature.geometry()

    clipped_img = target_img.clip(bounds)

    export_params = {
        'image': clipped_img,
        'description': f'GSWORecurrence2016-2020Monthly_{roi_name}_month_{month_name}_', 
        'fileNamePrefix': f'GSWORecurrence2016-2020Monthly_{roi_name}_month_{month_name}_',
        'folder': 'gswo_exports_partial', 
        'scale': 30,
        'crs': 'EPSG:4326',
        'region': bounds,
        'fileFormat': 'GeoTIFF',
        'maxPixels': 1e13
    }

    ee.batch.Export.image.toDrive(**export_params).start()


for month, ds in monthly_datasets:
    for roi_id in rois_ids:
        export_rois(roi_id, ds, month)



