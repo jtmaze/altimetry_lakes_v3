{
 "cells": [
  {
   "cell_type": "markdown",
   "id": "19a246b2-5ad0-4c88-af77-aa0c7f41066c",
   "metadata": {},
   "source": [
    "## 1.0 Load libraries and find paths to assets"
   ]
  },
  {
   "cell_type": "code",
   "execution_count": 1,
   "id": "21fcaacf-bd67-4877-b546-f18baa5b8d49",
   "metadata": {},
   "outputs": [],
   "source": [
    "import ee\n",
    "import os\n",
    "import geemap\n",
    "import json\n",
    "import geopandas as gpd\n",
    "import pprint as pp\n",
    "from shapely.geometry import shape\n",
    "\n",
    "ee.Authenticate()\n",
    "ee.Initialize()"
   ]
  },
  {
   "cell_type": "markdown",
   "id": "f2d0673d-ffb7-49c6-8e32-dc6ced3edf99",
   "metadata": {},
   "source": [
    "### 1.1 Paths to the GEE assets"
   ]
  },
  {
   "cell_type": "code",
   "execution_count": 2,
   "id": "bf26b0bb-8cfc-4610-9f26-14109409c02f",
   "metadata": {},
   "outputs": [
    {
     "data": {
      "text/html": [
       "\n",
       "            <style>\n",
       "                .geemap-dark {\n",
       "                    --jp-widgets-color: white;\n",
       "                    --jp-widgets-label-color: white;\n",
       "                    --jp-ui-font-color1: white;\n",
       "                    --jp-layout-color2: #454545;\n",
       "                    background-color: #383838;\n",
       "                }\n",
       "\n",
       "                .geemap-dark .jupyter-button {\n",
       "                    --jp-layout-color3: #383838;\n",
       "                }\n",
       "\n",
       "                .geemap-colab {\n",
       "                    background-color: var(--colab-primary-surface-color, white);\n",
       "                }\n",
       "\n",
       "                .geemap-colab .jupyter-button {\n",
       "                    --jp-layout-color3: var(--colab-primary-surface-color, white);\n",
       "                }\n",
       "            </style>\n",
       "            "
      ],
      "text/plain": [
       "<IPython.core.display.HTML object>"
      ]
     },
     "metadata": {},
     "output_type": "display_data"
    },
    {
     "name": "stdout",
     "output_type": "stream",
     "text": [
      "('*** study region boundaries ***\\n'\n",
      " \"{'assets': [{'type': 'TABLE', 'name': \"\n",
      " \"'projects/alpod-412314/assets/ROIs/AKCP_roi', 'id': \"\n",
      " \"'projects/alpod-412314/assets/ROIs/AKCP_roi', 'updateTime': \"\n",
      " \"'2024-08-15T21:05:05.608722Z'}, {'type': 'TABLE', 'name': \"\n",
      " \"'projects/alpod-412314/assets/ROIs/MRD_TUK_Anderson_roi', 'id': \"\n",
      " \"'projects/alpod-412314/assets/ROIs/MRD_TUK_Anderson_roi', 'updateTime': \"\n",
      " \"'2024-08-15T21:04:58.092718Z'}, {'type': 'TABLE', 'name': \"\n",
      " \"'projects/alpod-412314/assets/ROIs/MRD_roi', 'id': \"\n",
      " \"'projects/alpod-412314/assets/ROIs/MRD_roi', 'updateTime': \"\n",
      " \"'2024-08-15T21:02:37.837931Z'}, {'type': 'TABLE', 'name': \"\n",
      " \"'projects/alpod-412314/assets/ROIs/TUK_roi', 'id': \"\n",
      " \"'projects/alpod-412314/assets/ROIs/TUK_roi', 'updateTime': \"\n",
      " \"'2024-08-15T21:02:57.590868Z'}, {'type': 'TABLE', 'name': \"\n",
      " \"'projects/alpod-412314/assets/ROIs/YKdelta_roi', 'id': \"\n",
      " \"'projects/alpod-412314/assets/ROIs/YKdelta_roi', 'updateTime': \"\n",
      " \"'2024-08-15T21:03:21.623043Z'}, {'type': 'TABLE', 'name': \"\n",
      " \"'projects/alpod-412314/assets/ROIs/YKflats_roi', 'id': \"\n",
      " \"'projects/alpod-412314/assets/ROIs/YKflats_roi', 'updateTime': \"\n",
      " \"'2024-08-15T21:03:29.378993Z'}, {'type': 'TABLE', 'name': \"\n",
      " \"'projects/alpod-412314/assets/ROIs/all_regions', 'id': \"\n",
      " \"'projects/alpod-412314/assets/ROIs/all_regions', 'updateTime': \"\n",
      " \"'2024-08-15T21:03:54.937542Z'}, {'type': 'TABLE', 'name': \"\n",
      " \"'projects/alpod-412314/assets/ROIs/anderson_plain_roi', 'id': \"\n",
      " \"'projects/alpod-412314/assets/ROIs/anderson_plain_roi', 'updateTime': \"\n",
      " \"'2024-08-15T21:03:06.064404Z'}]}\")\n",
      "{'type': 'IMAGE',\n",
      " 'name': 'projects/alpod-412314/assets/region_weekly/AKCP_2016_19',\n",
      " 'id': 'projects/alpod-412314/assets/region_weekly/AKCP_2016_19',\n",
      " 'updateTime': '2024-08-25T13:40:24.223110Z'}\n"
     ]
    }
   ],
   "source": [
    "project_dir = 'projects/alpod-412314/assets/' \n",
    "region = 'TUK_MRD'\n",
    "# AND YKdelta is called YKD\n",
    "# Meanwhile, YKflats is called YKF\n",
    "\n",
    "region_path = f'{region}_weekly'\n",
    "#pp.pp(ee.data.listAssets(project_dir))\n",
    "#pp.pp(ee.data.listAssets(project_dir + 'region_weekly/'))\n",
    "#pp.pp(ee.data.listAssets(f'{project_dir}Lake_extractions/'))\n",
    "\n",
    "# Read bufferd lake polygons\n",
    "region_buffered_lakes = 'TUK_MRD_AND' \n",
    "#!!! TUK_MRD is called TUK_MRD_AND for the lake regions\n",
    "# AND YKdelta is called YKD\n",
    "# Meanwhile, YKflats is called YKF\n",
    "lakes_path = f'{project_dir}Lake_extractions/{region_buffered_lakes}_extraction'\n",
    "lake_polygons = ee.FeatureCollection(lakes_path)\n",
    "\n",
    "# Read weekly mosaics\n",
    "weekly_mosaics = ee.data.listAssets(f'{project_dir}region_weekly/')\n",
    "weekly_mosaics = weekly_mosaics['assets']\n",
    "\n",
    "# Read the ROI boundaries\n",
    "pp.pp(f\"\"\"*** study region boundaries ***\n",
    "{ee.data.listAssets(project_dir + 'ROIs')}\"\"\")\n",
    "name = 'MRD_TUK_Anderson'\n",
    "roi_extent = ee.FeatureCollection(f'projects/alpod-412314/assets/ROIs/{name}_roi')\n",
    "roi_extent = roi_extent.first().geometry() \n",
    "\n",
    "#pp.pp(roi_extent.getInfo())\n",
    "pp.pp(weekly_mosaics[0])"
   ]
  },
  {
   "cell_type": "markdown",
   "id": "2287262a-a68d-47d5-82b9-7e23fe46389e",
   "metadata": {},
   "source": [
    "### 1.2 (optional) export the study region shapefile"
   ]
  },
  {
   "cell_type": "code",
   "execution_count": 3,
   "id": "1cf6eb6a-bbef-43a5-bbcd-123d240fd961",
   "metadata": {},
   "outputs": [
    {
     "data": {
      "text/html": [
       "\n",
       "            <style>\n",
       "                .geemap-dark {\n",
       "                    --jp-widgets-color: white;\n",
       "                    --jp-widgets-label-color: white;\n",
       "                    --jp-ui-font-color1: white;\n",
       "                    --jp-layout-color2: #454545;\n",
       "                    background-color: #383838;\n",
       "                }\n",
       "\n",
       "                .geemap-dark .jupyter-button {\n",
       "                    --jp-layout-color3: #383838;\n",
       "                }\n",
       "\n",
       "                .geemap-colab {\n",
       "                    background-color: var(--colab-primary-surface-color, white);\n",
       "                }\n",
       "\n",
       "                .geemap-colab .jupyter-button {\n",
       "                    --jp-layout-color3: var(--colab-primary-surface-color, white);\n",
       "                }\n",
       "            </style>\n",
       "            "
      ],
      "text/plain": [
       "<IPython.core.display.HTML object>"
      ]
     },
     "metadata": {},
     "output_type": "display_data"
    }
   ],
   "source": [
    "# # Set up the export task\n",
    "# task = ee.batch.Export.table.toDrive(\n",
    "#     collection=roi_extent,\n",
    "#     description=f'{name}_roi_shape',\n",
    "#     folder='ew_roi_shapes', \n",
    "#     fileFormat='SHP'\n",
    "# )\n",
    "\n",
    "# # Start the export task\n",
    "# task.start()\n",
    "\n",
    "# \"\"\"\n",
    "# Round-about way to export locally, don't need the Google Drive. \n",
    "# \"\"\"\n",
    "\n",
    "# export = ee.FeatureCollection(f'{project_dir}ROIs/{name}_roi').first()\n",
    "# export_info = export.getInfo()\n",
    "# geometry_json = export_info['geometry']\n",
    "# geometry = shape(geometry_json)\n",
    "# roi_gdf = gpd.GeoDataFrame([{'geometry': geometry, 'roi': f'{name}'}], crs=\"EPSG:4326\")\n",
    "# os.chdir('/Users/jmaze/Documents/projects/altimetry_lakes_v3/')\n",
    "# roi_gdf.to_file(f'./data/ew_rois/{name}_roi_shape.shp')"
   ]
  },
  {
   "cell_type": "markdown",
   "id": "8c3b2923-788d-4807-9538-ea902fcf5687",
   "metadata": {},
   "source": [
    "## 2.0 Select weekly mosaics for given timeperiods and ROI"
   ]
  },
  {
   "cell_type": "markdown",
   "id": "ee39e3ef-ac65-4833-9c47-7b8454b6d43d",
   "metadata": {},
   "source": [
    "### 2.1 Designate the time period"
   ]
  },
  {
   "cell_type": "code",
   "execution_count": 4,
   "id": "5d280919-e165-46d3-9d38-bc6b18d104f3",
   "metadata": {},
   "outputs": [
    {
     "data": {
      "text/html": [
       "\n",
       "            <style>\n",
       "                .geemap-dark {\n",
       "                    --jp-widgets-color: white;\n",
       "                    --jp-widgets-label-color: white;\n",
       "                    --jp-ui-font-color1: white;\n",
       "                    --jp-layout-color2: #454545;\n",
       "                    background-color: #383838;\n",
       "                }\n",
       "\n",
       "                .geemap-dark .jupyter-button {\n",
       "                    --jp-layout-color3: #383838;\n",
       "                }\n",
       "\n",
       "                .geemap-colab {\n",
       "                    background-color: var(--colab-primary-surface-color, white);\n",
       "                }\n",
       "\n",
       "                .geemap-colab .jupyter-button {\n",
       "                    --jp-layout-color3: var(--colab-primary-surface-color, white);\n",
       "                }\n",
       "            </style>\n",
       "            "
      ],
      "text/plain": [
       "<IPython.core.display.HTML object>"
      ]
     },
     "metadata": {},
     "output_type": "display_data"
    }
   ],
   "source": [
    "target_years = list(range(2016, 2021))\n",
    "target_years = [str(year) for year in target_years]\n",
    "\n",
    "\"\"\"\n",
    "Adjust the time periods here. \n",
    "\"\"\"\n",
    "# June weeks \n",
    "target_weeks = list(range(22, 27))\n",
    "# August weeks \n",
    "#target_weeks = list(range(31, 36))\n",
    "# September weeks\n",
    "#target_weeks = list(range(35, 41))\n",
    "\n",
    "target_weeks = [str(week) for week in target_weeks]\n",
    "\n",
    "max_observations = len(target_years) * len(target_weeks)"
   ]
  },
  {
   "cell_type": "markdown",
   "id": "3b64b23b-b11c-49b6-b7d8-c7898715cdac",
   "metadata": {},
   "source": [
    "### 2.2 Select the images"
   ]
  },
  {
   "cell_type": "code",
   "execution_count": 5,
   "id": "b9f76b16-b4c6-47f6-a08c-debafca4d6c7",
   "metadata": {},
   "outputs": [
    {
     "data": {
      "text/html": [
       "\n",
       "            <style>\n",
       "                .geemap-dark {\n",
       "                    --jp-widgets-color: white;\n",
       "                    --jp-widgets-label-color: white;\n",
       "                    --jp-ui-font-color1: white;\n",
       "                    --jp-layout-color2: #454545;\n",
       "                    background-color: #383838;\n",
       "                }\n",
       "\n",
       "                .geemap-dark .jupyter-button {\n",
       "                    --jp-layout-color3: #383838;\n",
       "                }\n",
       "\n",
       "                .geemap-colab {\n",
       "                    background-color: var(--colab-primary-surface-color, white);\n",
       "                }\n",
       "\n",
       "                .geemap-colab .jupyter-button {\n",
       "                    --jp-layout-color3: var(--colab-primary-surface-color, white);\n",
       "                }\n",
       "            </style>\n",
       "            "
      ],
      "text/plain": [
       "<IPython.core.display.HTML object>"
      ]
     },
     "metadata": {},
     "output_type": "display_data"
    },
    {
     "name": "stdout",
     "output_type": "stream",
     "text": [
      "projects/alpod-412314/assets/region_weekly/TUK_MRD_2016_22\n",
      "region_match: MRD, temp_region: MRD\n",
      "projects/alpod-412314/assets/region_weekly/TUK_MRD_2016_23\n",
      "region_match: MRD, temp_region: MRD\n",
      "projects/alpod-412314/assets/region_weekly/TUK_MRD_2016_25\n",
      "region_match: MRD, temp_region: MRD\n",
      "projects/alpod-412314/assets/region_weekly/TUK_MRD_2016_26\n",
      "region_match: MRD, temp_region: MRD\n",
      "projects/alpod-412314/assets/region_weekly/TUK_MRD_2017_22\n",
      "region_match: MRD, temp_region: MRD\n",
      "projects/alpod-412314/assets/region_weekly/TUK_MRD_2017_23\n",
      "region_match: MRD, temp_region: MRD\n",
      "projects/alpod-412314/assets/region_weekly/TUK_MRD_2017_24\n",
      "region_match: MRD, temp_region: MRD\n",
      "projects/alpod-412314/assets/region_weekly/TUK_MRD_2017_25\n",
      "region_match: MRD, temp_region: MRD\n",
      "projects/alpod-412314/assets/region_weekly/TUK_MRD_2017_26\n",
      "region_match: MRD, temp_region: MRD\n",
      "projects/alpod-412314/assets/region_weekly/TUK_MRD_2018_22\n",
      "region_match: MRD, temp_region: MRD\n",
      "projects/alpod-412314/assets/region_weekly/TUK_MRD_2018_23\n",
      "region_match: MRD, temp_region: MRD\n",
      "projects/alpod-412314/assets/region_weekly/TUK_MRD_2018_24\n",
      "region_match: MRD, temp_region: MRD\n",
      "projects/alpod-412314/assets/region_weekly/TUK_MRD_2018_25\n",
      "region_match: MRD, temp_region: MRD\n",
      "projects/alpod-412314/assets/region_weekly/TUK_MRD_2018_26\n",
      "region_match: MRD, temp_region: MRD\n",
      "projects/alpod-412314/assets/region_weekly/TUK_MRD_2019_22\n",
      "region_match: MRD, temp_region: MRD\n",
      "projects/alpod-412314/assets/region_weekly/TUK_MRD_2019_23\n",
      "region_match: MRD, temp_region: MRD\n",
      "projects/alpod-412314/assets/region_weekly/TUK_MRD_2019_24\n",
      "region_match: MRD, temp_region: MRD\n",
      "projects/alpod-412314/assets/region_weekly/TUK_MRD_2019_25\n",
      "region_match: MRD, temp_region: MRD\n",
      "projects/alpod-412314/assets/region_weekly/TUK_MRD_2019_26\n",
      "region_match: MRD, temp_region: MRD\n",
      "projects/alpod-412314/assets/region_weekly/TUK_MRD_2020_22\n",
      "region_match: MRD, temp_region: MRD\n",
      "projects/alpod-412314/assets/region_weekly/TUK_MRD_2020_23\n",
      "region_match: MRD, temp_region: MRD\n",
      "projects/alpod-412314/assets/region_weekly/TUK_MRD_2020_24\n",
      "region_match: MRD, temp_region: MRD\n",
      "projects/alpod-412314/assets/region_weekly/TUK_MRD_2020_25\n",
      "region_match: MRD, temp_region: MRD\n",
      "projects/alpod-412314/assets/region_weekly/TUK_MRD_2020_26\n",
      "region_match: MRD, temp_region: MRD\n",
      "projects/alpod-412314/assets/region_weekly/TUK_MRD_2021_22\n",
      "region_match: MRD, temp_region: MRD\n",
      "projects/alpod-412314/assets/region_weekly/TUK_MRD_2021_23\n",
      "region_match: MRD, temp_region: MRD\n",
      "projects/alpod-412314/assets/region_weekly/TUK_MRD_2021_24\n",
      "region_match: MRD, temp_region: MRD\n",
      "projects/alpod-412314/assets/region_weekly/TUK_MRD_2021_25\n",
      "region_match: MRD, temp_region: MRD\n",
      "projects/alpod-412314/assets/region_weekly/TUK_MRD_2021_26\n",
      "region_match: MRD, temp_region: MRD\n",
      "projects/alpod-412314/assets/region_weekly/TUK_MRD_2022_22\n",
      "region_match: MRD, temp_region: MRD\n",
      "projects/alpod-412314/assets/region_weekly/TUK_MRD_2022_23\n",
      "region_match: MRD, temp_region: MRD\n",
      "projects/alpod-412314/assets/region_weekly/TUK_MRD_2022_24\n",
      "region_match: MRD, temp_region: MRD\n",
      "projects/alpod-412314/assets/region_weekly/TUK_MRD_2022_25\n",
      "region_match: MRD, temp_region: MRD\n",
      "projects/alpod-412314/assets/region_weekly/TUK_MRD_2022_26\n",
      "region_match: MRD, temp_region: MRD\n",
      "projects/alpod-412314/assets/region_weekly/TUK_MRD_2023_22\n",
      "region_match: MRD, temp_region: MRD\n",
      "projects/alpod-412314/assets/region_weekly/TUK_MRD_2023_23\n",
      "region_match: MRD, temp_region: MRD\n",
      "projects/alpod-412314/assets/region_weekly/TUK_MRD_2023_24\n",
      "region_match: MRD, temp_region: MRD\n",
      "projects/alpod-412314/assets/region_weekly/TUK_MRD_2023_25\n",
      "region_match: MRD, temp_region: MRD\n",
      "projects/alpod-412314/assets/region_weekly/TUK_MRD_2023_26\n",
      "region_match: MRD, temp_region: MRD\n",
      "39\n"
     ]
    },
    {
     "data": {
      "text/plain": [
       "'\\nWrite the combined footprint as a bounding box shapefile.\\nMight be usefull later. \\n'"
      ]
     },
     "execution_count": 5,
     "metadata": {},
     "output_type": "execute_result"
    }
   ],
   "source": [
    "target_imgs = []\n",
    "target_imgs_footprints = []\n",
    "\n",
    "\n",
    "for mosaic in weekly_mosaics:\n",
    "    img_id = mosaic['id']\n",
    "    region_match = region.split('_')[-1]\n",
    "    temp_region = img_id.split('_')[-3]\n",
    "    temp_region = temp_region.split('/')[-1]\n",
    "    temp_year = img_id.split('_')[-2]\n",
    "    temp_week = img_id.split('_')[-1]\n",
    "\n",
    "    if temp_week in target_weeks and temp_year in target_years and temp_region == region_match:\n",
    "        #print(img_id)\n",
    "        print(f'region_match: {region_match}, temp_region: {temp_region}')\n",
    "        image = ee.Image(img_id)\n",
    "        image_info = image.getInfo()\n",
    "        #pp.pp(image_info)\n",
    "        image_coords = image_info['properties']['system:footprint']['coordinates']\n",
    "        image_polygon_ee = ee.Geometry.Polygon(image_coords)\n",
    "\n",
    "        target_imgs.append(image)\n",
    "        target_imgs_footprints.append(image_polygon_ee)\n",
    "\n",
    "\"\"\"\n",
    "A bit hacky, \n",
    "but I combine all the image footprints.\n",
    "This generates a bounding box for the entire ROI\n",
    "\"\"\"\n",
    "print(len(target_imgs))\n",
    "\n",
    "polygon1 = target_imgs_footprints[0]\n",
    "polygon2 = target_imgs_footprints[1]\n",
    "combined_footprint = polygon1.union(polygon2)\n",
    "for i in range(2, len(target_imgs_footprints)):\n",
    "    p = target_imgs_footprints[i]\n",
    "    combined_footprint = combined_footprint.union(p)\n",
    "\n",
    "\"\"\"\n",
    "Write the combined footprint as a bounding box shapefile.\n",
    "Might be usefull later. \n",
    "\"\"\"\n",
    "# combined_footprint_info = combined_ootprint.getInfo()\n",
    "# geojson_footprint = json.dumps(combined_footprint_info)\n",
    "# geometry = shape(json.loads(geojson_footprint))\n",
    "# roi_gdf = gpd.GeoDataFrame([{'geometry': geometry, 'roi': f'{region}'}], crs=\"EPSG:4326\")\n",
    "# os.chdir('/Users/jmaze/Documents/projects/altimetry_lakes_v3/')\n",
    "# roi_gdf.to_file(f'./data/ew_rois/{region}_bbox.shp')\n"
   ]
  },
  {
   "cell_type": "markdown",
   "id": "9240bbb8-db66-41f5-a337-acda18ee4dec",
   "metadata": {},
   "source": [
    "## 3.0 Make a classified image (maybe refactor code?)"
   ]
  },
  {
   "cell_type": "code",
   "execution_count": 6,
   "id": "0a9f1c97-f3a5-4c3a-8a13-17cd91e51072",
   "metadata": {},
   "outputs": [
    {
     "data": {
      "text/html": [
       "\n",
       "            <style>\n",
       "                .geemap-dark {\n",
       "                    --jp-widgets-color: white;\n",
       "                    --jp-widgets-label-color: white;\n",
       "                    --jp-ui-font-color1: white;\n",
       "                    --jp-layout-color2: #454545;\n",
       "                    background-color: #383838;\n",
       "                }\n",
       "\n",
       "                .geemap-dark .jupyter-button {\n",
       "                    --jp-layout-color3: #383838;\n",
       "                }\n",
       "\n",
       "                .geemap-colab {\n",
       "                    background-color: var(--colab-primary-surface-color, white);\n",
       "                }\n",
       "\n",
       "                .geemap-colab .jupyter-button {\n",
       "                    --jp-layout-color3: var(--colab-primary-surface-color, white);\n",
       "                }\n",
       "            </style>\n",
       "            "
      ],
      "text/plain": [
       "<IPython.core.display.HTML object>"
      ]
     },
     "metadata": {},
     "output_type": "display_data"
    }
   ],
   "source": [
    "\"\"\"\n",
    "From the weekly mosaic AND the original buffered lake polygons, produce a new image.\n",
    "The new image has one band with integers for all conditions.\n",
    "0 = Never observed, outside of ROI OR not a prior buffered lake\n",
    "1 = A valid observation of land on a buffered lake polygon\n",
    "2 = A valid observation of water on a buffered lake polygon\n",
    "3 = An invalid observatoin where could or ice cover obscured a lake polygon\n",
    "\n",
    "!!! There's definitely a cleaner way to do this, I might refactor code later.\n",
    "\"\"\"\n",
    "\n",
    "classified_images = []\n",
    "\n",
    "for img in target_imgs:\n",
    "\n",
    "    # Mask of valid observations over buffered lake polygons no clouds or ice\n",
    "    # !!! Probably not necessary\n",
    "    obs_mask = img.unmask(0)\n",
    "    obs_mask = obs_mask.rename('valid_observation')\n",
    "    obs_mask = obs_mask.clip(combined_footprint)\n",
    "    #print(obs_mask.getInfo())\n",
    "    \n",
    "    # Mask of valid water observations\n",
    "    img_wtr = ee.Image.constant(0)\n",
    "    img_wtr = img_wtr.where(img.select('water_occurance_max').eq(1), 2)\n",
    "    img_wtr = img_wtr.rename('wtr_occurance')\n",
    "    img_wtr = img_wtr.clip(combined_footprint)\n",
    "    \n",
    "    # Mask of valid land observations\n",
    "    img_land = ee.Image.constant(0)\n",
    "    img_land = img_land.where(img.select('water_occurance_max').eq(0), 1)\n",
    "    img_land = img_land.rename('land_occurance')\n",
    "    img_land = img_land.clip(combined_footprint)\n",
    "    \n",
    "    # Mask of prior lake polygons\n",
    "    lakes_binary = lake_polygons.reduceToImage(\n",
    "        properties=['n_lakes'],\n",
    "        reducer=ee.Reducer.anyNonZero()\n",
    "    ).neq(0)\n",
    "    lakes_binary = lakes_binary.rename('buffered_lake')\n",
    "    lakes_binary = lakes_binary.clip(combined_footprint)\n",
    "\n",
    "    expr = \"\"\"\n",
    "    (wtr_observed == 2) ? 2 :\n",
    "    (land_observed == 1) ? 1 :\n",
    "    ((buffered_lake == 1) && (land_observed == 0) && (wtr_observed != 2)) ? 3 :\n",
    "    0\n",
    "    \"\"\"\n",
    "    classified = ee.Image.constant(0)\n",
    "    classified = lakes_binary.expression(\n",
    "        expr,\n",
    "        {\n",
    "            'wtr_observed': img_wtr.select('wtr_occurance'),\n",
    "            'land_observed': img_land.select('land_occurance'),\n",
    "            'buffered_lake': lakes_binary.select('buffered_lake'),\n",
    "        }\n",
    "    )\n",
    "    \n",
    "    classified = classified.rename('class')\n",
    "    img_id = img.getInfo()['id']\n",
    "    classified = classified.set('mosaic_id', img_id)\n",
    "\n",
    "    classified_images.append(classified)"
   ]
  },
  {
   "cell_type": "code",
   "execution_count": 7,
   "id": "8796bba2-1ef8-46a4-9590-3bbed2669108",
   "metadata": {},
   "outputs": [
    {
     "data": {
      "text/html": [
       "\n",
       "            <style>\n",
       "                .geemap-dark {\n",
       "                    --jp-widgets-color: white;\n",
       "                    --jp-widgets-label-color: white;\n",
       "                    --jp-ui-font-color1: white;\n",
       "                    --jp-layout-color2: #454545;\n",
       "                    background-color: #383838;\n",
       "                }\n",
       "\n",
       "                .geemap-dark .jupyter-button {\n",
       "                    --jp-layout-color3: #383838;\n",
       "                }\n",
       "\n",
       "                .geemap-colab {\n",
       "                    background-color: var(--colab-primary-surface-color, white);\n",
       "                }\n",
       "\n",
       "                .geemap-colab .jupyter-button {\n",
       "                    --jp-layout-color3: var(--colab-primary-surface-color, white);\n",
       "                }\n",
       "            </style>\n",
       "            "
      ],
      "text/plain": [
       "<IPython.core.display.HTML object>"
      ]
     },
     "metadata": {},
     "output_type": "display_data"
    },
    {
     "name": "stdout",
     "output_type": "stream",
     "text": [
      "[{'type': 'Image',\n",
      "  'bands': [{'id': 'class',\n",
      "             'data_type': {'type': 'PixelType',\n",
      "                           'precision': 'int',\n",
      "                           'min': 0,\n",
      "                           'max': 3},\n",
      "             'crs': 'EPSG:4326',\n",
      "             'crs_transform': [1, 0, 0, 0, 1, 0]}],\n",
      "  'properties': {'mosaic_id': 'projects/alpod-412314/assets/region_weekly/TUK_MRD_2016_22'}},\n",
      " {'type': 'Image',\n",
      "  'bands': [{'id': 'class',\n",
      "             'data_type': {'type': 'PixelType',\n",
      "                           'precision': 'int',\n",
      "                           'min': 0,\n",
      "                           'max': 3},\n",
      "             'crs': 'EPSG:4326',\n",
      "             'crs_transform': [1, 0, 0, 0, 1, 0]}],\n",
      "  'properties': {'mosaic_id': 'projects/alpod-412314/assets/region_weekly/TUK_MRD_2016_23'}}]\n"
     ]
    }
   ],
   "source": [
    "info = []\n",
    "for i in classified_images[0:2]:\n",
    "    inf = i.getInfo()\n",
    "    info.append(inf)\n",
    "\n",
    "pp.pp(info)"
   ]
  },
  {
   "cell_type": "markdown",
   "id": "c8a0e2d9-383c-4766-bbb3-2643d81e00ab",
   "metadata": {},
   "source": [
    "## 4.0 Calculate the proportion of water occurance in valid observations (maybe refactor later?)"
   ]
  },
  {
   "cell_type": "code",
   "execution_count": 8,
   "id": "bbecb25d-7287-4eea-80c0-99ccdbc39f95",
   "metadata": {},
   "outputs": [
    {
     "data": {
      "text/html": [
       "\n",
       "            <style>\n",
       "                .geemap-dark {\n",
       "                    --jp-widgets-color: white;\n",
       "                    --jp-widgets-label-color: white;\n",
       "                    --jp-ui-font-color1: white;\n",
       "                    --jp-layout-color2: #454545;\n",
       "                    background-color: #383838;\n",
       "                }\n",
       "\n",
       "                .geemap-dark .jupyter-button {\n",
       "                    --jp-layout-color3: #383838;\n",
       "                }\n",
       "\n",
       "                .geemap-colab {\n",
       "                    background-color: var(--colab-primary-surface-color, white);\n",
       "                }\n",
       "\n",
       "                .geemap-colab .jupyter-button {\n",
       "                    --jp-layout-color3: var(--colab-primary-surface-color, white);\n",
       "                }\n",
       "            </style>\n",
       "            "
      ],
      "text/plain": [
       "<IPython.core.display.HTML object>"
      ]
     },
     "metadata": {},
     "output_type": "display_data"
    },
    {
     "name": "stdout",
     "output_type": "stream",
     "text": [
      "Highest possible total weeks 40, but observed total weeks 39\n",
      "{'type': 'Image',\n",
      " 'bands': [{'id': 'class',\n",
      "            'data_type': {'type': 'PixelType', 'precision': 'float'},\n",
      "            'dimensions': [10, 5],\n",
      "            'origin': [-138, 66],\n",
      "            'crs': 'EPSG:4326',\n",
      "            'crs_transform': [1, 0, 0, 0, 1, 0]}],\n",
      " 'properties': {'system:footprint': {'type': 'Polygon',\n",
      "                                     'coordinates': [[[-133.87256218520824,\n",
      "                                                       70.25460092151542],\n",
      "                                                      [-134.7883607795924,\n",
      "                                                       70.25473994077704],\n",
      "                                                      [-134.78853407688626,\n",
      "                                                       70.25473952660703],\n",
      "                                                      [-134.7932104971056,\n",
      "                                                       70.25474204495478],\n",
      "                                                      [-135.21222195076103,\n",
      "                                                       70.2544750672464],\n",
      "                                                      [-137.20737080019416,\n",
      "                                                       70.25377994301361],\n",
      "                                                      [-137.2073396466731,\n",
      "                                                       67.49652445202992],\n",
      "                                                      [-136.9420778107855,\n",
      "                                                       67.49685008684399],\n",
      "                                                      [-136.67700309750202,\n",
      "                                                       67.4965249166771],\n",
      "                                                      [-136.61073783720326,\n",
      "                                                       67.49664686279522],\n",
      "                                                      [-136.54447771662797,\n",
      "                                                       67.49652492868412],\n",
      "                                                      [-136.27940966280474,\n",
      "                                                       67.49685009915875],\n",
      "                                                      [-135.94811343299773,\n",
      "                                                       67.49637592398935],\n",
      "                                                      [-135.88185976405325,\n",
      "                                                       67.49652494171525],\n",
      "                                                      [-135.74932535258122,\n",
      "                                                       67.49619974944886],\n",
      "                                                      [-135.41798579703593,\n",
      "                                                       67.49680945609921],\n",
      "                                                      [-135.28548658198187,\n",
      "                                                       67.49664689440252],\n",
      "                                                      [-135.15298412634633,\n",
      "                                                       67.49680944747679],\n",
      "                                                      [-134.82164782646063,\n",
      "                                                       67.49619972858332],\n",
      "                                                      [-134.68912270633703,\n",
      "                                                       67.4965249100054],\n",
      "                                                      [-134.6891224588005,\n",
      "                                                       67.49652490949924],\n",
      "                                                      [-133.8277075055156,\n",
      "                                                       67.49599651221736],\n",
      "                                                      [-133.49637144697311,\n",
      "                                                       67.49674172424758],\n",
      "                                                      [-133.43013153952606,\n",
      "                                                       67.4966469144754],\n",
      "                                                      [-133.23141620550817,\n",
      "                                                       67.49685011181897],\n",
      "                                                      [-132.90003000001477,\n",
      "                                                       67.49637587755171],\n",
      "                                                      [-132.10487776699554,\n",
      "                                                       67.4963758920522],\n",
      "                                                      [-131.77352216560425,\n",
      "                                                       67.49685009705517],\n",
      "                                                      [-131.57477636742595,\n",
      "                                                       67.49664688767989],\n",
      "                                                      [-131.50853127803563,\n",
      "                                                       67.49674170240036],\n",
      "                                                      [-131.3759884183027,\n",
      "                                                       67.49652489762151],\n",
      "                                                      [-131.177189044761,\n",
      "                                                       67.49680943933808],\n",
      "                                                      [-130.97841233082784,\n",
      "                                                       67.49652491787612],\n",
      "                                                      [-130.8458824612197,\n",
      "                                                       67.49674170267077],\n",
      "                                                      [-130.5145734946193,\n",
      "                                                       67.49599654165199],\n",
      "                                                      [-130.31579045384467,\n",
      "                                                       67.496524935567],\n",
      "                                                      [-130.11699728329938,\n",
      "                                                       67.49599651802602],\n",
      "                                                      [-129.78568096083416,\n",
      "                                                       67.4967417065898],\n",
      "                                                      [-129.52063332807475,\n",
      "                                                       67.49619975351958],\n",
      "                                                      [-129.32184354793674,\n",
      "                                                       67.49664685798051],\n",
      "                                                      [-129.25558238928818,\n",
      "                                                       67.49652492220925],\n",
      "                                                      [-128.99054376500825,\n",
      "                                                       67.49685007280861],\n",
      "                                                      [-128.7252459691688,\n",
      "                                                       67.49652440966922],\n",
      "                                                      [-128.72524596699955,\n",
      "                                                       67.49674139176047],\n",
      "                                                      [-128.72524585701714,\n",
      "                                                       67.49674139162536],\n",
      "                                                      [-128.72521475397437,\n",
      "                                                       70.25377990351609],\n",
      "                                                      [-130.05906730688494,\n",
      "                                                       70.25571127297953],\n",
      "                                                      [-131.7735645180891,\n",
      "                                                       70.25378002722337],\n",
      "                                                      [-133.55096637412387,\n",
      "                                                       70.25416452929248],\n",
      "                                                      [-133.79457020262936,\n",
      "                                                       70.25437400090603],\n",
      "                                                      [-133.87256218520824,\n",
      "                                                       70.25460092151542]]]}}}\n"
     ]
    }
   ],
   "source": [
    "\"\"\"\n",
    "Create a collection...\n",
    "Then, calculate the total valid water observations \n",
    "AND invalid (ice/cloud) observations for each pixel\n",
    "\"\"\"\n",
    "classified_collection = ee.ImageCollection(classified_images)\n",
    "\n",
    "def binary_masks_from_classified_img(image, class_value):\n",
    "    return image.updateMask(image.eq(class_value)).multiply(0).add(1)\n",
    "\n",
    "# Create images for each class\n",
    "land_images = classified_collection.map(lambda img: binary_masks_from_classified_img(img.select('class'), 1))\n",
    "wtr_images = classified_collection.map(lambda img: binary_masks_from_classified_img(img.select('class'), 2))\n",
    "inval_images = classified_collection.map(lambda img: binary_masks_from_classified_img(img.select('class'), 3))\n",
    "\n",
    "# Sum the images\n",
    "wtr_sum_img = wtr_images.sum()\n",
    "#land_sum_img = land_images.sum()\n",
    "inval_observations_sum_img = inval_images.sum()\n",
    "\n",
    "\"\"\"\n",
    "Steps for water occurence percentage:\n",
    "\n",
    "1. Make a constant image for the max possible observations (i.e. all weeks cloud/ice free)\n",
    "2. Water occurence fraction = [total water observation / (max possible observations - invalid observations)]\n",
    "\"\"\"\n",
    "# Calc % water for observed images across each pixel\n",
    "total_obs = len(target_imgs)\n",
    "print(f'Highest possible total weeks {max_observations}, but observed total weeks {total_obs}')\n",
    "\n",
    "max_obs_image = ee.Image.constant(total_obs).clip(combined_footprint)\n",
    "wtr_occurance_frac = wtr_sum_img.divide(max_obs_image.subtract(inval_observations_sum_img))\n",
    "\n",
    "# Example: Print the result\n",
    "pp.pp(wtr_occurance_frac.getInfo())"
   ]
  },
  {
   "cell_type": "markdown",
   "id": "743bcb6b",
   "metadata": {},
   "source": [
    "## 5.0 Visualize and Export"
   ]
  },
  {
   "cell_type": "code",
   "execution_count": 9,
   "id": "df832fb0-2fd0-4cc4-9455-116d6d0b1bee",
   "metadata": {},
   "outputs": [
    {
     "data": {
      "text/html": [
       "\n",
       "            <style>\n",
       "                .geemap-dark {\n",
       "                    --jp-widgets-color: white;\n",
       "                    --jp-widgets-label-color: white;\n",
       "                    --jp-ui-font-color1: white;\n",
       "                    --jp-layout-color2: #454545;\n",
       "                    background-color: #383838;\n",
       "                }\n",
       "\n",
       "                .geemap-dark .jupyter-button {\n",
       "                    --jp-layout-color3: #383838;\n",
       "                }\n",
       "\n",
       "                .geemap-colab {\n",
       "                    background-color: var(--colab-primary-surface-color, white);\n",
       "                }\n",
       "\n",
       "                .geemap-colab .jupyter-button {\n",
       "                    --jp-layout-color3: var(--colab-primary-surface-color, white);\n",
       "                }\n",
       "            </style>\n",
       "            "
      ],
      "text/plain": [
       "<IPython.core.display.HTML object>"
      ]
     },
     "metadata": {},
     "output_type": "display_data"
    }
   ],
   "source": [
    "\"\"\"\n",
    "Not sure why changing the data type slows down the code???\n",
    "\"\"\"\n",
    "wtr_occurance_frac = wtr_occurance_frac.multiply(100).round()\n",
    "wtr_occurance_frac = wtr_occurance_frac.uint8()\n",
    "\n",
    "task = ee.batch.Export.image.toDrive(\n",
    "    image=wtr_occurance_frac,\n",
    "    description=f'{region}_years{target_years[0]}-{target_years[-1]}_weeks{target_weeks[0]}-{target_weeks[-1]}',\n",
    "    folder='sentinel2_exports_uint8',\n",
    "    fileNamePrefix=f'{region}_years{target_years[0]}-{target_years[-1]}_weeks{target_weeks[0]}-{target_weeks[-1]}',\n",
    "    scale=10,\n",
    "    crs='EPSG:4326',\n",
    "    region=roi_extent,\n",
    "    maxPixels=1e13\n",
    ")\n",
    "\n",
    "task.start()"
   ]
  },
  {
   "cell_type": "markdown",
   "id": "770d77c2-3416-4bc1-8c85-466371b23987",
   "metadata": {},
   "source": [
    "### 5.1 Visualize a random classified image"
   ]
  },
  {
   "cell_type": "code",
   "execution_count": 19,
   "id": "56e4790b-fa0d-4dd4-9142-8dd388dc7bde",
   "metadata": {},
   "outputs": [
    {
     "data": {
      "text/html": [
       "\n",
       "            <style>\n",
       "                .geemap-dark {\n",
       "                    --jp-widgets-color: white;\n",
       "                    --jp-widgets-label-color: white;\n",
       "                    --jp-ui-font-color1: white;\n",
       "                    --jp-layout-color2: #454545;\n",
       "                    background-color: #383838;\n",
       "                }\n",
       "\n",
       "                .geemap-dark .jupyter-button {\n",
       "                    --jp-layout-color3: #383838;\n",
       "                }\n",
       "\n",
       "                .geemap-colab {\n",
       "                    background-color: var(--colab-primary-surface-color, white);\n",
       "                }\n",
       "\n",
       "                .geemap-colab .jupyter-button {\n",
       "                    --jp-layout-color3: var(--colab-primary-surface-color, white);\n",
       "                }\n",
       "            </style>\n",
       "            "
      ],
      "text/plain": [
       "<IPython.core.display.HTML object>"
      ]
     },
     "metadata": {},
     "output_type": "display_data"
    }
   ],
   "source": [
    "# conditional_palette = ['grey', 'brown', 'blue', 'pink']\n",
    "# conditional_viz = {\n",
    "#     'band': ['class'],\n",
    "#     'min': 0,\n",
    "#     'max': 3,\n",
    "#     'palette': conditional_palette,\n",
    "# }\n",
    "\n",
    "# # Grab a random, classified image to inspect\n",
    "# conditional_test = ee.Image(classified_images[14])\n",
    "# print(conditional_test.getInfo())\n",
    "\n",
    "# # Create a map to display the results\n",
    "# Map = geemap.Map(center=(65, -135), zoom=4)\n",
    "# Map.add_basemap('SATELLITE')\n",
    "# Map.addLayer(conditional_test, conditional_viz, 'Conditional Test')\n",
    "\n",
    "# Map"
   ]
  },
  {
   "cell_type": "markdown",
   "id": "96e3f09c-f980-47ba-b494-faa29271947d",
   "metadata": {},
   "source": [
    "### 5.2 Visualize the water occurance fraction"
   ]
  },
  {
   "cell_type": "code",
   "execution_count": 15,
   "id": "f4c81e84-8b41-465a-b74e-3449d04812d0",
   "metadata": {
    "scrolled": true
   },
   "outputs": [
    {
     "data": {
      "text/html": [
       "\n",
       "            <style>\n",
       "                .geemap-dark {\n",
       "                    --jp-widgets-color: white;\n",
       "                    --jp-widgets-label-color: white;\n",
       "                    --jp-ui-font-color1: white;\n",
       "                    --jp-layout-color2: #454545;\n",
       "                    background-color: #383838;\n",
       "                }\n",
       "\n",
       "                .geemap-dark .jupyter-button {\n",
       "                    --jp-layout-color3: #383838;\n",
       "                }\n",
       "\n",
       "                .geemap-colab {\n",
       "                    background-color: var(--colab-primary-surface-color, white);\n",
       "                }\n",
       "\n",
       "                .geemap-colab .jupyter-button {\n",
       "                    --jp-layout-color3: var(--colab-primary-surface-color, white);\n",
       "                }\n",
       "            </style>\n",
       "            "
      ],
      "text/plain": [
       "<IPython.core.display.HTML object>"
      ]
     },
     "metadata": {},
     "output_type": "display_data"
    },
    {
     "data": {
      "application/vnd.jupyter.widget-view+json": {
       "model_id": "12eb5114d8084d56b40a6100550a073f",
       "version_major": 2,
       "version_minor": 0
      },
      "text/plain": [
       "Map(center=[65, -135], controls=(WidgetControl(options=['position', 'transparent_bg'], widget=SearchDataGUI(ch…"
      ]
     },
     "execution_count": 15,
     "metadata": {},
     "output_type": "execute_result"
    }
   ],
   "source": [
    "wtr_frac_viz = {\n",
    "    'bands': ['class'],\n",
    "    'min': 0,\n",
    "    'max': 100,\n",
    "    'palette': ['brown', 'green', 'blue']\n",
    "}\n",
    "\n",
    "\n",
    "Map = geemap.Map(center=(65, -135), zoom=4)\n",
    "Map.add_basemap('SATELLITE')\n",
    "Map.addLayer(wtr_occurance_frac, wtr_frac_viz, 'water frac')\n",
    "Map"
   ]
  },
  {
   "cell_type": "code",
   "execution_count": 36,
   "id": "9d870cbf-c80a-4c80-8206-8b5e4aa166f5",
   "metadata": {},
   "outputs": [
    {
     "data": {
      "text/html": [
       "\n",
       "            <style>\n",
       "                .geemap-dark {\n",
       "                    --jp-widgets-color: white;\n",
       "                    --jp-widgets-label-color: white;\n",
       "                    --jp-ui-font-color1: white;\n",
       "                    --jp-layout-color2: #454545;\n",
       "                    background-color: #383838;\n",
       "                }\n",
       "\n",
       "                .geemap-dark .jupyter-button {\n",
       "                    --jp-layout-color3: #383838;\n",
       "                }\n",
       "\n",
       "                .geemap-colab {\n",
       "                    background-color: var(--colab-primary-surface-color, white);\n",
       "                }\n",
       "\n",
       "                .geemap-colab .jupyter-button {\n",
       "                    --jp-layout-color3: var(--colab-primary-surface-color, white);\n",
       "                }\n",
       "            </style>\n",
       "            "
      ],
      "text/plain": [
       "<IPython.core.display.HTML object>"
      ]
     },
     "metadata": {},
     "output_type": "display_data"
    }
   ],
   "source": [
    "# band = wtr_occurance_frac.select('class')\n",
    "\n",
    "# coordinates = [\n",
    "#     [-146.42929053, 66.34721564],\n",
    "#     [-145.73500565, 66.32739946],\n",
    "#     [-145.74722181, 66.15123003],\n",
    "#     [-146.51124058, 66.15822638]\n",
    "# ]\n",
    "\n",
    "# # Create the polygon geometry\n",
    "# t = ee.Geometry.Polygon([coordinates])\n",
    "\n",
    "# histogram = band.reduceRegion(\n",
    "#     reducer=ee.Reducer.fixedHistogram(min=0, max=1, steps=20),\n",
    "#     geometry=combined_footprint,\n",
    "#     scale=10,\n",
    "#     maxPixels=1e13,\n",
    "# )\n",
    "# result = histogram.getInfo()\n",
    "\n",
    "# pp.pp(result)import matplotlib.pyplot as plt\n",
    "\n",
    "# class_values, frequencies = zip(*result['class'])\n",
    "\n",
    "# # Create a bar plot\n",
    "# plt.figure(figsize=(12, 6))\n",
    "# plt.bar(class_values, frequencies, width=0.03, align='center')\n",
    "# plt.xticks(class_values, rotation=45)  # Rotate x-ticks for better visibility\n",
    "# plt.grid(axis='y', linestyle='--', alpha=0.7)\n",
    "# plt.tight_layout()\n",
    "# plt.show()"
   ]
  },
  {
   "cell_type": "code",
   "execution_count": null,
   "id": "6c1aebd5-adde-4291-90a1-6db53ca69ef3",
   "metadata": {},
   "outputs": [],
   "source": []
  }
 ],
 "metadata": {
  "kernelspec": {
   "display_name": "Python 3 (ipykernel)",
   "language": "python",
   "name": "python3"
  },
  "language_info": {
   "codemirror_mode": {
    "name": "ipython",
    "version": 3
   },
   "file_extension": ".py",
   "mimetype": "text/x-python",
   "name": "python",
   "nbconvert_exporter": "python",
   "pygments_lexer": "ipython3",
   "version": "3.12.7"
  }
 },
 "nbformat": 4,
 "nbformat_minor": 5
}
