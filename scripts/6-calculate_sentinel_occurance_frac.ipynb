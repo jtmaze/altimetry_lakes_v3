{
 "cells": [
  {
   "cell_type": "markdown",
   "id": "19a246b2-5ad0-4c88-af77-aa0c7f41066c",
   "metadata": {},
   "source": [
    "## 1.0 Load libraries and read data"
   ]
  },
  {
   "cell_type": "code",
   "execution_count": 1,
   "id": "21fcaacf-bd67-4877-b546-f18baa5b8d49",
   "metadata": {},
   "outputs": [],
   "source": [
    "import ee\n",
    "import os\n",
    "import geemap\n",
    "import json\n",
    "import geopandas as gpd\n",
    "import pprint as pp\n",
    "from shapely.geometry import shape\n",
    "\n",
    "ee.Authenticate()\n",
    "ee.Initialize()"
   ]
  },
  {
   "cell_type": "code",
   "execution_count": 2,
   "id": "bf26b0bb-8cfc-4610-9f26-14109409c02f",
   "metadata": {},
   "outputs": [
    {
     "data": {
      "text/html": [
       "\n",
       "            <style>\n",
       "                .geemap-dark {\n",
       "                    --jp-widgets-color: white;\n",
       "                    --jp-widgets-label-color: white;\n",
       "                    --jp-ui-font-color1: white;\n",
       "                    --jp-layout-color2: #454545;\n",
       "                    background-color: #383838;\n",
       "                }\n",
       "\n",
       "                .geemap-dark .jupyter-button {\n",
       "                    --jp-layout-color3: #383838;\n",
       "                }\n",
       "\n",
       "                .geemap-colab {\n",
       "                    background-color: var(--colab-primary-surface-color, white);\n",
       "                }\n",
       "\n",
       "                .geemap-colab .jupyter-button {\n",
       "                    --jp-layout-color3: var(--colab-primary-surface-color, white);\n",
       "                }\n",
       "            </style>\n",
       "            "
      ],
      "text/plain": [
       "<IPython.core.display.HTML object>"
      ]
     },
     "metadata": {},
     "output_type": "display_data"
    }
   ],
   "source": [
    "project_dir = 'projects/alpod-412314/assets/' \n",
    "region = 'AKCP'\n",
    "\n",
    "region_path = f'{region}_weekly'\n",
    "folder = project_dir + region_path\n",
    "#pp.pp(ee.data.listAssets(project_dir))\n",
    "#pp.pp(ee.data.listAssets(project_dir + 'region_weekly/'))\n",
    "#pp.pp(ee.data.listAssets(f'{project_dir}Lake_extractions/'))\n",
    "\n",
    "# Read bufferd lake polygons\n",
    "region_buffered_lakes = 'AKCP' #!!! TUK_MRD is called TUK_MRD_AND for the lake regions\n",
    "lakes_path = f'{project_dir}Lake_extractions/{region_buffered_lakes}_extraction'\n",
    "lake_polygons = ee.FeatureCollection(lakes_path)\n",
    "\n",
    "# Read weekly mosaics\n",
    "weekly_mosaics = ee.data.listAssets(project_dir + 'region_weekly')\n",
    "weekly_mosaics = weekly_mosaics['assets']"
   ]
  },
  {
   "cell_type": "markdown",
   "id": "8c3b2923-788d-4807-9538-ea902fcf5687",
   "metadata": {},
   "source": [
    "## 2.0 Select weekly mosaics for given timeperiods and ROI"
   ]
  },
  {
   "cell_type": "code",
   "execution_count": 3,
   "id": "b9f76b16-b4c6-47f6-a08c-debafca4d6c7",
   "metadata": {},
   "outputs": [
    {
     "data": {
      "text/html": [
       "\n",
       "            <style>\n",
       "                .geemap-dark {\n",
       "                    --jp-widgets-color: white;\n",
       "                    --jp-widgets-label-color: white;\n",
       "                    --jp-ui-font-color1: white;\n",
       "                    --jp-layout-color2: #454545;\n",
       "                    background-color: #383838;\n",
       "                }\n",
       "\n",
       "                .geemap-dark .jupyter-button {\n",
       "                    --jp-layout-color3: #383838;\n",
       "                }\n",
       "\n",
       "                .geemap-colab {\n",
       "                    background-color: var(--colab-primary-surface-color, white);\n",
       "                }\n",
       "\n",
       "                .geemap-colab .jupyter-button {\n",
       "                    --jp-layout-color3: var(--colab-primary-surface-color, white);\n",
       "                }\n",
       "            </style>\n",
       "            "
      ],
      "text/plain": [
       "<IPython.core.display.HTML object>"
      ]
     },
     "metadata": {},
     "output_type": "display_data"
    }
   ],
   "source": [
    "target_years = list(range(2016, 2024))\n",
    "target_years = [str(year) for year in target_years]\n",
    "\n",
    "# June weeks !!!\n",
    "#target_weeks = list(range(22, 27))\n",
    "# August weeks !!!\n",
    "#target_weeks = list(range(31, 36))\n",
    "# September weeks !!!\n",
    "target_weeks = list(range(35, 41))\n",
    "\n",
    "target_weeks = [str(week) for week in target_weeks]\n",
    "\n",
    "max_observations = len(target_years) * len(target_weeks)\n",
    "\n",
    "target_imgs = []\n",
    "target_imgs_footprints = []\n",
    "\n",
    "for mosaic in weekly_mosaics:\n",
    "    img_id = mosaic['id']\n",
    "    region_match = region.split('_')[-1]\n",
    "    temp_region = img_id.split('_')[-3]\n",
    "    temp_region = temp_region.split('/')[-1]\n",
    "    temp_year = img_id.split('_')[-2]\n",
    "    temp_week = img_id.split('_')[-1]\n",
    "\n",
    "    if temp_week in target_weeks and temp_year in target_years and temp_region == region_match:\n",
    "        #print(img_id)\n",
    "        image = ee.Image(img_id)\n",
    "        image_info = image.getInfo()\n",
    "        #pp.pp(image_info)\n",
    "        image_coords = image_info['properties']['system:footprint']['coordinates']\n",
    "        image_polygon_ee = ee.Geometry.Polygon(image_coords)\n",
    "\n",
    "        target_imgs.append(image)\n",
    "        target_imgs_footprints.append(image_polygon_ee)\n",
    "\n",
    "\"\"\"\n",
    "A bit hacky, \n",
    "but I combine all the image footprints.\n",
    "This generates a bounding box for the entire ROI\n",
    "\"\"\"\n",
    "\n",
    "polygon1 = target_imgs_footprints[0]\n",
    "polygon2 = target_imgs_footprints[1]\n",
    "combined_footprint = polygon1.union(polygon2)\n",
    "for i in range(2, len(target_imgs_footprints)):\n",
    "    p = target_imgs_footprints[i]\n",
    "    combined_footprint = combined_footprint.union(p)\n",
    "\n",
    "\"\"\"\n",
    "Write the combined footprint as a bounding box shapefile.\n",
    "Might be usefull later. \n",
    "\"\"\"\n",
    "combined_footprint_info = combined_footprint.getInfo()\n",
    "geojson_footprint = json.dumps(combined_footprint_info)\n",
    "geometry = shape(json.loads(geojson_footprint))\n",
    "roi_gdf = gpd.GeoDataFrame([{'geometry': geometry, 'roi': f'{region}'}], crs=\"EPSG:4326\")\n",
    "# os.chdir('/Users/jmaze/Documents/projects/altimetry_lakes_v3/')\n",
    "# roi_gdf.to_file(f'./data/ew_rois/{region}_bbox.shp')\n"
   ]
  },
  {
   "cell_type": "markdown",
   "id": "9240bbb8-db66-41f5-a337-acda18ee4dec",
   "metadata": {},
   "source": [
    "## 3.0 Make a classified image (maybe refactor code?)"
   ]
  },
  {
   "cell_type": "code",
   "execution_count": 4,
   "id": "0a9f1c97-f3a5-4c3a-8a13-17cd91e51072",
   "metadata": {},
   "outputs": [
    {
     "data": {
      "text/html": [
       "\n",
       "            <style>\n",
       "                .geemap-dark {\n",
       "                    --jp-widgets-color: white;\n",
       "                    --jp-widgets-label-color: white;\n",
       "                    --jp-ui-font-color1: white;\n",
       "                    --jp-layout-color2: #454545;\n",
       "                    background-color: #383838;\n",
       "                }\n",
       "\n",
       "                .geemap-dark .jupyter-button {\n",
       "                    --jp-layout-color3: #383838;\n",
       "                }\n",
       "\n",
       "                .geemap-colab {\n",
       "                    background-color: var(--colab-primary-surface-color, white);\n",
       "                }\n",
       "\n",
       "                .geemap-colab .jupyter-button {\n",
       "                    --jp-layout-color3: var(--colab-primary-surface-color, white);\n",
       "                }\n",
       "            </style>\n",
       "            "
      ],
      "text/plain": [
       "<IPython.core.display.HTML object>"
      ]
     },
     "metadata": {},
     "output_type": "display_data"
    }
   ],
   "source": [
    "\"\"\"\n",
    "From the weekly mosaic AND the original buffered lake polygons, produce a new image.\n",
    "The new image has one band with integers for all conditions.\n",
    "0 = Never observed, outside of ROI OR not a prior buffered lake\n",
    "1 = A valid observation of land on a buffered lake polygon\n",
    "2 = A valid observation of water on a buffered lake polygon\n",
    "3 = An invalid observatoin where could or ice cover obscured a lake polygon\n",
    "\n",
    "!!! There's definitely a cleaner way to do this, I might refactor code later.\n",
    "\"\"\"\n",
    "\n",
    "classified_images = []\n",
    "\n",
    "for img in target_imgs:\n",
    "\n",
    "    # Mask of valid observations over buffered lake polygons no clouds or ice\n",
    "    # !!! Probably not necessary\n",
    "    obs_mask = img.unmask(0)\n",
    "    obs_mask = obs_mask.rename('valid_observation')\n",
    "    obs_mask = obs_mask.clip(combined_footprint)\n",
    "    #print(obs_mask.getInfo())\n",
    "    \n",
    "    # Mask of valid water observations\n",
    "    img_wtr = ee.Image.constant(0)\n",
    "    img_wtr = img_wtr.where(img.select('water_occurance').eq(1), 2)\n",
    "    img_wtr = img_wtr.rename('wtr_occurance')\n",
    "    img_wtr = img_wtr.clip(combined_footprint)\n",
    "    \n",
    "    # Mask of valid land observations\n",
    "    img_land = ee.Image.constant(0)\n",
    "    img_land = img_land.where(img.select('water_occurance').eq(0), 1)\n",
    "    img_land = img_land.rename('land_occurance')\n",
    "    img_land = img_land.clip(combined_footprint)\n",
    "    \n",
    "    # Mask of prior lake polygons\n",
    "    lakes_binary = lake_polygons.reduceToImage(\n",
    "        properties=['n_lakes'],\n",
    "        reducer=ee.Reducer.anyNonZero()\n",
    "    ).neq(0)\n",
    "    lakes_binary = lakes_binary.rename('buffered_lake')\n",
    "    lakes_binary = lakes_binary.clip(combined_footprint)\n",
    "\n",
    "    expr = \"\"\"\n",
    "    (wtr_observed == 2) ? 2 :\n",
    "    (land_observed == 1) ? 1 :\n",
    "    ((buffered_lake == 1) && (land_observed == 0) && (wtr_observed != 2)) ? 3 :\n",
    "    0\n",
    "    \"\"\"\n",
    "    classified = ee.Image.constant(0)\n",
    "    classified = lakes_binary.expression(\n",
    "        expr,\n",
    "        {\n",
    "            'wtr_observed': img_wtr.select('wtr_occurance'),\n",
    "            'land_observed': img_land.select('land_occurance'),\n",
    "            'buffered_lake': lakes_binary.select('buffered_lake'),\n",
    "        }\n",
    "    )\n",
    "    \n",
    "    classified = classified.rename('class')\n",
    "    img_id = img.getInfo()['id']\n",
    "    classified = classified.set('mosaic_id', img_id)\n",
    "\n",
    "    classified_images.append(classified)"
   ]
  },
  {
   "cell_type": "markdown",
   "id": "c8a0e2d9-383c-4766-bbb3-2643d81e00ab",
   "metadata": {},
   "source": [
    "## 4.0 Calculate the proportion of water occurance in valid observations (maybe refactor later?)"
   ]
  },
  {
   "cell_type": "code",
   "execution_count": 5,
   "id": "bbecb25d-7287-4eea-80c0-99ccdbc39f95",
   "metadata": {},
   "outputs": [
    {
     "data": {
      "text/html": [
       "\n",
       "            <style>\n",
       "                .geemap-dark {\n",
       "                    --jp-widgets-color: white;\n",
       "                    --jp-widgets-label-color: white;\n",
       "                    --jp-ui-font-color1: white;\n",
       "                    --jp-layout-color2: #454545;\n",
       "                    background-color: #383838;\n",
       "                }\n",
       "\n",
       "                .geemap-dark .jupyter-button {\n",
       "                    --jp-layout-color3: #383838;\n",
       "                }\n",
       "\n",
       "                .geemap-colab {\n",
       "                    background-color: var(--colab-primary-surface-color, white);\n",
       "                }\n",
       "\n",
       "                .geemap-colab .jupyter-button {\n",
       "                    --jp-layout-color3: var(--colab-primary-surface-color, white);\n",
       "                }\n",
       "            </style>\n",
       "            "
      ],
      "text/plain": [
       "<IPython.core.display.HTML object>"
      ]
     },
     "metadata": {},
     "output_type": "display_data"
    },
    {
     "name": "stdout",
     "output_type": "stream",
     "text": [
      "Highest possible total weeks 48, but observed total weeks 42\n",
      "{'type': 'Image',\n",
      " 'bands': [{'id': 'class',\n",
      "            'data_type': {'type': 'PixelType', 'precision': 'float'},\n",
      "            'dimensions': [29, 5],\n",
      "            'origin': [-164, 67],\n",
      "            'crs': 'EPSG:4326',\n",
      "            'crs_transform': [1, 0, 0, 0, 1, 0]}],\n",
      " 'properties': {'system:footprint': {'type': 'Polygon',\n",
      "                                     'coordinates': [[[-144.42213876606584,\n",
      "                                                       71.39880697395553],\n",
      "                                                      [-144.69890298296804,\n",
      "                                                       71.39817397915012],\n",
      "                                                      [-144.74797663366405,\n",
      "                                                       71.39801954980503],\n",
      "                                                      [-144.75176708018566,\n",
      "                                                       71.39800709292547],\n",
      "                                                      [-144.92991641195982,\n",
      "                                                       71.39733608844651],\n",
      "                                                      [-145.53245318794202,\n",
      "                                                       71.39382487537864],\n",
      "                                                      [-151.85326633174392,\n",
      "                                                       71.39709777004258],\n",
      "                                                      [-153.94837528991178,\n",
      "                                                       71.40440624691486],\n",
      "                                                      [-156.5961535123805,\n",
      "                                                       71.39473893931604],\n",
      "                                                      [-156.7144455671774,\n",
      "                                                       71.3951169362785],\n",
      "                                                      [-156.81540195682865,\n",
      "                                                       71.39538112267047],\n",
      "                                                      [-157.07051219619956,\n",
      "                                                       71.39580900204264],\n",
      "                                                      [-157.26874133290565,\n",
      "                                                       71.39590435601527],\n",
      "                                                      [-163.15782855961947,\n",
      "                                                       71.39077755368565],\n",
      "                                                      [-163.15779101142547,\n",
      "                                                       68.39145418746504],\n",
      "                                                      [-162.13901355001707,\n",
      "                                                       68.39781898449341],\n",
      "                                                      [-161.49573072231507,\n",
      "                                                       68.39452216959494],\n",
      "                                                      [-160.95965550578987,\n",
      "                                                       68.39744127278519],\n",
      "                                                      [-160.69162618787803,\n",
      "                                                       68.3961964713617],\n",
      "                                                      [-160.0483534780434,\n",
      "                                                       68.39846279992089],\n",
      "                                                      [-159.56587994909896,\n",
      "                                                       68.39699483417532],\n",
      "                                                      [-159.29784260241487,\n",
      "                                                       68.3979820727374],\n",
      "                                                      [-158.49374068593363,\n",
      "                                                       68.39373217328311],\n",
      "                                                      [-158.01127831559498,\n",
      "                                                       68.39674586852239],\n",
      "                                                      [-157.8504571287147,\n",
      "                                                       68.39589591861116],\n",
      "                                                      [-157.04634312960386,\n",
      "                                                       68.39860013845377],\n",
      "                                                      [-156.40306888804062,\n",
      "                                                       68.39674590799282],\n",
      "                                                      [-156.24225150490759,\n",
      "                                                       68.39744126987766],\n",
      "                                                      [-155.33092961099402,\n",
      "                                                       68.39145648806846],\n",
      "                                                      [-154.68764202586902,\n",
      "                                                       68.39619644501238],\n",
      "                                                      [-154.4196113670701,\n",
      "                                                       68.39452221505172],\n",
      "                                                      [-153.5083107253003,\n",
      "                                                       68.39846279645673],\n",
      "                                                      [-153.13304421104684,\n",
      "                                                       68.39744122501388],\n",
      "                                                      [-152.86499821916624,\n",
      "                                                       68.39825677355141],\n",
      "                                                      [-151.57844211143058,\n",
      "                                                       68.39042585146478],\n",
      "                                                      [-151.20319340024517,\n",
      "                                                       68.39373220276892],\n",
      "                                                      [-151.0959795003007,\n",
      "                                                       68.39287348702001],\n",
      "                                                      [-149.80941092879578,\n",
      "                                                       68.39864305896891],\n",
      "                                                      [-148.5228452508462,\n",
      "                                                       68.39287348172849],\n",
      "                                                      [-147.23627981516177,\n",
      "                                                       68.39864306281702],\n",
      "                                                      [-145.89610401565972,\n",
      "                                                       68.39241835401074],\n",
      "                                                      [-145.78889009107363,\n",
      "                                                       68.39331144570814],\n",
      "                                                      [-145.78889003139128,\n",
      "                                                       68.39331144523013],\n",
      "                                                      [-145.7494897350157,\n",
      "                                                       68.39362237497143],\n",
      "                                                      [-143.43018353749312,\n",
      "                                                       68.39557821414782],\n",
      "                                                      [-143.4301789163238,\n",
      "                                                       68.39557824227306],\n",
      "                                                      [-143.3229695990327,\n",
      "                                                       68.3948913900364],\n",
      "                                                      [-142.30444766447516,\n",
      "                                                       68.39864305661784],\n",
      "                                                      [-141.5539397778002,\n",
      "                                                       68.39647976475467],\n",
      "                                                      [-141.44672753219504,\n",
      "                                                       68.39699486225865],\n",
      "                                                      [-140.2673725095481,\n",
      "                                                       68.38754826282411],\n",
      "                                                      [-139.51687279135294,\n",
      "                                                       68.39452217977728],\n",
      "                                                      [-139.08801937866488,\n",
      "                                                       68.3909497854199],\n",
      "                                                      [-137.9086775825376,\n",
      "                                                       68.39812800436995],\n",
      "                                                      [-137.15816869777072,\n",
      "                                                       68.39452212177683],\n",
      "                                                      [-136.72930753971772,\n",
      "                                                       68.39699484201472],\n",
      "                                                      [-135.71053623657474,\n",
      "                                                       68.38932384970764],\n",
      "                                                      [-135.7104986705644,\n",
      "                                                       71.39077762530022],\n",
      "                                                      [-141.94026764697486,\n",
      "                                                       71.39765227656501],\n",
      "                                                      [-144.42213876606584,\n",
      "                                                       71.39880697395553]]]}}}\n"
     ]
    }
   ],
   "source": [
    "\"\"\"\n",
    "Create a collection...\n",
    "Then, calculate the total valid water observations \n",
    "AND invalid (ice/cloud) observations for each pixel\n",
    "\"\"\"\n",
    "classified_collection = ee.ImageCollection(classified_images)\n",
    "\n",
    "def mask_and_set_to_one(image, class_value):\n",
    "    return image.updateMask(image.eq(class_value)).multiply(0).add(1)\n",
    "\n",
    "# Create images for each class\n",
    "land_images = classified_collection.map(lambda img: mask_and_set_to_one(img.select('class'), 1))\n",
    "wtr_images = classified_collection.map(lambda img: mask_and_set_to_one(img.select('class'), 2))\n",
    "inval_images = classified_collection.map(lambda img: mask_and_set_to_one(img.select('class'), 3))\n",
    "\n",
    "# Sum the images\n",
    "wtr_sum_img = wtr_images.sum()\n",
    "#land_sum_img = land_images.sum()\n",
    "inval_observations_sum_img = inval_images.sum()\n",
    "\n",
    "\"\"\"\n",
    "Make a constant image for the max possible observations (i.e. all weeks cloud/ice free)\n",
    "For each pixel...\n",
    "Valid water occurance fraction = [total water observation / (max possible observations - invalid observations)]\n",
    "\"\"\"\n",
    "# Calc % water for observed images across each pixel\n",
    "total_obs = len(target_imgs)\n",
    "print(f'Highest possible total weeks {max_observations}, but observed total weeks {total_obs}')\n",
    "\n",
    "max_obs_image = ee.Image.constant(total_obs).clip(combined_footprint)\n",
    "wtr_occurance_frac = wtr_sum_img.divide(max_obs_image.subtract(inval_observations_sum_img))\n",
    "\n",
    "# Example: Print the result\n",
    "pp.pp(wtr_occurance_frac.getInfo())"
   ]
  },
  {
   "cell_type": "markdown",
   "id": "743bcb6b",
   "metadata": {},
   "source": [
    "## 5.0 Visualize and Export"
   ]
  },
  {
   "cell_type": "code",
   "execution_count": 5,
   "id": "df832fb0-2fd0-4cc4-9455-116d6d0b1bee",
   "metadata": {},
   "outputs": [
    {
     "data": {
      "text/html": [
       "\n",
       "            <style>\n",
       "                .geemap-dark {\n",
       "                    --jp-widgets-color: white;\n",
       "                    --jp-widgets-label-color: white;\n",
       "                    --jp-ui-font-color1: white;\n",
       "                    --jp-layout-color2: #454545;\n",
       "                    background-color: #383838;\n",
       "                }\n",
       "\n",
       "                .geemap-dark .jupyter-button {\n",
       "                    --jp-layout-color3: #383838;\n",
       "                }\n",
       "\n",
       "                .geemap-colab {\n",
       "                    background-color: var(--colab-primary-surface-color, white);\n",
       "                }\n",
       "\n",
       "                .geemap-colab .jupyter-button {\n",
       "                    --jp-layout-color3: var(--colab-primary-surface-color, white);\n",
       "                }\n",
       "            </style>\n",
       "            "
      ],
      "text/plain": [
       "<IPython.core.display.HTML object>"
      ]
     },
     "metadata": {},
     "output_type": "display_data"
    },
    {
     "ename": "NameError",
     "evalue": "name 'wtr_occurance_frac' is not defined",
     "output_type": "error",
     "traceback": [
      "\u001b[0;31m---------------------------------------------------------------------------\u001b[0m",
      "\u001b[0;31mNameError\u001b[0m                                 Traceback (most recent call last)",
      "Cell \u001b[0;32mIn[5], line 2\u001b[0m\n\u001b[1;32m      1\u001b[0m task \u001b[38;5;241m=\u001b[39m ee\u001b[38;5;241m.\u001b[39mbatch\u001b[38;5;241m.\u001b[39mExport\u001b[38;5;241m.\u001b[39mimage\u001b[38;5;241m.\u001b[39mtoDrive(\n\u001b[0;32m----> 2\u001b[0m     image\u001b[38;5;241m=\u001b[39m\u001b[43mwtr_occurance_frac\u001b[49m,\n\u001b[1;32m      3\u001b[0m     description\u001b[38;5;241m=\u001b[39m\u001b[38;5;124mf\u001b[39m\u001b[38;5;124m'\u001b[39m\u001b[38;5;124mv2_\u001b[39m\u001b[38;5;132;01m{\u001b[39;00mregion\u001b[38;5;132;01m}\u001b[39;00m\u001b[38;5;124m_years\u001b[39m\u001b[38;5;132;01m{\u001b[39;00mtarget_years[\u001b[38;5;241m0\u001b[39m]\u001b[38;5;132;01m}\u001b[39;00m\u001b[38;5;124m-\u001b[39m\u001b[38;5;132;01m{\u001b[39;00mtarget_years[\u001b[38;5;241m-\u001b[39m\u001b[38;5;241m1\u001b[39m]\u001b[38;5;132;01m}\u001b[39;00m\u001b[38;5;124m_weeks\u001b[39m\u001b[38;5;132;01m{\u001b[39;00mtarget_weeks[\u001b[38;5;241m0\u001b[39m]\u001b[38;5;132;01m}\u001b[39;00m\u001b[38;5;124m-\u001b[39m\u001b[38;5;132;01m{\u001b[39;00mtarget_weeks[\u001b[38;5;241m-\u001b[39m\u001b[38;5;241m1\u001b[39m]\u001b[38;5;132;01m}\u001b[39;00m\u001b[38;5;124m'\u001b[39m,\n\u001b[1;32m      4\u001b[0m     folder\u001b[38;5;241m=\u001b[39m\u001b[38;5;124m'\u001b[39m\u001b[38;5;124msentinel2_exports_uint8\u001b[39m\u001b[38;5;124m'\u001b[39m,\n\u001b[1;32m      5\u001b[0m     fileNamePrefix\u001b[38;5;241m=\u001b[39m\u001b[38;5;124mf\u001b[39m\u001b[38;5;124m'\u001b[39m\u001b[38;5;124mv2_\u001b[39m\u001b[38;5;132;01m{\u001b[39;00mregion\u001b[38;5;132;01m}\u001b[39;00m\u001b[38;5;124m_years\u001b[39m\u001b[38;5;132;01m{\u001b[39;00mtarget_years[\u001b[38;5;241m0\u001b[39m]\u001b[38;5;132;01m}\u001b[39;00m\u001b[38;5;124m-\u001b[39m\u001b[38;5;132;01m{\u001b[39;00mtarget_years[\u001b[38;5;241m-\u001b[39m\u001b[38;5;241m1\u001b[39m]\u001b[38;5;132;01m}\u001b[39;00m\u001b[38;5;124m_weeks\u001b[39m\u001b[38;5;132;01m{\u001b[39;00mtarget_weeks[\u001b[38;5;241m0\u001b[39m]\u001b[38;5;132;01m}\u001b[39;00m\u001b[38;5;124m-\u001b[39m\u001b[38;5;132;01m{\u001b[39;00mtarget_weeks[\u001b[38;5;241m-\u001b[39m\u001b[38;5;241m1\u001b[39m]\u001b[38;5;132;01m}\u001b[39;00m\u001b[38;5;124m'\u001b[39m,\n\u001b[1;32m      6\u001b[0m     scale\u001b[38;5;241m=\u001b[39m\u001b[38;5;241m10\u001b[39m,\n\u001b[1;32m      7\u001b[0m     crs\u001b[38;5;241m=\u001b[39m\u001b[38;5;124m'\u001b[39m\u001b[38;5;124mEPSG:4326\u001b[39m\u001b[38;5;124m'\u001b[39m,\n\u001b[1;32m      8\u001b[0m     maxPixels\u001b[38;5;241m=\u001b[39m\u001b[38;5;241m1e13\u001b[39m\n\u001b[1;32m      9\u001b[0m )\n\u001b[1;32m     11\u001b[0m \u001b[38;5;66;03m# task.start()\u001b[39;00m\n",
      "\u001b[0;31mNameError\u001b[0m: name 'wtr_occurance_frac' is not defined"
     ]
    }
   ],
   "source": [
    "\"\"\"\n",
    "Not sure why changing the data type slows down the code???\n",
    "\"\"\"\n",
    "wtr_occurance_frac = wtr_occurance_frac.multiply(100).round()\n",
    "wtr_occurance_frac = wtr_occurance_frac.uint8()\n",
    "\n",
    "task = ee.batch.Export.image.toDrive(\n",
    "    image=wtr_occurance_frac,\n",
    "    description=f'v2_{region}_years{target_years[0]}-{target_years[-1]}_weeks{target_weeks[0]}-{target_weeks[-1]}',\n",
    "    folder='sentinel2_exports_uint8',\n",
    "    fileNamePrefix=f'v2_{region}_years{target_years[0]}-{target_years[-1]}_weeks{target_weeks[0]}-{target_weeks[-1]}',\n",
    "    scale=10,\n",
    "    crs='EPSG:4326',\n",
    "    maxPixels=1e13\n",
    ")\n",
    "\n",
    "# task.start()"
   ]
  },
  {
   "cell_type": "code",
   "execution_count": 5,
   "id": "56e4790b-fa0d-4dd4-9142-8dd388dc7bde",
   "metadata": {},
   "outputs": [
    {
     "data": {
      "text/html": [
       "\n",
       "            <style>\n",
       "                .geemap-dark {\n",
       "                    --jp-widgets-color: white;\n",
       "                    --jp-widgets-label-color: white;\n",
       "                    --jp-ui-font-color1: white;\n",
       "                    --jp-layout-color2: #454545;\n",
       "                    background-color: #383838;\n",
       "                }\n",
       "\n",
       "                .geemap-dark .jupyter-button {\n",
       "                    --jp-layout-color3: #383838;\n",
       "                }\n",
       "\n",
       "                .geemap-colab {\n",
       "                    background-color: var(--colab-primary-surface-color, white);\n",
       "                }\n",
       "\n",
       "                .geemap-colab .jupyter-button {\n",
       "                    --jp-layout-color3: var(--colab-primary-surface-color, white);\n",
       "                }\n",
       "            </style>\n",
       "            "
      ],
      "text/plain": [
       "<IPython.core.display.HTML object>"
      ]
     },
     "metadata": {},
     "output_type": "display_data"
    },
    {
     "name": "stdout",
     "output_type": "stream",
     "text": [
      "{'type': 'Image', 'bands': [{'id': 'class', 'data_type': {'type': 'PixelType', 'precision': 'int', 'min': 0, 'max': 3}, 'crs': 'EPSG:4326', 'crs_transform': [1, 0, 0, 0, 1, 0]}], 'properties': {'mosaic_id': 'projects/alpod-412314/assets/region_weekly/AKCP_2022_37'}}\n"
     ]
    },
    {
     "data": {
      "application/vnd.jupyter.widget-view+json": {
       "model_id": "00b89d4768864bd9bd702e6de4a1ba34",
       "version_major": 2,
       "version_minor": 0
      },
      "text/plain": [
       "Map(center=[65, -135], controls=(WidgetControl(options=['position', 'transparent_bg'], widget=SearchDataGUI(ch…"
      ]
     },
     "execution_count": 5,
     "metadata": {},
     "output_type": "execute_result"
    }
   ],
   "source": [
    "conditional_palette = ['grey', 'brown', 'blue', 'pink']\n",
    "conditional_viz = {\n",
    "    'band': ['class'],\n",
    "    'min': 0,\n",
    "    'max': 3,\n",
    "    'palette': conditional_palette,\n",
    "}\n",
    "\n",
    "# Grab a random, classified image to inspect\n",
    "conditional_test = ee.Image(classified_images[33])\n",
    "print(conditional_test.getInfo())\n",
    "\n",
    "# Create a map to display the results\n",
    "Map = geemap.Map(center=(65, -135), zoom=4)\n",
    "Map.add_basemap('SATELLITE')\n",
    "Map.addLayer(conditional_test, conditional_viz, 'Conditional Test')\n",
    "\n",
    "Map"
   ]
  },
  {
   "cell_type": "code",
   "execution_count": 7,
   "id": "f4c81e84-8b41-465a-b74e-3449d04812d0",
   "metadata": {},
   "outputs": [
    {
     "data": {
      "text/html": [
       "\n",
       "            <style>\n",
       "                .geemap-dark {\n",
       "                    --jp-widgets-color: white;\n",
       "                    --jp-widgets-label-color: white;\n",
       "                    --jp-ui-font-color1: white;\n",
       "                    --jp-layout-color2: #454545;\n",
       "                    background-color: #383838;\n",
       "                }\n",
       "\n",
       "                .geemap-dark .jupyter-button {\n",
       "                    --jp-layout-color3: #383838;\n",
       "                }\n",
       "\n",
       "                .geemap-colab {\n",
       "                    background-color: var(--colab-primary-surface-color, white);\n",
       "                }\n",
       "\n",
       "                .geemap-colab .jupyter-button {\n",
       "                    --jp-layout-color3: var(--colab-primary-surface-color, white);\n",
       "                }\n",
       "            </style>\n",
       "            "
      ],
      "text/plain": [
       "<IPython.core.display.HTML object>"
      ]
     },
     "metadata": {},
     "output_type": "display_data"
    },
    {
     "data": {
      "application/vnd.jupyter.widget-view+json": {
       "model_id": "66078ad860aa47deb3e6f7ab24b993c3",
       "version_major": 2,
       "version_minor": 0
      },
      "text/plain": [
       "Map(center=[65, -135], controls=(WidgetControl(options=['position', 'transparent_bg'], widget=SearchDataGUI(ch…"
      ]
     },
     "execution_count": 7,
     "metadata": {},
     "output_type": "execute_result"
    }
   ],
   "source": [
    "wtr_frac_viz = {\n",
    "    'bands': ['class'],\n",
    "    'min': 0,\n",
    "    'max': 100,\n",
    "    'palette': ['brown', 'green', 'blue']\n",
    "}\n",
    "\n",
    "\n",
    "Map = geemap.Map(center=(65, -135), zoom=4)\n",
    "Map.addLayer(wtr_occurance_frac, wtr_frac_viz, 'water frac')\n",
    "Map"
   ]
  },
  {
   "cell_type": "code",
   "execution_count": null,
   "id": "b154466a-ae67-44bb-a30d-49080605d64f",
   "metadata": {},
   "outputs": [],
   "source": []
  },
  {
   "cell_type": "code",
   "execution_count": null,
   "id": "9d870cbf-c80a-4c80-8206-8b5e4aa166f5",
   "metadata": {},
   "outputs": [],
   "source": [
    "# band = wtr_occurance_frac.select('class')\n",
    "\n",
    "# coordinates = [\n",
    "#     [-146.42929053, 66.34721564],\n",
    "#     [-145.73500565, 66.32739946],\n",
    "#     [-145.74722181, 66.15123003],\n",
    "#     [-146.51124058, 66.15822638]\n",
    "# ]\n",
    "\n",
    "# # Create the polygon geometry\n",
    "# t = ee.Geometry.Polygon([coordinates])\n",
    "\n",
    "# histogram = band.reduceRegion(\n",
    "#     reducer=ee.Reducer.fixedHistogram(min=0, max=1, steps=20),\n",
    "#     geometry=combined_footprint,\n",
    "#     scale=10,\n",
    "#     maxPixels=1e13,\n",
    "# )\n",
    "# result = histogram.getInfo()\n",
    "\n",
    "# pp.pp(result)import matplotlib.pyplot as plt\n",
    "\n",
    "# class_values, frequencies = zip(*result['class'])\n",
    "\n",
    "# # Create a bar plot\n",
    "# plt.figure(figsize=(12, 6))\n",
    "# plt.bar(class_values, frequencies, width=0.03, align='center')\n",
    "# plt.xticks(class_values, rotation=45)  # Rotate x-ticks for better visibility\n",
    "# plt.grid(axis='y', linestyle='--', alpha=0.7)\n",
    "# plt.tight_layout()\n",
    "# plt.show()"
   ]
  },
  {
   "cell_type": "code",
   "execution_count": null,
   "id": "6c1aebd5-adde-4291-90a1-6db53ca69ef3",
   "metadata": {},
   "outputs": [],
   "source": []
  }
 ],
 "metadata": {
  "kernelspec": {
   "display_name": "Python 3 (ipykernel)",
   "language": "python",
   "name": "python3"
  },
  "language_info": {
   "codemirror_mode": {
    "name": "ipython",
    "version": 3
   },
   "file_extension": ".py",
   "mimetype": "text/x-python",
   "name": "python",
   "nbconvert_exporter": "python",
   "pygments_lexer": "ipython3",
   "version": "3.12.4"
  }
 },
 "nbformat": 4,
 "nbformat_minor": 5
}
