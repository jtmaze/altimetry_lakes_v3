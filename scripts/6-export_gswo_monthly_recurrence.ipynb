{
 "cells": [
  {
   "cell_type": "markdown",
   "id": "499e6c33-5e97-4192-9af5-4500b269ce1f",
   "metadata": {},
   "source": [
    "### 1.0 Libraries and directories"
   ]
  },
  {
   "cell_type": "code",
   "execution_count": 1,
   "id": "98e379c8-9309-469f-83f1-df6f40fbe48b",
   "metadata": {},
   "outputs": [],
   "source": [
    "import os\n",
    "import glob\n",
    "import pprint as pp\n",
    "import pandas as pd\n",
    "import geopandas as gpd\n",
    "import ee\n",
    "import geemap\n",
    "\n",
    "ee.Authenticate()\n",
    "ee.Initialize()"
   ]
  },
  {
   "cell_type": "code",
   "execution_count": 2,
   "id": "74ba0648-ed82-46fe-bd49-1d5571e97928",
   "metadata": {},
   "outputs": [
    {
     "data": {
      "text/html": [
       "\n",
       "            <style>\n",
       "                .geemap-dark {\n",
       "                    --jp-widgets-color: white;\n",
       "                    --jp-widgets-label-color: white;\n",
       "                    --jp-ui-font-color1: white;\n",
       "                    --jp-layout-color2: #454545;\n",
       "                    background-color: #383838;\n",
       "                }\n",
       "\n",
       "                .geemap-dark .jupyter-button {\n",
       "                    --jp-layout-color3: #383838;\n",
       "                }\n",
       "\n",
       "                .geemap-colab {\n",
       "                    background-color: var(--colab-primary-surface-color, white);\n",
       "                }\n",
       "\n",
       "                .geemap-colab .jupyter-button {\n",
       "                    --jp-layout-color3: var(--colab-primary-surface-color, white);\n",
       "                }\n",
       "            </style>\n",
       "            "
      ],
      "text/plain": [
       "<IPython.core.display.HTML object>"
      ]
     },
     "metadata": {},
     "output_type": "display_data"
    },
    {
     "name": "stdout",
     "output_type": "stream",
     "text": [
      "['TUK_MRD', 'YKF', 'YKD', 'AKCP']\n"
     ]
    }
   ],
   "source": [
    "os.chdir('/Users/jmaze/Documents/projects/altimetry_lakes_v3/')\n",
    "\n",
    "rois_pattern = f'./data/ew_rois/*_bbox.shp'\n",
    "rois_file_list = glob.glob(rois_pattern)\n",
    "\n",
    "rois = [gpd.read_file(file) for file in rois_file_list]\n",
    "combined_rois = gpd.GeoDataFrame(pd.concat(rois, ignore_index=True))\n",
    "combined_rois.crs = rois[0].crs\n",
    "\n",
    "\n",
    "roi_names = combined_rois['roi'].to_list()\n",
    "\n",
    "print(roi_names)\n",
    "\n",
    "gswo_monthly_recurrence = ee.ImageCollection('JRC/GSW1_4/MonthlyRecurrence')\n",
    "june = 6\n",
    "aug = 8\n",
    "june_data = gswo_monthly_recurrence.filter(ee.Filter.eq('month', june)).first()\n",
    "aug_data = gswo_monthly_recurrence.filter(ee.Filter.eq('month', june)).first()"
   ]
  },
  {
   "cell_type": "code",
   "execution_count": 3,
   "id": "d0d2921c-afab-4981-a98e-488442cdd489",
   "metadata": {},
   "outputs": [
    {
     "data": {
      "text/html": [
       "\n",
       "            <style>\n",
       "                .geemap-dark {\n",
       "                    --jp-widgets-color: white;\n",
       "                    --jp-widgets-label-color: white;\n",
       "                    --jp-ui-font-color1: white;\n",
       "                    --jp-layout-color2: #454545;\n",
       "                    background-color: #383838;\n",
       "                }\n",
       "\n",
       "                .geemap-dark .jupyter-button {\n",
       "                    --jp-layout-color3: #383838;\n",
       "                }\n",
       "\n",
       "                .geemap-colab {\n",
       "                    background-color: var(--colab-primary-surface-color, white);\n",
       "                }\n",
       "\n",
       "                .geemap-colab .jupyter-button {\n",
       "                    --jp-layout-color3: var(--colab-primary-surface-color, white);\n",
       "                }\n",
       "            </style>\n",
       "            "
      ],
      "text/plain": [
       "<IPython.core.display.HTML object>"
      ]
     },
     "metadata": {},
     "output_type": "display_data"
    }
   ],
   "source": [
    "def export_rois(gdf, target_img, month_name, roi_name):\n",
    "\n",
    "    roi = gdf[gdf['roi'] == roi_name]\n",
    "    # weird geopandas attribute returning a python data structure as a GeoJSON feature collection \n",
    "    roi_json = roi.geometry.iloc[0].__geo_interface__\n",
    "    roi_coords = roi_json['coordinates']\n",
    "    bounds = ee.Geometry.Polygon(roi_coords)\n",
    "\n",
    "    clipped_img = target_img.clip(bounds)\n",
    "\n",
    "    export_params = {\n",
    "        'image': clipped_img,\n",
    "        'description': f'GSWORecurrence_{roi_name}_{month_name}', \n",
    "        'fileNamePrefix': f'GSWORecurrence_{roi_name}_{month_name}',\n",
    "        'folder': 'gswo_exports', \n",
    "        'scale': 30,\n",
    "        'crs': 'EPSG:4326',\n",
    "        'region': bounds,\n",
    "        'fileFormat': 'GeoTIFF',\n",
    "        'maxPixels': 1e13\n",
    "    }\n",
    "\n",
    "    ee.batch.Export.image.toDrive(**export_params).start()\n",
    "        \n",
    "    "
   ]
  },
  {
   "cell_type": "code",
   "execution_count": 4,
   "id": "a9c7a5f1-5ac1-44f2-8a50-bfbd353ef527",
   "metadata": {},
   "outputs": [
    {
     "data": {
      "text/html": [
       "\n",
       "            <style>\n",
       "                .geemap-dark {\n",
       "                    --jp-widgets-color: white;\n",
       "                    --jp-widgets-label-color: white;\n",
       "                    --jp-ui-font-color1: white;\n",
       "                    --jp-layout-color2: #454545;\n",
       "                    background-color: #383838;\n",
       "                }\n",
       "\n",
       "                .geemap-dark .jupyter-button {\n",
       "                    --jp-layout-color3: #383838;\n",
       "                }\n",
       "\n",
       "                .geemap-colab {\n",
       "                    background-color: var(--colab-primary-surface-color, white);\n",
       "                }\n",
       "\n",
       "                .geemap-colab .jupyter-button {\n",
       "                    --jp-layout-color3: var(--colab-primary-surface-color, white);\n",
       "                }\n",
       "            </style>\n",
       "            "
      ],
      "text/plain": [
       "<IPython.core.display.HTML object>"
      ]
     },
     "metadata": {},
     "output_type": "display_data"
    }
   ],
   "source": [
    "datasets = [june_data, aug_data]\n",
    "month_names = ['june', 'aug']\n",
    "\n",
    "monthly_datasets = list(zip(month_names, datasets))\n",
    "\n",
    "for month, ds in monthly_datasets:\n",
    "    for roi_name in roi_names:\n",
    "        export_rois(combined_rois, ds, month, roi_name)"
   ]
  },
  {
   "cell_type": "code",
   "execution_count": null,
   "id": "8da7360c-530a-4f0b-aed2-6813e0100418",
   "metadata": {},
   "outputs": [],
   "source": []
  }
 ],
 "metadata": {
  "kernelspec": {
   "display_name": "Python 3 (ipykernel)",
   "language": "python",
   "name": "python3"
  },
  "language_info": {
   "codemirror_mode": {
    "name": "ipython",
    "version": 3
   },
   "file_extension": ".py",
   "mimetype": "text/x-python",
   "name": "python",
   "nbconvert_exporter": "python",
   "pygments_lexer": "ipython3",
   "version": "3.12.4"
  }
 },
 "nbformat": 4,
 "nbformat_minor": 5
}
