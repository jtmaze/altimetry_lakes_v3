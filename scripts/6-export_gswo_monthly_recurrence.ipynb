{
 "cells": [
  {
   "cell_type": "markdown",
   "id": "499e6c33-5e97-4192-9af5-4500b269ce1f",
   "metadata": {},
   "source": [
    "### 1.0 Libraries and directories"
   ]
  },
  {
   "cell_type": "code",
   "execution_count": 1,
   "id": "98e379c8-9309-469f-83f1-df6f40fbe48b",
   "metadata": {},
   "outputs": [],
   "source": [
    "import glob\n",
    "import pprint as pp\n",
    "import pandas as pd\n",
    "import geopandas as gpd\n",
    "import ee\n",
    "import geemap\n",
    "\n",
    "ee.Authenticate()\n",
    "ee.Initialize()"
   ]
  },
  {
   "cell_type": "code",
   "execution_count": 2,
   "id": "74ba0648-ed82-46fe-bd49-1d5571e97928",
   "metadata": {},
   "outputs": [
    {
     "data": {
      "text/html": [
       "\n",
       "            <style>\n",
       "                .geemap-dark {\n",
       "                    --jp-widgets-color: white;\n",
       "                    --jp-widgets-label-color: white;\n",
       "                    --jp-ui-font-color1: white;\n",
       "                    --jp-layout-color2: #454545;\n",
       "                    background-color: #383838;\n",
       "                }\n",
       "\n",
       "                .geemap-dark .jupyter-button {\n",
       "                    --jp-layout-color3: #383838;\n",
       "                }\n",
       "\n",
       "                .geemap-colab {\n",
       "                    background-color: var(--colab-primary-surface-color, white);\n",
       "                }\n",
       "\n",
       "                .geemap-colab .jupyter-button {\n",
       "                    --jp-layout-color3: var(--colab-primary-surface-color, white);\n",
       "                }\n",
       "            </style>\n",
       "            "
      ],
      "text/plain": [
       "<IPython.core.display.HTML object>"
      ]
     },
     "metadata": {},
     "output_type": "display_data"
    },
    {
     "name": "stdout",
     "output_type": "stream",
     "text": [
      "['projects/alpod-412314/assets/ROIs/AKCP_roi',\n",
      " 'projects/alpod-412314/assets/ROIs/MRD_TUK_Anderson_roi',\n",
      " 'projects/alpod-412314/assets/ROIs/MRD_roi',\n",
      " 'projects/alpod-412314/assets/ROIs/TUK_roi',\n",
      " 'projects/alpod-412314/assets/ROIs/YKdelta_roi',\n",
      " 'projects/alpod-412314/assets/ROIs/YKflats_roi',\n",
      " 'projects/alpod-412314/assets/ROIs/anderson_plain_roi']\n"
     ]
    }
   ],
   "source": [
    "rois = ee.data.listAssets('projects/alpod-412314/assets/ROIs/')\n",
    "rois_ids = [roi['id'] for roi in rois['assets']]\n",
    "rois_ids.remove('projects/alpod-412314/assets/ROIs/all_regions')\n",
    "pp.pp(rois_ids)\n",
    "\n",
    "\n",
    "gswo_monthly_recurrence = ee.ImageCollection('JRC/GSW1_4/MonthlyRecurrence')\n",
    "june = 6\n",
    "aug = 8\n",
    "june_data = gswo_monthly_recurrence.filter(ee.Filter.eq('month', june)).first()\n",
    "aug_data = gswo_monthly_recurrence.filter(ee.Filter.eq('month', june)).first()"
   ]
  },
  {
   "cell_type": "code",
   "execution_count": 3,
   "id": "d0d2921c-afab-4981-a98e-488442cdd489",
   "metadata": {},
   "outputs": [
    {
     "data": {
      "text/html": [
       "\n",
       "            <style>\n",
       "                .geemap-dark {\n",
       "                    --jp-widgets-color: white;\n",
       "                    --jp-widgets-label-color: white;\n",
       "                    --jp-ui-font-color1: white;\n",
       "                    --jp-layout-color2: #454545;\n",
       "                    background-color: #383838;\n",
       "                }\n",
       "\n",
       "                .geemap-dark .jupyter-button {\n",
       "                    --jp-layout-color3: #383838;\n",
       "                }\n",
       "\n",
       "                .geemap-colab {\n",
       "                    background-color: var(--colab-primary-surface-color, white);\n",
       "                }\n",
       "\n",
       "                .geemap-colab .jupyter-button {\n",
       "                    --jp-layout-color3: var(--colab-primary-surface-color, white);\n",
       "                }\n",
       "            </style>\n",
       "            "
      ],
      "text/plain": [
       "<IPython.core.display.HTML object>"
      ]
     },
     "metadata": {},
     "output_type": "display_data"
    }
   ],
   "source": [
    "def export_rois(roi_id, target_img, month_name):\n",
    "    \n",
    "    roi_name_temp = roi_id.split('/')[-1]\n",
    "    roi_name = roi_name_temp.split('_roi')[0]\n",
    "    feature = ee.FeatureCollection(roi_id).first()\n",
    "    bounds = feature.geometry()\n",
    "\n",
    "    clipped_img = target_img.clip(bounds)\n",
    "\n",
    "    export_params = {\n",
    "        'image': clipped_img,\n",
    "        'description': f'GSWORecurrence_{roi_name}_month_{month_name}_', \n",
    "        'fileNamePrefix': f'GSWORecurrence_{roi_name}_month_{month_name}_',\n",
    "        'folder': 'gswo_exports', \n",
    "        'scale': 30,\n",
    "        'crs': 'EPSG:4326',\n",
    "        'region': bounds,\n",
    "        'fileFormat': 'GeoTIFF',\n",
    "        'maxPixels': 1e13\n",
    "    }\n",
    "\n",
    "    ee.batch.Export.image.toDrive(**export_params).start()"
   ]
  },
  {
   "cell_type": "code",
   "execution_count": 4,
   "id": "a9c7a5f1-5ac1-44f2-8a50-bfbd353ef527",
   "metadata": {},
   "outputs": [
    {
     "data": {
      "text/html": [
       "\n",
       "            <style>\n",
       "                .geemap-dark {\n",
       "                    --jp-widgets-color: white;\n",
       "                    --jp-widgets-label-color: white;\n",
       "                    --jp-ui-font-color1: white;\n",
       "                    --jp-layout-color2: #454545;\n",
       "                    background-color: #383838;\n",
       "                }\n",
       "\n",
       "                .geemap-dark .jupyter-button {\n",
       "                    --jp-layout-color3: #383838;\n",
       "                }\n",
       "\n",
       "                .geemap-colab {\n",
       "                    background-color: var(--colab-primary-surface-color, white);\n",
       "                }\n",
       "\n",
       "                .geemap-colab .jupyter-button {\n",
       "                    --jp-layout-color3: var(--colab-primary-surface-color, white);\n",
       "                }\n",
       "            </style>\n",
       "            "
      ],
      "text/plain": [
       "<IPython.core.display.HTML object>"
      ]
     },
     "metadata": {},
     "output_type": "display_data"
    }
   ],
   "source": [
    "datasets = [june_data, aug_data]\n",
    "month_names = ['june', 'aug']\n",
    "\n",
    "monthly_datasets = list(zip(month_names, datasets))\n",
    "\n",
    "for month, ds in monthly_datasets:\n",
    "    for roi_id in rois_ids:\n",
    "        export_rois(roi_id, ds, month)"
   ]
  },
  {
   "cell_type": "code",
   "execution_count": null,
   "id": "62f5ba7a-dcb3-4707-90a0-c6ee3d49e3f7",
   "metadata": {},
   "outputs": [],
   "source": []
  }
 ],
 "metadata": {
  "kernelspec": {
   "display_name": "Python 3 (ipykernel)",
   "language": "python",
   "name": "python3"
  },
  "language_info": {
   "codemirror_mode": {
    "name": "ipython",
    "version": 3
   },
   "file_extension": ".py",
   "mimetype": "text/x-python",
   "name": "python",
   "nbconvert_exporter": "python",
   "pygments_lexer": "ipython3",
   "version": "3.12.4"
  }
 },
 "nbformat": 4,
 "nbformat_minor": 5
}
