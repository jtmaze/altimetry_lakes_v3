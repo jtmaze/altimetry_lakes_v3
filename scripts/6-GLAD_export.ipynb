{
 "cells": [
  {
   "cell_type": "markdown",
   "id": "fa19f860-cce4-46a5-bf93-b7c9595e2b92",
   "metadata": {},
   "source": [
    "### 1.0 Libraries and Directories"
   ]
  },
  {
   "cell_type": "code",
   "execution_count": 1,
   "id": "e6cec5ef-4097-4099-ad55-323c4e20500f",
   "metadata": {},
   "outputs": [],
   "source": [
    "import ee\n",
    "import geemap\n",
    "import pprint as pp"
   ]
  },
  {
   "cell_type": "code",
   "execution_count": 2,
   "id": "23d36609-9d83-4b52-b4a5-a48ff4c314a5",
   "metadata": {},
   "outputs": [
    {
     "data": {
      "text/html": [
       "\n",
       "            <style>\n",
       "                .geemap-dark {\n",
       "                    --jp-widgets-color: white;\n",
       "                    --jp-widgets-label-color: white;\n",
       "                    --jp-ui-font-color1: white;\n",
       "                    --jp-layout-color2: #454545;\n",
       "                    background-color: #383838;\n",
       "                }\n",
       "\n",
       "                .geemap-dark .jupyter-button {\n",
       "                    --jp-layout-color3: #383838;\n",
       "                }\n",
       "\n",
       "                .geemap-colab {\n",
       "                    background-color: var(--colab-primary-surface-color, white);\n",
       "                }\n",
       "\n",
       "                .geemap-colab .jupyter-button {\n",
       "                    --jp-layout-color3: var(--colab-primary-surface-color, white);\n",
       "                }\n",
       "            </style>\n",
       "            "
      ],
      "text/plain": [
       "<IPython.core.display.HTML object>"
      ]
     },
     "metadata": {},
     "output_type": "display_data"
    }
   ],
   "source": [
    "ee.Authenticate()\n",
    "ee.Initialize()"
   ]
  },
  {
   "cell_type": "code",
   "execution_count": 3,
   "id": "b22a9e92-8a4a-409b-96e7-4acc8792d81c",
   "metadata": {},
   "outputs": [
    {
     "data": {
      "text/html": [
       "\n",
       "            <style>\n",
       "                .geemap-dark {\n",
       "                    --jp-widgets-color: white;\n",
       "                    --jp-widgets-label-color: white;\n",
       "                    --jp-ui-font-color1: white;\n",
       "                    --jp-layout-color2: #454545;\n",
       "                    background-color: #383838;\n",
       "                }\n",
       "\n",
       "                .geemap-dark .jupyter-button {\n",
       "                    --jp-layout-color3: #383838;\n",
       "                }\n",
       "\n",
       "                .geemap-colab {\n",
       "                    background-color: var(--colab-primary-surface-color, white);\n",
       "                }\n",
       "\n",
       "                .geemap-colab .jupyter-button {\n",
       "                    --jp-layout-color3: var(--colab-primary-surface-color, white);\n",
       "                }\n",
       "            </style>\n",
       "            "
      ],
      "text/plain": [
       "<IPython.core.display.HTML object>"
      ]
     },
     "metadata": {},
     "output_type": "display_data"
    },
    {
     "name": "stdout",
     "output_type": "stream",
     "text": [
      "['projects/alpod-412314/assets/ROIs/AKCP_roi',\n",
      " 'projects/alpod-412314/assets/ROIs/MRD_TUK_Anderson_roi',\n",
      " 'projects/alpod-412314/assets/ROIs/MRD_roi',\n",
      " 'projects/alpod-412314/assets/ROIs/TUK_roi',\n",
      " 'projects/alpod-412314/assets/ROIs/YKdelta_roi',\n",
      " 'projects/alpod-412314/assets/ROIs/YKflats_roi',\n",
      " 'projects/alpod-412314/assets/ROIs/anderson_plain_roi']\n"
     ]
    }
   ],
   "source": [
    "glad = ee.ImageCollection('projects/glad/water/individualMonths')\n",
    "\n",
    "rois = ee.data.listAssets('projects/alpod-412314/assets/ROIs/')\n",
    "rois_ids = [roi['id'] for roi in rois['assets']]\n",
    "rois_ids.remove('projects/alpod-412314/assets/ROIs/all_regions')\n",
    "pp.pp(rois_ids)"
   ]
  },
  {
   "cell_type": "markdown",
   "id": "98ae4817-7440-4ecf-a0bc-a03efe5cd366",
   "metadata": {},
   "source": [
    "### 2.0 Combine all the GLAD observations for June & August for 20 years. "
   ]
  },
  {
   "cell_type": "code",
   "execution_count": 4,
   "id": "887940b0-e7b9-4e50-be07-4ddf3e29cf9b",
   "metadata": {},
   "outputs": [
    {
     "data": {
      "text/html": [
       "\n",
       "            <style>\n",
       "                .geemap-dark {\n",
       "                    --jp-widgets-color: white;\n",
       "                    --jp-widgets-label-color: white;\n",
       "                    --jp-ui-font-color1: white;\n",
       "                    --jp-layout-color2: #454545;\n",
       "                    background-color: #383838;\n",
       "                }\n",
       "\n",
       "                .geemap-dark .jupyter-button {\n",
       "                    --jp-layout-color3: #383838;\n",
       "                }\n",
       "\n",
       "                .geemap-colab {\n",
       "                    background-color: var(--colab-primary-surface-color, white);\n",
       "                }\n",
       "\n",
       "                .geemap-colab .jupyter-button {\n",
       "                    --jp-layout-color3: var(--colab-primary-surface-color, white);\n",
       "                }\n",
       "            </style>\n",
       "            "
      ],
      "text/plain": [
       "<IPython.core.display.HTML object>"
      ]
     },
     "metadata": {},
     "output_type": "display_data"
    },
    {
     "name": "stdout",
     "output_type": "stream",
     "text": [
      "5 5\n"
     ]
    }
   ],
   "source": [
    "years = range(2016, 2022)\n",
    "\n",
    "aug_sys_idx =[f'{year}_08' for year in years]\n",
    "june_sys_idx =[f'{year}_06' for year in years]\n",
    "\n",
    "jun_imgs = glad.filter(ee.Filter.inList('system:index', june_sys_idx))\n",
    "jun_max_obs = jun_imgs.size().getInfo()\n",
    "aug_imgs = glad.filter(ee.Filter.inList('system:index', aug_sys_idx))\n",
    "aug_max_obs = aug_imgs.size().getInfo()\n",
    "\n",
    "monthly_datasets = [\n",
    "    (jun_imgs, jun_max_obs, 'june'), \n",
    "    (aug_imgs, aug_max_obs, 'aug'),\n",
    "]\n",
    "\n",
    "print(jun_max_obs, aug_max_obs)"
   ]
  },
  {
   "cell_type": "code",
   "execution_count": 5,
   "id": "8b99b986",
   "metadata": {},
   "outputs": [
    {
     "data": {
      "text/html": [
       "\n",
       "            <style>\n",
       "                .geemap-dark {\n",
       "                    --jp-widgets-color: white;\n",
       "                    --jp-widgets-label-color: white;\n",
       "                    --jp-ui-font-color1: white;\n",
       "                    --jp-layout-color2: #454545;\n",
       "                    background-color: #383838;\n",
       "                }\n",
       "\n",
       "                .geemap-dark .jupyter-button {\n",
       "                    --jp-layout-color3: #383838;\n",
       "                }\n",
       "\n",
       "                .geemap-colab {\n",
       "                    background-color: var(--colab-primary-surface-color, white);\n",
       "                }\n",
       "\n",
       "                .geemap-colab .jupyter-button {\n",
       "                    --jp-layout-color3: var(--colab-primary-surface-color, white);\n",
       "                }\n",
       "            </style>\n",
       "            "
      ],
      "text/plain": [
       "<IPython.core.display.HTML object>"
      ]
     },
     "metadata": {},
     "output_type": "display_data"
    }
   ],
   "source": [
    "def select_invalid(img, mask_val):\n",
    "    img_unmasked = img.unmask(mask_val)\n",
    "    inval_pixels = img_unmasked.eq(mask_val)\n",
    "    inval_pixels = inval_pixels.updateMask(ee.Image.constant(1))\n",
    "    return inval_pixels\n",
    "\n",
    "def mask_invalid(img, mask_val):\n",
    "    data_mask = img.neq(mask_val)\n",
    "    data = img.updateMask(data_mask)\n",
    "    return data\n",
    "\n",
    "def calc_valid_occurance(img_collection, max_obs, mask_val):\n",
    "    # Sum the invalid pixels in each image\n",
    "    invalid_masks = img_collection.map(lambda img: select_invalid(img, mask_val))\n",
    "    sum_invalid = invalid_masks.reduce(ee.Reducer.sum())\n",
    "\n",
    "    # Sum the valid water observations in each image\n",
    "    data = img_collection.map(lambda img: mask_invalid(img, mask_val))\n",
    "    sum_water = data.reduce(ee.Reducer.sum())\n",
    "\n",
    "    # Calculate the % valid occurence\n",
    "    max_obs_img = ee.Image.constant(max_obs)\n",
    "    denom_img = max_obs_img.subtract(sum_invalid)\n",
    "    valid_occurence = sum_water.divide(denom_img)\n",
    "\n",
    "    return valid_occurence\n",
    "\n",
    "\n",
    "\n",
    "target_imgs = []\n",
    "\n",
    "for ds in monthly_datasets:\n",
    "    valid_occurance = calc_valid_occurance(ds[0], ds[1], 255)\n",
    "    month = ds[2]\n",
    "    target_imgs.append((valid_occurance, month))"
   ]
  },
  {
   "cell_type": "code",
   "execution_count": 11,
   "id": "e8322f14-37db-4114-a6f1-da4f38cca06e",
   "metadata": {},
   "outputs": [
    {
     "data": {
      "text/html": [
       "\n",
       "            <style>\n",
       "                .geemap-dark {\n",
       "                    --jp-widgets-color: white;\n",
       "                    --jp-widgets-label-color: white;\n",
       "                    --jp-ui-font-color1: white;\n",
       "                    --jp-layout-color2: #454545;\n",
       "                    background-color: #383838;\n",
       "                }\n",
       "\n",
       "                .geemap-dark .jupyter-button {\n",
       "                    --jp-layout-color3: #383838;\n",
       "                }\n",
       "\n",
       "                .geemap-colab {\n",
       "                    background-color: var(--colab-primary-surface-color, white);\n",
       "                }\n",
       "\n",
       "                .geemap-colab .jupyter-button {\n",
       "                    --jp-layout-color3: var(--colab-primary-surface-color, white);\n",
       "                }\n",
       "            </style>\n",
       "            "
      ],
      "text/plain": [
       "<IPython.core.display.HTML object>"
      ]
     },
     "metadata": {},
     "output_type": "display_data"
    }
   ],
   "source": [
    "june = target_imgs[0][0]\n"
   ]
  },
  {
   "cell_type": "code",
   "execution_count": 12,
   "id": "d7464626-d12b-495d-92e1-cf8bc1843774",
   "metadata": {},
   "outputs": [
    {
     "data": {
      "text/html": [
       "\n",
       "            <style>\n",
       "                .geemap-dark {\n",
       "                    --jp-widgets-color: white;\n",
       "                    --jp-widgets-label-color: white;\n",
       "                    --jp-ui-font-color1: white;\n",
       "                    --jp-layout-color2: #454545;\n",
       "                    background-color: #383838;\n",
       "                }\n",
       "\n",
       "                .geemap-dark .jupyter-button {\n",
       "                    --jp-layout-color3: #383838;\n",
       "                }\n",
       "\n",
       "                .geemap-colab {\n",
       "                    background-color: var(--colab-primary-surface-color, white);\n",
       "                }\n",
       "\n",
       "                .geemap-colab .jupyter-button {\n",
       "                    --jp-layout-color3: var(--colab-primary-surface-color, white);\n",
       "                }\n",
       "            </style>\n",
       "            "
      ],
      "text/plain": [
       "<IPython.core.display.HTML object>"
      ]
     },
     "metadata": {},
     "output_type": "display_data"
    },
    {
     "data": {
      "application/vnd.jupyter.widget-view+json": {
       "model_id": "2a329b89d9ae400c98ce409a2e70ebe6",
       "version_major": 2,
       "version_minor": 0
      },
      "text/plain": [
       "Map(center=[0, 0], controls=(WidgetControl(options=['position', 'transparent_bg'], widget=SearchDataGUI(childr…"
      ]
     },
     "execution_count": 12,
     "metadata": {},
     "output_type": "execute_result"
    }
   ],
   "source": [
    "Map = geemap.Map()\n",
    "viz_params = {\n",
    "    'min': 0,\n",
    "    'max': 22,  \n",
    "    'palette': ['red', 'yellow', 'blue']\n",
    "}\n",
    "Map.addLayer(june, viz_params, 'Summed Image')\n",
    "\n",
    "Map"
   ]
  },
  {
   "cell_type": "code",
   "execution_count": 11,
   "id": "cdd68195-4803-4a5d-8d12-16f5e80fdb6c",
   "metadata": {},
   "outputs": [
    {
     "data": {
      "text/html": [
       "\n",
       "            <style>\n",
       "                .geemap-dark {\n",
       "                    --jp-widgets-color: white;\n",
       "                    --jp-widgets-label-color: white;\n",
       "                    --jp-ui-font-color1: white;\n",
       "                    --jp-layout-color2: #454545;\n",
       "                    background-color: #383838;\n",
       "                }\n",
       "\n",
       "                .geemap-dark .jupyter-button {\n",
       "                    --jp-layout-color3: #383838;\n",
       "                }\n",
       "\n",
       "                .geemap-colab {\n",
       "                    background-color: var(--colab-primary-surface-color, white);\n",
       "                }\n",
       "\n",
       "                .geemap-colab .jupyter-button {\n",
       "                    --jp-layout-color3: var(--colab-primary-surface-color, white);\n",
       "                }\n",
       "            </style>\n",
       "            "
      ],
      "text/plain": [
       "<IPython.core.display.HTML object>"
      ]
     },
     "metadata": {},
     "output_type": "display_data"
    }
   ],
   "source": [
    "def export_rois(roi_id, target_img, month):\n",
    "    \n",
    "    roi_name_temp = roi_id.split('/')[-1]\n",
    "    roi_name = roi_name_temp.split('_roi')[0]\n",
    "    feature = ee.FeatureCollection(roi_id).first()\n",
    "    bounds = feature.geometry()\n",
    "\n",
    "    clipped_img = target_img.clip(bounds)\n",
    "\n",
    "    export_params = {\n",
    "        'image': clipped_img,\n",
    "        'description': f'glad_{roi_name}_month_{month}_', \n",
    "        'fileNamePrefix': f'glad_{roi_name}_month_{month}_',\n",
    "        'folder': 'glad_exports', \n",
    "        'scale': 30,\n",
    "        'crs': 'EPSG:4326',\n",
    "        'region': bounds,\n",
    "        'fileFormat': 'GeoTIFF',\n",
    "        'maxPixels': 1e13\n",
    "    }\n",
    "\n",
    "    ee.batch.Export.image.toDrive(**export_params).start()"
   ]
  },
  {
   "cell_type": "code",
   "execution_count": 12,
   "id": "66dee1b9-f170-434a-89d8-e49c4a2366af",
   "metadata": {},
   "outputs": [
    {
     "data": {
      "text/html": [
       "\n",
       "            <style>\n",
       "                .geemap-dark {\n",
       "                    --jp-widgets-color: white;\n",
       "                    --jp-widgets-label-color: white;\n",
       "                    --jp-ui-font-color1: white;\n",
       "                    --jp-layout-color2: #454545;\n",
       "                    background-color: #383838;\n",
       "                }\n",
       "\n",
       "                .geemap-dark .jupyter-button {\n",
       "                    --jp-layout-color3: #383838;\n",
       "                }\n",
       "\n",
       "                .geemap-colab {\n",
       "                    background-color: var(--colab-primary-surface-color, white);\n",
       "                }\n",
       "\n",
       "                .geemap-colab .jupyter-button {\n",
       "                    --jp-layout-color3: var(--colab-primary-surface-color, white);\n",
       "                }\n",
       "            </style>\n",
       "            "
      ],
      "text/plain": [
       "<IPython.core.display.HTML object>"
      ]
     },
     "metadata": {},
     "output_type": "display_data"
    },
    {
     "name": "stdout",
     "output_type": "stream",
     "text": [
      "[(<ee.image.Image object at 0x158db2840>, 'june'), (<ee.image.Image object at 0x158db3ce0>, 'aug')]\n"
     ]
    }
   ],
   "source": [
    "print(target_imgs)"
   ]
  },
  {
   "cell_type": "code",
   "execution_count": 13,
   "id": "c8a7ef52-5291-45df-9df4-bda369dde77f",
   "metadata": {},
   "outputs": [
    {
     "data": {
      "text/html": [
       "\n",
       "            <style>\n",
       "                .geemap-dark {\n",
       "                    --jp-widgets-color: white;\n",
       "                    --jp-widgets-label-color: white;\n",
       "                    --jp-ui-font-color1: white;\n",
       "                    --jp-layout-color2: #454545;\n",
       "                    background-color: #383838;\n",
       "                }\n",
       "\n",
       "                .geemap-dark .jupyter-button {\n",
       "                    --jp-layout-color3: #383838;\n",
       "                }\n",
       "\n",
       "                .geemap-colab {\n",
       "                    background-color: var(--colab-primary-surface-color, white);\n",
       "                }\n",
       "\n",
       "                .geemap-colab .jupyter-button {\n",
       "                    --jp-layout-color3: var(--colab-primary-surface-color, white);\n",
       "                }\n",
       "            </style>\n",
       "            "
      ],
      "text/plain": [
       "<IPython.core.display.HTML object>"
      ]
     },
     "metadata": {},
     "output_type": "display_data"
    }
   ],
   "source": [
    "for roi_id in rois_ids:\n",
    "    for img in target_imgs:\n",
    "        image = img[0]\n",
    "        month = img[1]\n",
    "        export_rois(roi_id, image, month)"
   ]
  },
  {
   "cell_type": "code",
   "execution_count": null,
   "id": "1787ad3f",
   "metadata": {},
   "outputs": [],
   "source": []
  }
 ],
 "metadata": {
  "kernelspec": {
   "display_name": "Python 3 (ipykernel)",
   "language": "python",
   "name": "python3"
  },
  "language_info": {
   "codemirror_mode": {
    "name": "ipython",
    "version": 3
   },
   "file_extension": ".py",
   "mimetype": "text/x-python",
   "name": "python",
   "nbconvert_exporter": "python",
   "pygments_lexer": "ipython3",
   "version": "3.12.7"
  }
 },
 "nbformat": 4,
 "nbformat_minor": 5
}
