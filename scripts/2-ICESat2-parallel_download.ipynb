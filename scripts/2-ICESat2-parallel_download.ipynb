{
 "cells": [
  {
   "cell_type": "code",
   "execution_count": 1,
   "id": "1e831526-9d52-4c6d-abaf-aa11772f4507",
   "metadata": {},
   "outputs": [
    {
     "name": "stdout",
     "output_type": "stream",
     "text": [
      "Found existing installation: earthaccess 0.6.1\n",
      "Uninstalling earthaccess-0.6.1:\n",
      "  Successfully uninstalled earthaccess-0.6.1\n",
      "Found existing installation: h5coro 0.0.7\n",
      "Uninstalling h5coro-0.0.7:\n",
      "  Successfully uninstalled h5coro-0.0.7\n",
      "Collecting earthaccess==0.6.1\n",
      "  Using cached earthaccess-0.6.1-py3-none-any.whl.metadata (9.4 kB)\n",
      "Requirement already satisfied: fsspec>=2022.1 in /srv/conda/envs/notebook/lib/python3.11/site-packages (from earthaccess==0.6.1) (2023.6.0)\n",
      "Requirement already satisfied: multimethod>=1.8 in /srv/conda/envs/notebook/lib/python3.11/site-packages (from earthaccess==0.6.1) (1.12)\n",
      "Requirement already satisfied: pqdm>=0.1 in /srv/conda/envs/notebook/lib/python3.11/site-packages (from earthaccess==0.6.1) (0.2.0)\n",
      "Requirement already satisfied: python-cmr>=0.7 in /srv/conda/envs/notebook/lib/python3.11/site-packages (from earthaccess==0.6.1) (0.11.0)\n",
      "Requirement already satisfied: requests<3.0.0,>=2.26 in /srv/conda/envs/notebook/lib/python3.11/site-packages (from earthaccess==0.6.1) (2.32.3)\n",
      "Requirement already satisfied: s3fs<2024,>=2021.11 in /srv/conda/envs/notebook/lib/python3.11/site-packages (from earthaccess==0.6.1) (2023.6.0)\n",
      "Requirement already satisfied: tinynetrc<2.0.0,>=1.3.1 in /srv/conda/envs/notebook/lib/python3.11/site-packages (from earthaccess==0.6.1) (1.3.1)\n",
      "Requirement already satisfied: bounded-pool-executor in /srv/conda/envs/notebook/lib/python3.11/site-packages (from pqdm>=0.1->earthaccess==0.6.1) (0.0.3)\n",
      "Requirement already satisfied: tqdm in /srv/conda/envs/notebook/lib/python3.11/site-packages (from pqdm>=0.1->earthaccess==0.6.1) (4.66.4)\n",
      "Requirement already satisfied: typing-extensions in /srv/conda/envs/notebook/lib/python3.11/site-packages (from pqdm>=0.1->earthaccess==0.6.1) (4.12.2)\n",
      "Requirement already satisfied: python-dateutil<3.0.0,>=2.8.2 in /srv/conda/envs/notebook/lib/python3.11/site-packages (from python-cmr>=0.7->earthaccess==0.6.1) (2.9.0)\n",
      "Requirement already satisfied: charset-normalizer<4,>=2 in /srv/conda/envs/notebook/lib/python3.11/site-packages (from requests<3.0.0,>=2.26->earthaccess==0.6.1) (3.3.2)\n",
      "Requirement already satisfied: idna<4,>=2.5 in /srv/conda/envs/notebook/lib/python3.11/site-packages (from requests<3.0.0,>=2.26->earthaccess==0.6.1) (3.7)\n",
      "Requirement already satisfied: urllib3<3,>=1.21.1 in /srv/conda/envs/notebook/lib/python3.11/site-packages (from requests<3.0.0,>=2.26->earthaccess==0.6.1) (1.26.19)\n",
      "Requirement already satisfied: certifi>=2017.4.17 in /srv/conda/envs/notebook/lib/python3.11/site-packages (from requests<3.0.0,>=2.26->earthaccess==0.6.1) (2024.7.4)\n",
      "Requirement already satisfied: aiobotocore~=2.5.0 in /srv/conda/envs/notebook/lib/python3.11/site-packages (from s3fs<2024,>=2021.11->earthaccess==0.6.1) (2.5.0)\n",
      "Requirement already satisfied: aiohttp!=4.0.0a0,!=4.0.0a1 in /srv/conda/envs/notebook/lib/python3.11/site-packages (from s3fs<2024,>=2021.11->earthaccess==0.6.1) (3.9.5)\n",
      "Requirement already satisfied: botocore<1.29.77,>=1.29.76 in /srv/conda/envs/notebook/lib/python3.11/site-packages (from aiobotocore~=2.5.0->s3fs<2024,>=2021.11->earthaccess==0.6.1) (1.29.76)\n",
      "Requirement already satisfied: wrapt>=1.10.10 in /srv/conda/envs/notebook/lib/python3.11/site-packages (from aiobotocore~=2.5.0->s3fs<2024,>=2021.11->earthaccess==0.6.1) (1.16.0)\n",
      "Requirement already satisfied: aioitertools>=0.5.1 in /srv/conda/envs/notebook/lib/python3.11/site-packages (from aiobotocore~=2.5.0->s3fs<2024,>=2021.11->earthaccess==0.6.1) (0.11.0)\n",
      "Requirement already satisfied: aiosignal>=1.1.2 in /srv/conda/envs/notebook/lib/python3.11/site-packages (from aiohttp!=4.0.0a0,!=4.0.0a1->s3fs<2024,>=2021.11->earthaccess==0.6.1) (1.3.1)\n",
      "Requirement already satisfied: attrs>=17.3.0 in /srv/conda/envs/notebook/lib/python3.11/site-packages (from aiohttp!=4.0.0a0,!=4.0.0a1->s3fs<2024,>=2021.11->earthaccess==0.6.1) (23.2.0)\n",
      "Requirement already satisfied: frozenlist>=1.1.1 in /srv/conda/envs/notebook/lib/python3.11/site-packages (from aiohttp!=4.0.0a0,!=4.0.0a1->s3fs<2024,>=2021.11->earthaccess==0.6.1) (1.4.1)\n",
      "Requirement already satisfied: multidict<7.0,>=4.5 in /srv/conda/envs/notebook/lib/python3.11/site-packages (from aiohttp!=4.0.0a0,!=4.0.0a1->s3fs<2024,>=2021.11->earthaccess==0.6.1) (6.0.5)\n",
      "Requirement already satisfied: yarl<2.0,>=1.0 in /srv/conda/envs/notebook/lib/python3.11/site-packages (from aiohttp!=4.0.0a0,!=4.0.0a1->s3fs<2024,>=2021.11->earthaccess==0.6.1) (1.9.4)\n",
      "Requirement already satisfied: six>=1.5 in /srv/conda/envs/notebook/lib/python3.11/site-packages (from python-dateutil<3.0.0,>=2.8.2->python-cmr>=0.7->earthaccess==0.6.1) (1.16.0)\n",
      "Requirement already satisfied: jmespath<2.0.0,>=0.7.1 in /srv/conda/envs/notebook/lib/python3.11/site-packages (from botocore<1.29.77,>=1.29.76->aiobotocore~=2.5.0->s3fs<2024,>=2021.11->earthaccess==0.6.1) (1.0.1)\n",
      "Using cached earthaccess-0.6.1-py3-none-any.whl (54 kB)\n",
      "Installing collected packages: earthaccess\n",
      "Successfully installed earthaccess-0.6.1\n",
      "Collecting git+https://github.com/ICESat2-SlideRule/h5coro.git@main\n",
      "  Cloning https://github.com/ICESat2-SlideRule/h5coro.git (to revision main) to /tmp/pip-req-build-eckxj1e7\n",
      "  Running command git clone --filter=blob:none --quiet https://github.com/ICESat2-SlideRule/h5coro.git /tmp/pip-req-build-eckxj1e7\n",
      "  Resolved https://github.com/ICESat2-SlideRule/h5coro.git to commit dddd6583ecf567a752cd3db9bcc36a616d0c7677\n",
      "  Preparing metadata (setup.py) ... \u001b[?25ldone\n",
      "\u001b[?25hRequirement already satisfied: numpy in /srv/conda/envs/notebook/lib/python3.11/site-packages (from h5coro==0.0.7) (1.26.4)\n",
      "Requirement already satisfied: boto3 in /srv/conda/envs/notebook/lib/python3.11/site-packages (from h5coro==0.0.7) (1.26.76)\n",
      "Requirement already satisfied: earthaccess>=0.5.0 in /srv/conda/envs/notebook/lib/python3.11/site-packages (from h5coro==0.0.7) (0.6.1)\n",
      "Requirement already satisfied: requests in /srv/conda/envs/notebook/lib/python3.11/site-packages (from h5coro==0.0.7) (2.32.3)\n",
      "Requirement already satisfied: fsspec>=2022.1 in /srv/conda/envs/notebook/lib/python3.11/site-packages (from earthaccess>=0.5.0->h5coro==0.0.7) (2023.6.0)\n",
      "Requirement already satisfied: multimethod>=1.8 in /srv/conda/envs/notebook/lib/python3.11/site-packages (from earthaccess>=0.5.0->h5coro==0.0.7) (1.12)\n",
      "Requirement already satisfied: pqdm>=0.1 in /srv/conda/envs/notebook/lib/python3.11/site-packages (from earthaccess>=0.5.0->h5coro==0.0.7) (0.2.0)\n",
      "Requirement already satisfied: python-cmr>=0.7 in /srv/conda/envs/notebook/lib/python3.11/site-packages (from earthaccess>=0.5.0->h5coro==0.0.7) (0.11.0)\n",
      "Requirement already satisfied: s3fs<2024,>=2021.11 in /srv/conda/envs/notebook/lib/python3.11/site-packages (from earthaccess>=0.5.0->h5coro==0.0.7) (2023.6.0)\n",
      "Requirement already satisfied: tinynetrc<2.0.0,>=1.3.1 in /srv/conda/envs/notebook/lib/python3.11/site-packages (from earthaccess>=0.5.0->h5coro==0.0.7) (1.3.1)\n",
      "Requirement already satisfied: charset-normalizer<4,>=2 in /srv/conda/envs/notebook/lib/python3.11/site-packages (from requests->h5coro==0.0.7) (3.3.2)\n",
      "Requirement already satisfied: idna<4,>=2.5 in /srv/conda/envs/notebook/lib/python3.11/site-packages (from requests->h5coro==0.0.7) (3.7)\n",
      "Requirement already satisfied: urllib3<3,>=1.21.1 in /srv/conda/envs/notebook/lib/python3.11/site-packages (from requests->h5coro==0.0.7) (1.26.19)\n",
      "Requirement already satisfied: certifi>=2017.4.17 in /srv/conda/envs/notebook/lib/python3.11/site-packages (from requests->h5coro==0.0.7) (2024.7.4)\n",
      "Requirement already satisfied: botocore<1.30.0,>=1.29.76 in /srv/conda/envs/notebook/lib/python3.11/site-packages (from boto3->h5coro==0.0.7) (1.29.76)\n",
      "Requirement already satisfied: jmespath<2.0.0,>=0.7.1 in /srv/conda/envs/notebook/lib/python3.11/site-packages (from boto3->h5coro==0.0.7) (1.0.1)\n",
      "Requirement already satisfied: s3transfer<0.7.0,>=0.6.0 in /srv/conda/envs/notebook/lib/python3.11/site-packages (from boto3->h5coro==0.0.7) (0.6.2)\n",
      "Requirement already satisfied: python-dateutil<3.0.0,>=2.1 in /srv/conda/envs/notebook/lib/python3.11/site-packages (from botocore<1.30.0,>=1.29.76->boto3->h5coro==0.0.7) (2.9.0)\n",
      "Requirement already satisfied: bounded-pool-executor in /srv/conda/envs/notebook/lib/python3.11/site-packages (from pqdm>=0.1->earthaccess>=0.5.0->h5coro==0.0.7) (0.0.3)\n",
      "Requirement already satisfied: tqdm in /srv/conda/envs/notebook/lib/python3.11/site-packages (from pqdm>=0.1->earthaccess>=0.5.0->h5coro==0.0.7) (4.66.4)\n",
      "Requirement already satisfied: typing-extensions in /srv/conda/envs/notebook/lib/python3.11/site-packages (from pqdm>=0.1->earthaccess>=0.5.0->h5coro==0.0.7) (4.12.2)\n",
      "Requirement already satisfied: aiobotocore~=2.5.0 in /srv/conda/envs/notebook/lib/python3.11/site-packages (from s3fs<2024,>=2021.11->earthaccess>=0.5.0->h5coro==0.0.7) (2.5.0)\n",
      "Requirement already satisfied: aiohttp!=4.0.0a0,!=4.0.0a1 in /srv/conda/envs/notebook/lib/python3.11/site-packages (from s3fs<2024,>=2021.11->earthaccess>=0.5.0->h5coro==0.0.7) (3.9.5)\n",
      "Requirement already satisfied: wrapt>=1.10.10 in /srv/conda/envs/notebook/lib/python3.11/site-packages (from aiobotocore~=2.5.0->s3fs<2024,>=2021.11->earthaccess>=0.5.0->h5coro==0.0.7) (1.16.0)\n",
      "Requirement already satisfied: aioitertools>=0.5.1 in /srv/conda/envs/notebook/lib/python3.11/site-packages (from aiobotocore~=2.5.0->s3fs<2024,>=2021.11->earthaccess>=0.5.0->h5coro==0.0.7) (0.11.0)\n",
      "Requirement already satisfied: aiosignal>=1.1.2 in /srv/conda/envs/notebook/lib/python3.11/site-packages (from aiohttp!=4.0.0a0,!=4.0.0a1->s3fs<2024,>=2021.11->earthaccess>=0.5.0->h5coro==0.0.7) (1.3.1)\n",
      "Requirement already satisfied: attrs>=17.3.0 in /srv/conda/envs/notebook/lib/python3.11/site-packages (from aiohttp!=4.0.0a0,!=4.0.0a1->s3fs<2024,>=2021.11->earthaccess>=0.5.0->h5coro==0.0.7) (23.2.0)\n",
      "Requirement already satisfied: frozenlist>=1.1.1 in /srv/conda/envs/notebook/lib/python3.11/site-packages (from aiohttp!=4.0.0a0,!=4.0.0a1->s3fs<2024,>=2021.11->earthaccess>=0.5.0->h5coro==0.0.7) (1.4.1)\n",
      "Requirement already satisfied: multidict<7.0,>=4.5 in /srv/conda/envs/notebook/lib/python3.11/site-packages (from aiohttp!=4.0.0a0,!=4.0.0a1->s3fs<2024,>=2021.11->earthaccess>=0.5.0->h5coro==0.0.7) (6.0.5)\n",
      "Requirement already satisfied: yarl<2.0,>=1.0 in /srv/conda/envs/notebook/lib/python3.11/site-packages (from aiohttp!=4.0.0a0,!=4.0.0a1->s3fs<2024,>=2021.11->earthaccess>=0.5.0->h5coro==0.0.7) (1.9.4)\n",
      "Requirement already satisfied: six>=1.5 in /srv/conda/envs/notebook/lib/python3.11/site-packages (from python-dateutil<3.0.0,>=2.1->botocore<1.30.0,>=1.29.76->boto3->h5coro==0.0.7) (1.16.0)\n",
      "Building wheels for collected packages: h5coro\n",
      "  Building wheel for h5coro (setup.py) ... \u001b[?25ldone\n",
      "\u001b[?25h  Created wheel for h5coro: filename=h5coro-0.0.7-py3-none-any.whl size=38462 sha256=0905194ea81ec1c9c7767a8c2276d19b2997a6816d5bb2eeb450e068a6ce0fa0\n",
      "  Stored in directory: /tmp/pip-ephem-wheel-cache-1d4544oy/wheels/d0/3a/e8/0dd59d2b208d89c38030e671895174f969ea887b349f19e4f9\n",
      "Successfully built h5coro\n",
      "Installing collected packages: h5coro\n",
      "Successfully installed h5coro-0.0.7\n"
     ]
    }
   ],
   "source": [
    "# The Cryocloud environemnt may not have the newest version of earthaccess, with newest h5coro features.\n",
    "#%%capture\n",
    "# suppress install outputs\n",
    "\n",
    "!pip uninstall -y earthaccess h5coro\n",
    "!pip install earthaccess==0.6.1\n",
    "\n",
    "# h5coro has new features that we need that are not released\n",
    "!pip install git+https://github.com/ICESat2-SlideRule/h5coro.git@main\n",
    "\n",
    "# !!! Restart the kernal and clean output after running this cell"
   ]
  },
  {
   "cell_type": "code",
   "execution_count": 2,
   "id": "b0b68947-1444-48e2-9a45-7078ef738c5f",
   "metadata": {
    "tags": []
   },
   "outputs": [
    {
     "name": "stdout",
     "output_type": "stream",
     "text": [
      "EARTHDATA_USERNAME and EARTHDATA_PASSWORD are not set in the current environment, try setting them or use a different strategy (netrc, interactive)\n",
      "You're now authenticated with NASA Earthdata Login\n",
      "Using token with expiration date: 09/16/2024\n",
      "Using .netrc file for EDL\n",
      "earthaccess: 0.6.1\n"
     ]
    }
   ],
   "source": [
    "import geopandas as gpd\n",
    "import earthaccess\n",
    "import pprint as pp\n",
    "import os\n",
    "import h5py\n",
    "import pandas as pd\n",
    "import numpy as np\n",
    "import datetime as dt\n",
    "import matplotlib.pyplot as plt\n",
    "\n",
    "from h5coro import s3driver\n",
    "import h5coro\n",
    "from itertools import product\n",
    "from pqdm.threads import pqdm\n",
    "\n",
    "auth = earthaccess.login()\n",
    "print(f\"earthaccess: {earthaccess.__version__}\")"
   ]
  },
  {
   "cell_type": "code",
   "execution_count": 7,
   "id": "cc67c506-a5c5-4a0d-b6d8-9bc6c3ac8fb0",
   "metadata": {
    "tags": []
   },
   "outputs": [
    {
     "name": "stdout",
     "output_type": "stream",
     "text": [
      "EPSG:32606\n",
      "132\n"
     ]
    }
   ],
   "source": [
    "roi_name = 'YKflats'\n",
    "roi_path = f'data/{roi_name}_roi_shape.shp'\n",
    "roi = gpd.read_file(roi_path)\n",
    "\n",
    "\"\"\"\n",
    "Needed to add a 10km buffering and unary union step.\n",
    "This converts the rois from a multipolygon to a single polygon.\n",
    "Then, we need to simplify the geom to fewer verticies.\n",
    "!!! Earthaccess needs single polygons with <~ 500 verticies !!!\n",
    "\"\"\"\n",
    "roi_est_crs = roi.estimate_utm_crs()\n",
    "print(roi_est_crs)\n",
    "roi = roi.to_crs(roi_est_crs)\n",
    "roi['geometry'] = roi.geometry.buffer(distance = 10000)\n",
    "roi = roi.to_crs('EPSG:4326')\n",
    "roi_geom = roi.geometry.unary_union\n",
    "roi_geom = roi_geom.simplify(tolerance=0.01, preserve_topology=True)\n",
    "\n",
    "\n",
    "\"\"\" \n",
    "Coordinates must be a list of (lat, lon) tupples, AND counter-clockwise\n",
    "\"\"\"\n",
    "coords_list = list(roi_geom.exterior.coords)\n",
    "coords_list_counter = coords_list[::-1]\n",
    "print(len(coords_list_counter))"
   ]
  },
  {
   "cell_type": "code",
   "execution_count": 8,
   "id": "89c97efe-6976-4747-8090-c12688a4d3ce",
   "metadata": {
    "tags": []
   },
   "outputs": [
    {
     "name": "stdout",
     "output_type": "stream",
     "text": [
      "Querying 2019\n",
      "Granules found: 86\n",
      "Querying 2020\n",
      "Granules found: 93\n",
      "Querying 2021\n",
      "Granules found: 92\n",
      "Querying 2022\n",
      "Granules found: 91\n",
      "Querying 2023\n",
      "Granules found: 94\n"
     ]
    }
   ],
   "source": [
    "results_dict = {}\n",
    "\n",
    "# Range for summer observations\n",
    "spring = '05-29'\n",
    "fall = '10-3'\n",
    "\n",
    "for year in range(2019, 2024):\n",
    "    print(f\"Querying {year}\")\n",
    "    results = earthaccess.search_data(\n",
    "        short_name = \"ATL06\",\n",
    "        version = '006', \n",
    "        polygon = coords_list_counter,\n",
    "        cloud_hosted = True,\n",
    "        temporal = (f\"{year}-{spring}\", f\"{year}-{fall}\")\n",
    "    ) \n",
    "    results_dict[year] = results"
   ]
  },
  {
   "cell_type": "code",
   "execution_count": 9,
   "id": "9e5b2a64-3ed7-445c-8ef7-0eb74e5dd240",
   "metadata": {
    "tags": []
   },
   "outputs": [],
   "source": [
    "# Establish AWS credentials for reading function\n",
    "env = \"cloud\" \n",
    "aws_credentials = earthaccess.get_s3_credentials(\"NSIDC\")\n",
    "cred = {\n",
    "      \"aws_access_key_id\": aws_credentials[\"accessKeyId\"],\n",
    "      \"aws_secret_access_key\": aws_credentials[\"secretAccessKey\"],\n",
    "      \"aws_session_token\": aws_credentials[\"sessionToken\"]\n",
    "    }"
   ]
  },
  {
   "cell_type": "code",
   "execution_count": 10,
   "id": "e49efc83-bd1f-47a2-b900-3c071c58ed43",
   "metadata": {
    "tags": []
   },
   "outputs": [],
   "source": [
    "# Need to modify this if ever running locally\n",
    "def get_data_links(granules):\n",
    "    return [g.data_links(access=\"direct\")[0].replace(\"s3://\", \"\") for g in granules]"
   ]
  },
  {
   "cell_type": "code",
   "execution_count": 11,
   "id": "30556698-f9ab-4ec0-bd01-ef2541e054d0",
   "metadata": {},
   "outputs": [],
   "source": [
    "def filter_criteria(df):\n",
    "    \n",
    "    # Make dem_dif column\n",
    "    df['dem_dif'] = df['dem_h'] - df['h_li']\n",
    "    \n",
    "    # Criteria for filtering\n",
    "    dem_match = df['dem_dif'].between(-10, 10)\n",
    "    not_slope = df['dh_fit_dx'].between(-0.05, 0.05)\n",
    "    \n",
    "    # Apply filtering to df\n",
    "    filter_condition = dem_match & not_slope\n",
    "    df = df[filter_condition]\n",
    "    \n",
    "    return df"
   ]
  },
  {
   "cell_type": "code",
   "execution_count": 12,
   "id": "8925bc91-047b-4f3f-9d50-4abfa1f02761",
   "metadata": {},
   "outputs": [],
   "source": [
    "def calendar_from_delta(delta_time_series):\n",
    "    \n",
    "    epoch = dt.datetime(2018,1,1)\n",
    "    delta_time_sec_series = pd.to_timedelta(delta_time_series, unit = 's')\n",
    "    obs_date_series = (delta_time_sec_series + epoch)\n",
    "    \n",
    "    return obs_date_series.dt.date"
   ]
  },
  {
   "cell_type": "code",
   "execution_count": 13,
   "id": "f5cbb409-698d-4735-b1a5-fdec22e88335",
   "metadata": {
    "tags": []
   },
   "outputs": [],
   "source": [
    "def read_atl06(files, year=year, executors=4, credentials = cred):\n",
    "    \n",
    "    def read_h5coro(file):\n",
    "        \n",
    "        try:\n",
    "            \n",
    "            file_path = str(file)\n",
    "            driver = s3driver.S3Driver\n",
    "            # Read files\n",
    "            h5 = h5coro.H5Coro(file_path, driver, credentials = credentials) \n",
    "\n",
    "            subgroups = ['gt1l/land_ice_segments/', 'gt1r/land_ice_segments/',\n",
    "                         'gt2l/land_ice_segments/', 'gt2r/land_ice_segments/',\n",
    "                         'gt3l/land_ice_segments/', 'gt3r/land_ice_segments/'\n",
    "            ]\n",
    "\n",
    "            variables = ['latitude', 'longitude', 'delta_time', 'h_li', 'dem/dem_h', 'fit_statistics/dh_fit_dx']\n",
    "            ds_list = ['/'.join(p) for p in list(product(subgroups, variables))]\n",
    "\n",
    "            f = h5.readDatasets(datasets = ds_list, block = True) # block = True means all datasets read before continuing execution\n",
    "\n",
    "            tracks = []\n",
    "            for subgroup in subgroups:\n",
    "                ds = {data_set.split('/')[-1]: f[data_set][:] for data_set in ds_list if data_set.startswith(subgroup)}\n",
    "                ds['beam'] = subgroup[0:4]\n",
    "\n",
    "                df = pd.DataFrame(ds)\n",
    "                tracks.append(df)\n",
    "\n",
    "            data = pd.concat(tracks)\n",
    "\n",
    "            data = filter_criteria(data)\n",
    "\n",
    "            return(data)\n",
    "        \n",
    "        # One file from RU2, 2022 threw an error. Added these exception statements to return an empty df\n",
    "        except AttributeError as e:\n",
    "            # Handle cases where an expected attribute is missing\n",
    "            print(f\"AttributeError in file {file}: {e}\")\n",
    "            # Return an empty DataFrame if this error occurs\n",
    "            return pd.DataFrame()\n",
    "\n",
    "        except Exception as e:\n",
    "            # Handle any other unexpected exceptions\n",
    "            print(f\"Unexpected error in file {file}: {e}\")\n",
    "            # Return an empty DataFrame if an unexpected error occurs\n",
    "            return pd.DataFrame()\n",
    "\n",
    "\n",
    "    #Paralell time\n",
    "    dfs = pqdm(files, read_h5coro, n_jobs=executors)\n",
    "    combined = pd.concat(dfs)\n",
    "    \n",
    "    #Convert to calendar date and drop delta time\n",
    "    combined['obs_date'] = calendar_from_delta(combined['delta_time'])\n",
    "    combined = combined.drop('delta_time', axis = 1)\n",
    "    \n",
    "    # Write the file out\n",
    "    combined.to_csv(f'data/IS2raw_{roi_name}_{year}.csv')\n",
    "    \n",
    "    return combined\n",
    "\n",
    "  "
   ]
  },
  {
   "cell_type": "code",
   "execution_count": null,
   "id": "ed2b1b81-beda-4dd5-b070-61fadea80341",
   "metadata": {
    "tags": []
   },
   "outputs": [
    {
     "data": {
      "application/vnd.jupyter.widget-view+json": {
       "model_id": "11c108c57dd24a229b39b472d01e051b",
       "version_major": 2,
       "version_minor": 0
      },
      "text/plain": [
       "QUEUEING TASKS | :   0%|          | 0/86 [00:00<?, ?it/s]"
      ]
     },
     "metadata": {},
     "output_type": "display_data"
    },
    {
     "data": {
      "application/vnd.jupyter.widget-view+json": {
       "model_id": "34c94b0721f1404b90403cc209a95c54",
       "version_major": 2,
       "version_minor": 0
      },
      "text/plain": [
       "PROCESSING TASKS | :   0%|          | 0/86 [00:00<?, ?it/s]"
      ]
     },
     "metadata": {},
     "output_type": "display_data"
    }
   ],
   "source": [
    "for year, file_info in results_dict.items():\n",
    "    links = get_data_links(results_dict[year])\n",
    "    read_atl06(links, year = year, executors = 4)"
   ]
  },
  {
   "cell_type": "code",
   "execution_count": 11,
   "id": "36b18a08-1d1c-4e98-a936-859490b71854",
   "metadata": {
    "tags": []
   },
   "outputs": [],
   "source": []
  },
  {
   "cell_type": "code",
   "execution_count": null,
   "id": "c5a6400e-6573-4adf-b65b-2dc7b338c066",
   "metadata": {},
   "outputs": [],
   "source": []
  }
 ],
 "metadata": {
  "kernelspec": {
   "display_name": "Python 3 (ipykernel)",
   "language": "python",
   "name": "python3"
  },
  "language_info": {
   "codemirror_mode": {
    "name": "ipython",
    "version": 3
   },
   "file_extension": ".py",
   "mimetype": "text/x-python",
   "name": "python",
   "nbconvert_exporter": "python",
   "pygments_lexer": "ipython3",
   "version": "3.12.4"
  }
 },
 "nbformat": 4,
 "nbformat_minor": 5
}
