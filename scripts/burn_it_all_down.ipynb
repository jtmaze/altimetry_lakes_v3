{
 "cells": [
  {
   "cell_type": "code",
   "execution_count": null,
   "id": "bf26b0bb-8cfc-4610-9f26-14109409c02f",
   "metadata": {},
   "outputs": [],
   "source": [
    "import ee\n",
    "import os\n",
    "import geemap\n",
    "import geopandas as gpd\n",
    "import pprint as pp\n",
    "\n",
    "ee.Authenticate()\n",
    "ee.Initialize()\n",
    "\n",
    "project_dir = 'projects/alpod-412314/assets/' \n",
    "region = 'TUK_MRD'\n",
    "region_path = f'{region}_weekly'\n",
    "folder = project_dir + region_path\n",
    "\n",
    "pp.pp(ee.data.listAssets(project_dir))\n",
    "pp.pp(ee.data.listAssets(project_dir + 'region_weekly/'))\n",
    "\n",
    "#lakes_path = f'{project_dir}Lake_extractions/{region}_extraction'\n",
    "lakes_path = f'{project_dir}Lake_extractions/TUK_MRD_AND_extraction'\n",
    "lake_polygons = ee.FeatureCollection(lakes_path)\n",
    "weekly_mosaics = ee.data.listAssets(project_dir + 'region_weekly')\n",
    "#pp.pp(weekly_mosaics)"
   ]
  },
  {
   "cell_type": "code",
   "execution_count": 16,
   "id": "0a9f1c97-f3a5-4c3a-8a13-17cd91e51072",
   "metadata": {},
   "outputs": [
    {
     "data": {
      "text/html": [
       "\n",
       "            <style>\n",
       "                .geemap-dark {\n",
       "                    --jp-widgets-color: white;\n",
       "                    --jp-widgets-label-color: white;\n",
       "                    --jp-ui-font-color1: white;\n",
       "                    --jp-layout-color2: #454545;\n",
       "                    background-color: #383838;\n",
       "                }\n",
       "\n",
       "                .geemap-dark .jupyter-button {\n",
       "                    --jp-layout-color3: #383838;\n",
       "                }\n",
       "\n",
       "                .geemap-colab {\n",
       "                    background-color: var(--colab-primary-surface-color, white);\n",
       "                }\n",
       "\n",
       "                .geemap-colab .jupyter-button {\n",
       "                    --jp-layout-color3: var(--colab-primary-surface-color, white);\n",
       "                }\n",
       "            </style>\n",
       "            "
      ],
      "text/plain": [
       "<IPython.core.display.HTML object>"
      ]
     },
     "metadata": {},
     "output_type": "display_data"
    }
   ],
   "source": [
    "img = ee.Image('projects/alpod-412314/assets/region_weekly/TUK_MRD_2019_33')\n",
    "\n",
    "# All observed pixels (water OR land = 1) \n",
    "obs_mask = img.unmask(0)\n",
    "obs_mask = obs_mask.rename('observed')\n",
    "#print(obs_mask.getInfo())\n",
    "\n",
    "# All water pixels = 2\n",
    "img_wtr = ee.Image.constant(0)\n",
    "img_wtr = img_wtr.where(img.select('water_occurance').eq(1), 2)\n",
    "img_wtr = img_wtr.rename('wtr_occurance')\n",
    "\n",
    "# All land pixels = 1\n",
    "img_land = ee.Image.constant(0)\n",
    "img_land = img_land.where(img.select('water_occurance').eq(0), 1)\n",
    "img_land = img_land.rename('land_occurance')\n",
    "\n",
    "# Lake shapes from original polygons 1=Lake, 0=Not a lake\n",
    "lakes_binary = lake_polygons.reduceToImage(\n",
    "    properties=['n_lakes'],\n",
    "    reducer=ee.Reducer.anyNonZero()\n",
    ").neq(0)\n",
    "lakes_binary = lakes_binary.rename('buffered_lake')\n",
    "\n"
   ]
  },
  {
   "cell_type": "code",
   "execution_count": 17,
   "id": "f4c81e84-8b41-465a-b74e-3449d04812d0",
   "metadata": {},
   "outputs": [
    {
     "data": {
      "text/html": [
       "\n",
       "            <style>\n",
       "                .geemap-dark {\n",
       "                    --jp-widgets-color: white;\n",
       "                    --jp-widgets-label-color: white;\n",
       "                    --jp-ui-font-color1: white;\n",
       "                    --jp-layout-color2: #454545;\n",
       "                    background-color: #383838;\n",
       "                }\n",
       "\n",
       "                .geemap-dark .jupyter-button {\n",
       "                    --jp-layout-color3: #383838;\n",
       "                }\n",
       "\n",
       "                .geemap-colab {\n",
       "                    background-color: var(--colab-primary-surface-color, white);\n",
       "                }\n",
       "\n",
       "                .geemap-colab .jupyter-button {\n",
       "                    --jp-layout-color3: var(--colab-primary-surface-color, white);\n",
       "                }\n",
       "            </style>\n",
       "            "
      ],
      "text/plain": [
       "<IPython.core.display.HTML object>"
      ]
     },
     "metadata": {},
     "output_type": "display_data"
    },
    {
     "name": "stdout",
     "output_type": "stream",
     "text": [
      "{'type': 'Image', 'bands': [{'id': 'class', 'data_type': {'type': 'PixelType', 'precision': 'int', 'min': 0, 'max': 3}, 'crs': 'EPSG:4326', 'crs_transform': [1, 0, 0, 0, 1, 0]}]}\n"
     ]
    }
   ],
   "source": [
    "\n",
    "expr = \"\"\"\n",
    "(wtr_observed == 2) ? 2 :\n",
    "(land_observed == 1) ? 1 :\n",
    "((buffered_lake == 1) && (land_observed == 0) && (wtr_observed != 2)) ? 3 :\n",
    "0\n",
    "\"\"\"\n",
    "conditional = ee.Image.constant(0)\n",
    "conditional = lakes_binary.expression(\n",
    "    expr,\n",
    "    {\n",
    "        'wtr_observed': img_wtr.select('wtr_occurance'),\n",
    "        'land_observed': img_land.select('land_occurance'),\n",
    "        'buffered_lake': lakes_binary.select('buffered_lake'),\n",
    "    }\n",
    ")\n",
    "\n",
    "conditional = conditional.rename('class')\n",
    "print(conditional.getInfo())\n",
    "\n"
   ]
  },
  {
   "cell_type": "code",
   "execution_count": 20,
   "id": "fe6d6a57-67e6-41a8-9664-87fd5b5f5293",
   "metadata": {
    "scrolled": true
   },
   "outputs": [
    {
     "data": {
      "text/html": [
       "\n",
       "            <style>\n",
       "                .geemap-dark {\n",
       "                    --jp-widgets-color: white;\n",
       "                    --jp-widgets-label-color: white;\n",
       "                    --jp-ui-font-color1: white;\n",
       "                    --jp-layout-color2: #454545;\n",
       "                    background-color: #383838;\n",
       "                }\n",
       "\n",
       "                .geemap-dark .jupyter-button {\n",
       "                    --jp-layout-color3: #383838;\n",
       "                }\n",
       "\n",
       "                .geemap-colab {\n",
       "                    background-color: var(--colab-primary-surface-color, white);\n",
       "                }\n",
       "\n",
       "                .geemap-colab .jupyter-button {\n",
       "                    --jp-layout-color3: var(--colab-primary-surface-color, white);\n",
       "                }\n",
       "            </style>\n",
       "            "
      ],
      "text/plain": [
       "<IPython.core.display.HTML object>"
      ]
     },
     "metadata": {},
     "output_type": "display_data"
    },
    {
     "data": {
      "application/vnd.jupyter.widget-view+json": {
       "model_id": "142c71f5899344d981e6ac78177a408f",
       "version_major": 2,
       "version_minor": 0
      },
      "text/plain": [
       "Map(center=[65, -135], controls=(WidgetControl(options=['position', 'transparent_bg'], widget=SearchDataGUI(ch…"
      ]
     },
     "execution_count": 20,
     "metadata": {},
     "output_type": "execute_result"
    }
   ],
   "source": [
    "obs_viz = {\n",
    "    'bands': ['observed'],\n",
    "    'min': 0,\n",
    "    'max': 1,\n",
    "    'palette': ['red', 'green']\n",
    "}\n",
    "\n",
    "lakes_viz = {\n",
    "    'bands': ['buffered_lake'],\n",
    "    'min': 0,\n",
    "    'max': 1, \n",
    "    'palette': ['white', 'blue']\n",
    "}\n",
    "\n",
    "conditional_palette = ['grey', 'brown', 'blue', 'white']\n",
    "\n",
    "\n",
    "conditional_viz = {\n",
    "    'band': ['class'],\n",
    "    'min': 0,\n",
    "    'max': 3,\n",
    "    'palette': conditional_palette,\n",
    "}\n",
    "\n",
    "# Create a map to display the results\n",
    "Map2 = geemap.Map(center=(65, -135), zoom=4)\n",
    "#Map2.addLayer(obs_mask, obs_viz, 'Observation Mask')\n",
    "Map2.addLayer(conditional, conditional_viz, 'Conditional Test')\n",
    "#Map2.addLayer(lakes_binary, lakes_viz, 'Buffered Lakes')\n",
    "\n",
    "qk_viz = {\n",
    "    'bands': ['wtr_occurance'],\n",
    "    'min': 0,\n",
    "    'max': 2, \n",
    "    'palette': ['white', 'blue']\n",
    "}\n",
    "qk_viz2 = {\n",
    "    'bands': ['land_occurance'],\n",
    "    'min': 0,\n",
    "    'max': 1, \n",
    "    'palette': ['white', 'brown']\n",
    "}\n",
    "\n",
    "\n",
    "#Map2.addLayer(img_wtr, qk_viz, 'water')\n",
    "#Map2.addLayer(img_land, qk_viz2, 'land?')\n",
    "\n",
    "Map2"
   ]
  },
  {
   "cell_type": "code",
   "execution_count": 19,
   "id": "066f5f92-8b26-4687-9b3d-acfe892649a3",
   "metadata": {},
   "outputs": [
    {
     "data": {
      "text/html": [
       "\n",
       "            <style>\n",
       "                .geemap-dark {\n",
       "                    --jp-widgets-color: white;\n",
       "                    --jp-widgets-label-color: white;\n",
       "                    --jp-ui-font-color1: white;\n",
       "                    --jp-layout-color2: #454545;\n",
       "                    background-color: #383838;\n",
       "                }\n",
       "\n",
       "                .geemap-dark .jupyter-button {\n",
       "                    --jp-layout-color3: #383838;\n",
       "                }\n",
       "\n",
       "                .geemap-colab {\n",
       "                    background-color: var(--colab-primary-surface-color, white);\n",
       "                }\n",
       "\n",
       "                .geemap-colab .jupyter-button {\n",
       "                    --jp-layout-color3: var(--colab-primary-surface-color, white);\n",
       "                }\n",
       "            </style>\n",
       "            "
      ],
      "text/plain": [
       "<IPython.core.display.HTML object>"
      ]
     },
     "metadata": {},
     "output_type": "display_data"
    }
   ],
   "source": [
    "os.chdir('/Users/jmaze/Documents/projects/altimetry_lakes_v3/')\n",
    "\n",
    "region = 'TUK_MRD'\n",
    "roi = gpd.read_file(f'./data/ew_rois/{region}_weekly.shp')\n",
    "polygon = roi.iloc[0].geometry\n",
    "\n",
    "coords_list = list(polygon.exterior.coords)\n",
    "gee_polygon = ee.Geometry.Polygon(coords_list, proj='EPSG:4326')\n",
    "\n",
    "conditional = conditional.clip(gee_polygon)"
   ]
  },
  {
   "cell_type": "code",
   "execution_count": 21,
   "id": "df832fb0-2fd0-4cc4-9455-116d6d0b1bee",
   "metadata": {},
   "outputs": [
    {
     "data": {
      "text/html": [
       "\n",
       "            <style>\n",
       "                .geemap-dark {\n",
       "                    --jp-widgets-color: white;\n",
       "                    --jp-widgets-label-color: white;\n",
       "                    --jp-ui-font-color1: white;\n",
       "                    --jp-layout-color2: #454545;\n",
       "                    background-color: #383838;\n",
       "                }\n",
       "\n",
       "                .geemap-dark .jupyter-button {\n",
       "                    --jp-layout-color3: #383838;\n",
       "                }\n",
       "\n",
       "                .geemap-colab {\n",
       "                    background-color: var(--colab-primary-surface-color, white);\n",
       "                }\n",
       "\n",
       "                .geemap-colab .jupyter-button {\n",
       "                    --jp-layout-color3: var(--colab-primary-surface-color, white);\n",
       "                }\n",
       "            </style>\n",
       "            "
      ],
      "text/plain": [
       "<IPython.core.display.HTML object>"
      ]
     },
     "metadata": {},
     "output_type": "display_data"
    }
   ],
   "source": [
    "task = ee.batch.Export.image.toDrive(\n",
    "    image=conditional,\n",
    "    description='conditional_test4',\n",
    "    folder='temp',\n",
    "    fileNamePrefix='conditional_test4',\n",
    "    scale=10,\n",
    "    crs='EPSG:4326',\n",
    "    maxPixels=1e13\n",
    ")\n",
    "task.start()"
   ]
  },
  {
   "cell_type": "code",
   "execution_count": null,
   "id": "56e4790b-fa0d-4dd4-9142-8dd388dc7bde",
   "metadata": {},
   "outputs": [],
   "source": []
  }
 ],
 "metadata": {
  "kernelspec": {
   "display_name": "Python 3 (ipykernel)",
   "language": "python",
   "name": "python3"
  },
  "language_info": {
   "codemirror_mode": {
    "name": "ipython",
    "version": 3
   },
   "file_extension": ".py",
   "mimetype": "text/x-python",
   "name": "python",
   "nbconvert_exporter": "python",
   "pygments_lexer": "ipython3",
   "version": "3.12.4"
  }
 },
 "nbformat": 4,
 "nbformat_minor": 5
}
