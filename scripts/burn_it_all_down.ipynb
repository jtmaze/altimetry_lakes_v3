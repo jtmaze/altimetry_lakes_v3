{
 "cells": [
  {
   "cell_type": "code",
   "execution_count": 1,
   "id": "bf26b0bb-8cfc-4610-9f26-14109409c02f",
   "metadata": {},
   "outputs": [],
   "source": [
    "import ee\n",
    "import os\n",
    "import geemap\n",
    "import json\n",
    "from shapely.geometry import shape\n",
    "import geopandas as gpd"
   ]
  },
  {
   "cell_type": "code",
   "execution_count": 2,
   "id": "bde0fea7-6b10-465c-8000-78a36bb864f6",
   "metadata": {},
   "outputs": [
    {
     "data": {
      "text/html": [
       "\n",
       "            <style>\n",
       "                .geemap-dark {\n",
       "                    --jp-widgets-color: white;\n",
       "                    --jp-widgets-label-color: white;\n",
       "                    --jp-ui-font-color1: white;\n",
       "                    --jp-layout-color2: #454545;\n",
       "                    background-color: #383838;\n",
       "                }\n",
       "\n",
       "                .geemap-dark .jupyter-button {\n",
       "                    --jp-layout-color3: #383838;\n",
       "                }\n",
       "\n",
       "                .geemap-colab {\n",
       "                    background-color: var(--colab-primary-surface-color, white);\n",
       "                }\n",
       "\n",
       "                .geemap-colab .jupyter-button {\n",
       "                    --jp-layout-color3: var(--colab-primary-surface-color, white);\n",
       "                }\n",
       "            </style>\n",
       "            "
      ],
      "text/plain": [
       "<IPython.core.display.HTML object>"
      ]
     },
     "metadata": {},
     "output_type": "display_data"
    }
   ],
   "source": [
    "ee.Authenticate()\n",
    "ee.Initialize()"
   ]
  },
  {
   "cell_type": "code",
   "execution_count": 3,
   "id": "7cb45727-bfe3-425e-8eec-4444d346e19c",
   "metadata": {},
   "outputs": [
    {
     "data": {
      "text/html": [
       "\n",
       "            <style>\n",
       "                .geemap-dark {\n",
       "                    --jp-widgets-color: white;\n",
       "                    --jp-widgets-label-color: white;\n",
       "                    --jp-ui-font-color1: white;\n",
       "                    --jp-layout-color2: #454545;\n",
       "                    background-color: #383838;\n",
       "                }\n",
       "\n",
       "                .geemap-dark .jupyter-button {\n",
       "                    --jp-layout-color3: #383838;\n",
       "                }\n",
       "\n",
       "                .geemap-colab {\n",
       "                    background-color: var(--colab-primary-surface-color, white);\n",
       "                }\n",
       "\n",
       "                .geemap-colab .jupyter-button {\n",
       "                    --jp-layout-color3: var(--colab-primary-surface-color, white);\n",
       "                }\n",
       "            </style>\n",
       "            "
      ],
      "text/plain": [
       "<IPython.core.display.HTML object>"
      ]
     },
     "metadata": {},
     "output_type": "display_data"
    }
   ],
   "source": [
    "project_dir = 'projects/alpod-412314/assets/' \n",
    "\n",
    "region = 'AKCP'\n",
    "region_path = f'{region}_weekly'\n",
    "folder = project_dir + region_path\n",
    "\n",
    "#print(ee.data.listAssets(project_dir))"
   ]
  },
  {
   "cell_type": "code",
   "execution_count": 4,
   "id": "1b11f903-2c6d-4682-8677-7e553b93d384",
   "metadata": {},
   "outputs": [
    {
     "data": {
      "text/html": [
       "\n",
       "            <style>\n",
       "                .geemap-dark {\n",
       "                    --jp-widgets-color: white;\n",
       "                    --jp-widgets-label-color: white;\n",
       "                    --jp-ui-font-color1: white;\n",
       "                    --jp-layout-color2: #454545;\n",
       "                    background-color: #383838;\n",
       "                }\n",
       "\n",
       "                .geemap-dark .jupyter-button {\n",
       "                    --jp-layout-color3: #383838;\n",
       "                }\n",
       "\n",
       "                .geemap-colab {\n",
       "                    background-color: var(--colab-primary-surface-color, white);\n",
       "                }\n",
       "\n",
       "                .geemap-colab .jupyter-button {\n",
       "                    --jp-layout-color3: var(--colab-primary-surface-color, white);\n",
       "                }\n",
       "            </style>\n",
       "            "
      ],
      "text/plain": [
       "<IPython.core.display.HTML object>"
      ]
     },
     "metadata": {},
     "output_type": "display_data"
    }
   ],
   "source": [
    "weekly_mosaics = ee.data.listAssets(project_dir + 'region_weekly')"
   ]
  },
  {
   "cell_type": "code",
   "execution_count": 5,
   "id": "9887dfb0-b8a0-4399-a819-9addf022a41a",
   "metadata": {},
   "outputs": [
    {
     "data": {
      "text/html": [
       "\n",
       "            <style>\n",
       "                .geemap-dark {\n",
       "                    --jp-widgets-color: white;\n",
       "                    --jp-widgets-label-color: white;\n",
       "                    --jp-ui-font-color1: white;\n",
       "                    --jp-layout-color2: #454545;\n",
       "                    background-color: #383838;\n",
       "                }\n",
       "\n",
       "                .geemap-dark .jupyter-button {\n",
       "                    --jp-layout-color3: #383838;\n",
       "                }\n",
       "\n",
       "                .geemap-colab {\n",
       "                    background-color: var(--colab-primary-surface-color, white);\n",
       "                }\n",
       "\n",
       "                .geemap-colab .jupyter-button {\n",
       "                    --jp-layout-color3: var(--colab-primary-surface-color, white);\n",
       "                }\n",
       "            </style>\n",
       "            "
      ],
      "text/plain": [
       "<IPython.core.display.HTML object>"
      ]
     },
     "metadata": {},
     "output_type": "display_data"
    }
   ],
   "source": [
    "img = ee.Image('projects/alpod-412314/assets/region_weekly/AKCP_2016_29')\n",
    "lakes_path = f'{project_dir}Lake_extractions/{region}_extraction'\n",
    "lake_polygons = ee.FeatureCollection(lakes_path)\n",
    "#print(lake_polygons.first().getInfo())"
   ]
  },
  {
   "cell_type": "code",
   "execution_count": 6,
   "id": "0a9f1c97-f3a5-4c3a-8a13-17cd91e51072",
   "metadata": {},
   "outputs": [
    {
     "data": {
      "text/html": [
       "\n",
       "            <style>\n",
       "                .geemap-dark {\n",
       "                    --jp-widgets-color: white;\n",
       "                    --jp-widgets-label-color: white;\n",
       "                    --jp-ui-font-color1: white;\n",
       "                    --jp-layout-color2: #454545;\n",
       "                    background-color: #383838;\n",
       "                }\n",
       "\n",
       "                .geemap-dark .jupyter-button {\n",
       "                    --jp-layout-color3: #383838;\n",
       "                }\n",
       "\n",
       "                .geemap-colab {\n",
       "                    background-color: var(--colab-primary-surface-color, white);\n",
       "                }\n",
       "\n",
       "                .geemap-colab .jupyter-button {\n",
       "                    --jp-layout-color3: var(--colab-primary-surface-color, white);\n",
       "                }\n",
       "            </style>\n",
       "            "
      ],
      "text/plain": [
       "<IPython.core.display.HTML object>"
      ]
     },
     "metadata": {},
     "output_type": "display_data"
    }
   ],
   "source": [
    "obs_mask = img.unmask(0)\n",
    "obs_mask = obs_mask.rename('observed')\n",
    "#print(obs_mask.getInfo())\n",
    "\n",
    "img_wtr = ee.Image.constant(0)\n",
    "img_wtr = img_wtr.where(img.select('water_occurance').eq(1), 2)\n",
    "\n",
    "img_land_ice_cloud = ee.Image.constant(0)\n",
    "img_land_ice_cloud = img_land_ice_cloud.where(img.select('water_occurance').eq(0), 1)"
   ]
  },
  {
   "cell_type": "code",
   "execution_count": 21,
   "id": "f4c81e84-8b41-465a-b74e-3449d04812d0",
   "metadata": {},
   "outputs": [
    {
     "data": {
      "text/html": [
       "\n",
       "            <style>\n",
       "                .geemap-dark {\n",
       "                    --jp-widgets-color: white;\n",
       "                    --jp-widgets-label-color: white;\n",
       "                    --jp-ui-font-color1: white;\n",
       "                    --jp-layout-color2: #454545;\n",
       "                    background-color: #383838;\n",
       "                }\n",
       "\n",
       "                .geemap-dark .jupyter-button {\n",
       "                    --jp-layout-color3: #383838;\n",
       "                }\n",
       "\n",
       "                .geemap-colab {\n",
       "                    background-color: var(--colab-primary-surface-color, white);\n",
       "                }\n",
       "\n",
       "                .geemap-colab .jupyter-button {\n",
       "                    --jp-layout-color3: var(--colab-primary-surface-color, white);\n",
       "                }\n",
       "            </style>\n",
       "            "
      ],
      "text/plain": [
       "<IPython.core.display.HTML object>"
      ]
     },
     "metadata": {},
     "output_type": "display_data"
    },
    {
     "name": "stdout",
     "output_type": "stream",
     "text": [
      "{'type': 'Image', 'bands': [{'id': 'constant', 'data_type': {'type': 'PixelType', 'precision': 'int', 'min': -100, 'max': 100}, 'crs': 'EPSG:4326', 'crs_transform': [1, 0, 0, 0, 1, 0]}]}\n"
     ]
    }
   ],
   "source": [
    "obs_mask = img.unmask(0)\n",
    "obs_mask = obs_mask.rename('observed')\n",
    "#print(obs_mask.getInfo())\n",
    "\n",
    "lakes_binary = lake_polygons.reduceToImage(\n",
    "    properties=['n_lakes'],\n",
    "    reducer=ee.Reducer.anyNonZero()\n",
    ").neq(0)\n",
    "lakes_binary = lakes_binary.rename('buffered_lake')\n",
    "#print(lakes_binary.getInfo())\n",
    "\n",
    "# 100: Observed water\n",
    "# 50: Observed land\n",
    "# -50: Cloudy or ice\n",
    "# -100: Unobserved\n",
    "\n",
    "expr = \"\"\"\n",
    "(water_occurance == 1) ? 100 :\n",
    "((water_occurance != 1) && (buffered_lake == 1)) ? 50 :\n",
    "-100\n",
    "\"\"\"\n",
    "\n",
    "conditional = lakes_binary.expression(\n",
    "    expr,\n",
    "    {\n",
    "        'observed_data': obs_mask.select('observed'),\n",
    "        'buffered_lake': lakes_binary.select('buffered_lake'),\n",
    "        'water_occurance': img_wtr.select('water_occurance'),\n",
    "        'ice_land_cloud': img_land_ice_cloud.select('water_occurance')\n",
    "    }\n",
    ")\n",
    "print(conditional.getInfo())\n",
    "\n"
   ]
  },
  {
   "cell_type": "code",
   "execution_count": 9,
   "id": "fe6d6a57-67e6-41a8-9664-87fd5b5f5293",
   "metadata": {},
   "outputs": [
    {
     "data": {
      "text/html": [
       "\n",
       "            <style>\n",
       "                .geemap-dark {\n",
       "                    --jp-widgets-color: white;\n",
       "                    --jp-widgets-label-color: white;\n",
       "                    --jp-ui-font-color1: white;\n",
       "                    --jp-layout-color2: #454545;\n",
       "                    background-color: #383838;\n",
       "                }\n",
       "\n",
       "                .geemap-dark .jupyter-button {\n",
       "                    --jp-layout-color3: #383838;\n",
       "                }\n",
       "\n",
       "                .geemap-colab {\n",
       "                    background-color: var(--colab-primary-surface-color, white);\n",
       "                }\n",
       "\n",
       "                .geemap-colab .jupyter-button {\n",
       "                    --jp-layout-color3: var(--colab-primary-surface-color, white);\n",
       "                }\n",
       "            </style>\n",
       "            "
      ],
      "text/plain": [
       "<IPython.core.display.HTML object>"
      ]
     },
     "metadata": {},
     "output_type": "display_data"
    },
    {
     "data": {
      "application/vnd.jupyter.widget-view+json": {
       "model_id": "ebf99d22d807499eb3d264bae480425c",
       "version_major": 2,
       "version_minor": 0
      },
      "text/plain": [
       "Map(center=[65, -135], controls=(WidgetControl(options=['position', 'transparent_bg'], widget=SearchDataGUI(ch…"
      ]
     },
     "execution_count": 9,
     "metadata": {},
     "output_type": "execute_result"
    }
   ],
   "source": [
    "obs_viz = {\n",
    "    'bands': ['observed'],\n",
    "    'min': 0,\n",
    "    'max': 1,\n",
    "    'palette': ['red', 'green']\n",
    "}\n",
    "\n",
    "lakes_viz = {\n",
    "    'bands': ['buffered_lake'],\n",
    "    'min': 0,\n",
    "    'max': 1, \n",
    "    'palette': ['white', 'blue']\n",
    "}\n",
    "\n",
    "value_to_color = {\n",
    "    100: 'blue',   # Observed water\n",
    "    50: 'brown',    # Observed land\n",
    "    -50: 'pink',    # Cloudy or ice\n",
    "    -100: 'white'  # Unobserved\n",
    "}\n",
    "\n",
    "conditional_palette = [value_to_color[v] for v in sorted(value_to_color.keys())]\n",
    "\n",
    "\n",
    "conditional_viz = {\n",
    "    'min': min(value_to_color.keys()),\n",
    "    'max': max(value_to_color.keys()), \n",
    "    'palette': conditional_palette,\n",
    "}\n",
    "\n",
    "# Create a map to display the results\n",
    "Map2 = geemap.Map(center=(65, -135), zoom=4)\n",
    "Map2.addLayer(obs_mask, obs_viz, 'Observation Mask')\n",
    "#Map2.addLayer(conditional, conditional_viz, 'Conditional Test')\n",
    "# Map2.addLayer(lakes_binary, lakes_viz, 'Buffered Lakes')\n",
    "\n",
    "qk_viz = {\n",
    "    'bands': ['constant'],\n",
    "    'min': 0,\n",
    "    'max': 2, \n",
    "    'palette': ['white', 'blue']\n",
    "}\n",
    "qk_viz2 = {\n",
    "    'bands': ['constant'],\n",
    "    'min': 0,\n",
    "    'max': 1, \n",
    "    'palette': ['white', 'brown']\n",
    "}\n",
    "\n",
    "\n",
    "Map2.addLayer(img_wtr, qk_viz, 'huhhh')\n",
    "Map2.addLayer(img_land_ice_cloud, qk_viz2, 'land ho?')\n",
    "\n",
    "Map2"
   ]
  },
  {
   "cell_type": "code",
   "execution_count": 28,
   "id": "fd6d5210-831b-4c45-b6f3-480c502589c5",
   "metadata": {},
   "outputs": [
    {
     "data": {
      "text/html": [
       "\n",
       "            <style>\n",
       "                .geemap-dark {\n",
       "                    --jp-widgets-color: white;\n",
       "                    --jp-widgets-label-color: white;\n",
       "                    --jp-ui-font-color1: white;\n",
       "                    --jp-layout-color2: #454545;\n",
       "                    background-color: #383838;\n",
       "                }\n",
       "\n",
       "                .geemap-dark .jupyter-button {\n",
       "                    --jp-layout-color3: #383838;\n",
       "                }\n",
       "\n",
       "                .geemap-colab {\n",
       "                    background-color: var(--colab-primary-surface-color, white);\n",
       "                }\n",
       "\n",
       "                .geemap-colab .jupyter-button {\n",
       "                    --jp-layout-color3: var(--colab-primary-surface-color, white);\n",
       "                }\n",
       "            </style>\n",
       "            "
      ],
      "text/plain": [
       "<IPython.core.display.HTML object>"
      ]
     },
     "metadata": {},
     "output_type": "display_data"
    },
    {
     "name": "stdout",
     "output_type": "stream",
     "text": [
      "{'min': -100, 'max': 100, 'palette': ['white', 'pink', 'brown', 'blue']}\n"
     ]
    }
   ],
   "source": [
    "print(conditional_viz)"
   ]
  },
  {
   "cell_type": "code",
   "execution_count": null,
   "id": "066f5f92-8b26-4687-9b3d-acfe892649a3",
   "metadata": {},
   "outputs": [],
   "source": []
  }
 ],
 "metadata": {
  "kernelspec": {
   "display_name": "Python 3 (ipykernel)",
   "language": "python",
   "name": "python3"
  },
  "language_info": {
   "codemirror_mode": {
    "name": "ipython",
    "version": 3
   },
   "file_extension": ".py",
   "mimetype": "text/x-python",
   "name": "python",
   "nbconvert_exporter": "python",
   "pygments_lexer": "ipython3",
   "version": "3.12.4"
  }
 },
 "nbformat": 4,
 "nbformat_minor": 5
}
