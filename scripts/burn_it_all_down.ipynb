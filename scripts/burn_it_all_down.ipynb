{
 "cells": [
  {
   "cell_type": "code",
   "execution_count": 1,
   "id": "bf26b0bb-8cfc-4610-9f26-14109409c02f",
   "metadata": {},
   "outputs": [],
   "source": [
    "import ee\n",
    "import os\n",
    "import geemap\n",
    "import json\n",
    "import geopandas as gpd\n",
    "import pprint as pp\n",
    "from shapely.geometry import shape\n",
    "\n",
    "ee.Authenticate()\n",
    "ee.Initialize()\n",
    "\n",
    "project_dir = 'projects/alpod-412314/assets/' \n",
    "region = 'YKF'\n",
    "region_path = f'{region}_weekly'\n",
    "folder = project_dir + region_path\n",
    "#pp.pp(ee.data.listAssets(project_dir))\n",
    "#pp.pp(ee.data.listAssets(project_dir + 'region_weekly/'))\n",
    "#pp.pp(ee.data.listAssets(f'{project_dir}Lake_extractions/'))\n",
    "\n",
    "# Read bufferd lake polygons\n",
    "region_buffered_lakes = 'YKF' #!!! TUK_MRD is called TUK_MRD_AND for the lake regions\n",
    "lakes_path = f'{project_dir}Lake_extractions/{region_buffered_lakes}_extraction'\n",
    "lake_polygons = ee.FeatureCollection(lakes_path)\n",
    "\n",
    "# Read weekly mosaics\n",
    "weekly_mosaics = ee.data.listAssets(project_dir + 'region_weekly')\n",
    "weekly_mosaics = weekly_mosaics['assets']"
   ]
  },
  {
   "cell_type": "markdown",
   "id": "8c3b2923-788d-4807-9538-ea902fcf5687",
   "metadata": {},
   "source": [
    "## 2.0 Select weekly mosaics for given timeperiods and ROI"
   ]
  },
  {
   "cell_type": "code",
   "execution_count": 2,
   "id": "b9f76b16-b4c6-47f6-a08c-debafca4d6c7",
   "metadata": {},
   "outputs": [
    {
     "data": {
      "text/html": [
       "\n",
       "            <style>\n",
       "                .geemap-dark {\n",
       "                    --jp-widgets-color: white;\n",
       "                    --jp-widgets-label-color: white;\n",
       "                    --jp-ui-font-color1: white;\n",
       "                    --jp-layout-color2: #454545;\n",
       "                    background-color: #383838;\n",
       "                }\n",
       "\n",
       "                .geemap-dark .jupyter-button {\n",
       "                    --jp-layout-color3: #383838;\n",
       "                }\n",
       "\n",
       "                .geemap-colab {\n",
       "                    background-color: var(--colab-primary-surface-color, white);\n",
       "                }\n",
       "\n",
       "                .geemap-colab .jupyter-button {\n",
       "                    --jp-layout-color3: var(--colab-primary-surface-color, white);\n",
       "                }\n",
       "            </style>\n",
       "            "
      ],
      "text/plain": [
       "<IPython.core.display.HTML object>"
      ]
     },
     "metadata": {},
     "output_type": "display_data"
    },
    {
     "name": "stdout",
     "output_type": "stream",
     "text": [
      "['2016', '2017', '2018', '2019', '2020', '2021', '2022', '2023'] ['22', '23', '24', '25', '26']\n"
     ]
    }
   ],
   "source": [
    "target_years = list(range(2016, 2024))\n",
    "target_years = [str(year) for year in target_years]\n",
    "\n",
    "# June weeks\n",
    "target_weeks = list(range(22, 27))\n",
    "target_weeks = [str(week) for week in target_weeks]\n",
    "\n",
    "max_observations = len(target_years) * len(target_weeks)\n",
    "print(target_years, target_weeks)\n",
    "\n",
    "target_imgs = []\n",
    "target_imgs_footprints = []\n",
    "\n",
    "for img in weekly_mosaics:\n",
    "    img_id = img['id']\n",
    "    temp_region = img_id.split('_')[-3]\n",
    "    temp_region = temp_region.split('/')[-1]\n",
    "    temp_year = img_id.split('_')[-2]\n",
    "    temp_week = img_id.split('_')[-1]\n",
    "\n",
    "    if temp_week in target_weeks and temp_year in target_years and temp_region == region:\n",
    "        #print(img_id)\n",
    "        image = ee.Image(img_id)\n",
    "        image_info = image.getInfo()\n",
    "        #pp.pp(image_info)\n",
    "        image_coords = image_info['properties']['system:footprint']['coordinates']\n",
    "        polygon_ee = ee.Geometry.Polygon(image_coords)\n",
    "\n",
    "        target_imgs.append(image)\n",
    "        target_imgs_footprints.append(polygon_ee)\n",
    "\n",
    "\n",
    "p1 = target_imgs_footprints[0]\n",
    "p2 = target_imgs_footprints[1]\n",
    "\n",
    "combined_footprint = p1.union(p2)\n",
    "\n",
    "for i in range(2, len(target_imgs_footprints)):\n",
    "    p = target_imgs_footprints[i]\n",
    "    combined_footprint = combined_footprint.union(p)\n",
    "\n",
    "combined_footprint_info = combined_footprint.getInfo()\n",
    "geojson_footprint = json.dumps(combined_footprint_info)\n",
    "geometry = shape(json.loads(geojson_footprint))\n",
    "roi_gdf = gpd.GeoDataFrame([{'geometry': geometry, 'roi': f'{region}'}], crs=\"EPSG:4326\")\n",
    "# os.chdir('/Users/jmaze/Documents/projects/altimetry_lakes_v3/')\n",
    "# roi_gdf.to_file(f'./data/ew_rois/{region}_bbox.shp')\n"
   ]
  },
  {
   "cell_type": "markdown",
   "id": "9240bbb8-db66-41f5-a337-acda18ee4dec",
   "metadata": {},
   "source": [
    "## Conditional images"
   ]
  },
  {
   "cell_type": "code",
   "execution_count": 3,
   "id": "0a9f1c97-f3a5-4c3a-8a13-17cd91e51072",
   "metadata": {},
   "outputs": [
    {
     "data": {
      "text/html": [
       "\n",
       "            <style>\n",
       "                .geemap-dark {\n",
       "                    --jp-widgets-color: white;\n",
       "                    --jp-widgets-label-color: white;\n",
       "                    --jp-ui-font-color1: white;\n",
       "                    --jp-layout-color2: #454545;\n",
       "                    background-color: #383838;\n",
       "                }\n",
       "\n",
       "                .geemap-dark .jupyter-button {\n",
       "                    --jp-layout-color3: #383838;\n",
       "                }\n",
       "\n",
       "                .geemap-colab {\n",
       "                    background-color: var(--colab-primary-surface-color, white);\n",
       "                }\n",
       "\n",
       "                .geemap-colab .jupyter-button {\n",
       "                    --jp-layout-color3: var(--colab-primary-surface-color, white);\n",
       "                }\n",
       "            </style>\n",
       "            "
      ],
      "text/plain": [
       "<IPython.core.display.HTML object>"
      ]
     },
     "metadata": {},
     "output_type": "display_data"
    }
   ],
   "source": [
    "conditional_images = []\n",
    "\n",
    "for img in target_imgs:\n",
    "\n",
    "    # All observed pixels = 1\n",
    "    obs_mask = img.unmask(0)\n",
    "    obs_mask = obs_mask.rename('observed')\n",
    "    #print(obs_mask.getInfo())\n",
    "    \n",
    "    # All water pixels = 2\n",
    "    img_wtr = ee.Image.constant(0)\n",
    "    img_wtr = img_wtr.where(img.select('water_occurance').eq(1), 2)\n",
    "    img_wtr = img_wtr.rename('wtr_occurance')\n",
    "    \n",
    "    # All land pixels = 1\n",
    "    img_land = ee.Image.constant(0)\n",
    "    img_land = img_land.where(img.select('water_occurance').eq(0), 1)\n",
    "    img_land = img_land.rename('land_occurance')\n",
    "    \n",
    "    # Lake shapes from original polygons 1=Lake, 0=Not a lake\n",
    "    lakes_binary = lake_polygons.reduceToImage(\n",
    "        properties=['n_lakes'],\n",
    "        reducer=ee.Reducer.anyNonZero()\n",
    "    ).neq(0)\n",
    "    lakes_binary = lakes_binary.rename('buffered_lake')\n",
    "\n",
    "    expr = \"\"\"\n",
    "    (wtr_observed == 2) ? 2 :\n",
    "    (land_observed == 1) ? 1 :\n",
    "    ((buffered_lake == 1) && (land_observed == 0) && (wtr_observed != 2)) ? 3 :\n",
    "    0\n",
    "    \"\"\"\n",
    "    conditional = ee.Image.constant(0)\n",
    "    conditional = lakes_binary.expression(\n",
    "        expr,\n",
    "        {\n",
    "            'wtr_observed': img_wtr.select('wtr_occurance'),\n",
    "            'land_observed': img_land.select('land_occurance'),\n",
    "            'buffered_lake': lakes_binary.select('buffered_lake'),\n",
    "        }\n",
    "    )\n",
    "    \n",
    "    conditional = conditional.rename('class')\n",
    "    #print(conditional.getInfo())\n",
    "\n",
    "    conditional_images.append(conditional)"
   ]
  },
  {
   "cell_type": "code",
   "execution_count": 4,
   "id": "bbecb25d-7287-4eea-80c0-99ccdbc39f95",
   "metadata": {},
   "outputs": [
    {
     "data": {
      "text/html": [
       "\n",
       "            <style>\n",
       "                .geemap-dark {\n",
       "                    --jp-widgets-color: white;\n",
       "                    --jp-widgets-label-color: white;\n",
       "                    --jp-ui-font-color1: white;\n",
       "                    --jp-layout-color2: #454545;\n",
       "                    background-color: #383838;\n",
       "                }\n",
       "\n",
       "                .geemap-dark .jupyter-button {\n",
       "                    --jp-layout-color3: #383838;\n",
       "                }\n",
       "\n",
       "                .geemap-colab {\n",
       "                    background-color: var(--colab-primary-surface-color, white);\n",
       "                }\n",
       "\n",
       "                .geemap-colab .jupyter-button {\n",
       "                    --jp-layout-color3: var(--colab-primary-surface-color, white);\n",
       "                }\n",
       "            </style>\n",
       "            "
      ],
      "text/plain": [
       "<IPython.core.display.HTML object>"
      ]
     },
     "metadata": {},
     "output_type": "display_data"
    },
    {
     "name": "stdout",
     "output_type": "stream",
     "text": [
      "Highest possible observation count 38\n",
      "Water sum image: {'type': 'Image', 'bands': [{'id': 'class', 'data_type': {'type': 'PixelType', 'precision': 'int', 'min': -9.223372036854776e+18, 'max': 9.223372036854776e+18}, 'crs': 'EPSG:4326', 'crs_transform': [1, 0, 0, 0, 1, 0]}]}\n",
      "Land sum image: {'type': 'Image', 'bands': [{'id': 'class', 'data_type': {'type': 'PixelType', 'precision': 'int', 'min': -9.223372036854776e+18, 'max': 9.223372036854776e+18}, 'crs': 'EPSG:4326', 'crs_transform': [1, 0, 0, 0, 1, 0]}]}\n",
      "Invalid observations sum image: {'type': 'Image', 'bands': [{'id': 'class', 'data_type': {'type': 'PixelType', 'precision': 'int', 'min': -9.223372036854776e+18, 'max': 9.223372036854776e+18}, 'crs': 'EPSG:4326', 'crs_transform': [1, 0, 0, 0, 1, 0]}]}\n",
      "{'type': 'Image',\n",
      " 'bands': [{'id': 'class',\n",
      "            'data_type': {'type': 'PixelType', 'precision': 'float'},\n",
      "            'dimensions': [10, 3],\n",
      "            'origin': [-151, 65],\n",
      "            'crs': 'EPSG:4326',\n",
      "            'crs_transform': [1, 0, 0, 0, 1, 0]}],\n",
      " 'properties': {'system:footprint': {'type': 'Polygon',\n",
      "                                     'coordinates': [[[-143.429955474269,\n",
      "                                                       65.71484710946645],\n",
      "                                                      [-142.92619708902367,\n",
      "                                                       65.71484717353448],\n",
      "                                                      [-142.42243879325736,\n",
      "                                                       65.71484711817259],\n",
      "                                                      [-141.98143137997073,\n",
      "                                                       65.71493768422745],\n",
      "                                                      [-141.98141538441251,\n",
      "                                                       67.46145666683648],\n",
      "                                                      [-143.74480457003565,\n",
      "                                                       67.46145678733276],\n",
      "                                                      [-145.00420040396952,\n",
      "                                                       67.46145681912714],\n",
      "                                                      [-145.88577760241958,\n",
      "                                                       67.46145675218756],\n",
      "                                                      [-147.39705261215383,\n",
      "                                                       67.46145680782523],\n",
      "                                                      [-149.160206989028,\n",
      "                                                       67.46145677854993],\n",
      "                                                      [-150.04201876636859,\n",
      "                                                       67.46145669397382],\n",
      "                                                      [-150.04200275084878,\n",
      "                                                       65.71400313502335],\n",
      "                                                      [-149.16020702441352,\n",
      "                                                       65.71473038800518],\n",
      "                                                      [-148.59347876611218,\n",
      "                                                       65.71484715503617],\n",
      "                                                      [-148.02675066110496,\n",
      "                                                       65.71473036178043],\n",
      "                                                      [-147.2711129269369,\n",
      "                                                       65.71441907937727],\n",
      "                                                      [-146.57844523086928,\n",
      "                                                       65.71484717942806],\n",
      "                                                      [-145.94874723213204,\n",
      "                                                       65.7145877085966],\n",
      "                                                      [-145.06717012913907,\n",
      "                                                       65.71422445384819],\n",
      "                                                      [-144.1226231888334,\n",
      "                                                       65.7144190838556],\n",
      "                                                      [-143.429955474269,\n",
      "                                                       65.71484710946645]]]}}}\n"
     ]
    }
   ],
   "source": [
    "collection = ee.ImageCollection(conditional_images)\n",
    "\n",
    "def mask_and_set_to_one(image, class_value, footprint):\n",
    "    image_updated = image.updateMask(image.eq(class_value)).multiply(0).add(1)\n",
    "    return image_updated.clip(footprint)\n",
    "\n",
    "# Create images for each class\n",
    "land_images = collection.map(lambda img: mask_and_set_to_one(img.select('class'), 1, combined_footprint))\n",
    "wtr_images = collection.map(lambda img: mask_and_set_to_one(img.select('class'), 2, combined_footprint))\n",
    "inval_images = collection.map(lambda img: mask_and_set_to_one(img.select('class'), 3, combined_footprint))\n",
    "\n",
    "# Sum the images\n",
    "wtr_sum_img = wtr_images.sum()\n",
    "land_sum_img = land_images.sum()\n",
    "inval_observations_sum_img = inval_images.sum()\n",
    "\n",
    "# Calc % water for observed images across each pixel\n",
    "max_obs = len(target_imgs)\n",
    "print(f'Highest possible observation count {max_obs}')\n",
    "\n",
    "max_obs_image = ee.Image.constant(max_obs).clip(combined_footprint)\n",
    "wtr_occurance_frac = wtr_sum_img.divide(max_obs_image.subtract(inval_observations_sum_img))\n",
    "\n",
    "# Example: Print the result\n",
    "print(\"Water sum image:\", wtr_sum_img.getInfo())\n",
    "print(\"Land sum image:\", land_sum_img.getInfo())\n",
    "print(\"Invalid observations sum image:\", inval_observations_sum_img.getInfo())\n",
    "pp.pp(wtr_occurance_frac.getInfo())\n",
    "\n"
   ]
  },
  {
   "cell_type": "code",
   "execution_count": null,
   "id": "f4c81e84-8b41-465a-b74e-3449d04812d0",
   "metadata": {},
   "outputs": [],
   "source": [
    "band = wtr_occurance_frac.select('class')\n",
    "\n",
    "# coordinates = [\n",
    "#     [-146.42929053, 66.34721564],\n",
    "#     [-145.73500565, 66.32739946],\n",
    "#     [-145.74722181, 66.15123003],\n",
    "#     [-146.51124058, 66.15822638]\n",
    "# ]\n",
    "\n",
    "# # Create the polygon geometry\n",
    "# t = ee.Geometry.Polygon([coordinates])\n",
    "\n",
    "histogram = band.reduceRegion(\n",
    "    reducer=ee.Reducer.fixedHistogram(min=0, max=1, steps=20),\n",
    "    geometry=combined_footprint,\n",
    "    scale=10,\n",
    "    maxPixels=1e13,\n",
    ")\n",
    "result = histogram.getInfo()\n",
    "\n",
    "\n",
    "# wtr_frac_viz = {\n",
    "#     'bands': ['class'],\n",
    "#     'min': 0,\n",
    "#     'max': 1,\n",
    "#     'palette': ['brown', 'green', 'blue']\n",
    "# }\n",
    "\n",
    "\n",
    "# Map = geemap.Map(center=(65, -135), zoom=4)\n",
    "# Map.addLayer(wtr_occurance_frac, wtr_frac_viz, 'water frac')\n",
    "# Map"
   ]
  },
  {
   "cell_type": "code",
   "execution_count": 23,
   "id": "9d870cbf-c80a-4c80-8206-8b5e4aa166f5",
   "metadata": {},
   "outputs": [
    {
     "data": {
      "text/html": [
       "\n",
       "            <style>\n",
       "                .geemap-dark {\n",
       "                    --jp-widgets-color: white;\n",
       "                    --jp-widgets-label-color: white;\n",
       "                    --jp-ui-font-color1: white;\n",
       "                    --jp-layout-color2: #454545;\n",
       "                    background-color: #383838;\n",
       "                }\n",
       "\n",
       "                .geemap-dark .jupyter-button {\n",
       "                    --jp-layout-color3: #383838;\n",
       "                }\n",
       "\n",
       "                .geemap-colab {\n",
       "                    background-color: var(--colab-primary-surface-color, white);\n",
       "                }\n",
       "\n",
       "                .geemap-colab .jupyter-button {\n",
       "                    --jp-layout-color3: var(--colab-primary-surface-color, white);\n",
       "                }\n",
       "            </style>\n",
       "            "
      ],
      "text/plain": [
       "<IPython.core.display.HTML object>"
      ]
     },
     "metadata": {},
     "output_type": "display_data"
    },
    {
     "name": "stdout",
     "output_type": "stream",
     "text": [
      "{'class': [[0, 158463.58039215687],\n",
      "           [0.05, 267614.39607843134],\n",
      "           [0.1, 191810.09019607844],\n",
      "           [0.15000000000000002, 80455.62745098039],\n",
      "           [0.2, 69341.78823529412],\n",
      "           [0.25, 61349.10196078431],\n",
      "           [0.30000000000000004, 40174.52549019607],\n",
      "           [0.35000000000000003, 30420.596078431372],\n",
      "           [0.4, 38980.93725490196],\n",
      "           [0.45, 33297.560784313726],\n",
      "           [0.5, 44809.53725490196],\n",
      "           [0.55, 42351.36862745098],\n",
      "           [0.6000000000000001, 26024.141176470588],\n",
      "           [0.65, 42943.407843137255],\n",
      "           [0.7000000000000001, 26687.35294117647],\n",
      "           [0.75, 36461.03137254902],\n",
      "           [0.8, 45933.458823529414],\n",
      "           [0.8500000000000001, 71779.74901960784],\n",
      "           [0.9, 118972.91372549019],\n",
      "           [0.9500000000000001, 82322.6]]}\n"
     ]
    }
   ],
   "source": [
    "pp.pp(result)import matplotlib.pyplot as plt\n",
    "\n",
    "class_values, frequencies = zip(*result['class'])\n",
    "\n",
    "# Create a bar plot\n",
    "plt.figure(figsize=(12, 6))\n",
    "plt.bar(class_values, frequencies, width=0.03, align='center')\n",
    "plt.xticks(class_values, rotation=45)  # Rotate x-ticks for better visibility\n",
    "plt.grid(axis='y', linestyle='--', alpha=0.7)\n",
    "plt.tight_layout()\n",
    "plt.show()"
   ]
  },
  {
   "cell_type": "code",
   "execution_count": 6,
   "id": "fe6d6a57-67e6-41a8-9664-87fd5b5f5293",
   "metadata": {
    "scrolled": true
   },
   "outputs": [
    {
     "data": {
      "text/html": [
       "\n",
       "            <style>\n",
       "                .geemap-dark {\n",
       "                    --jp-widgets-color: white;\n",
       "                    --jp-widgets-label-color: white;\n",
       "                    --jp-ui-font-color1: white;\n",
       "                    --jp-layout-color2: #454545;\n",
       "                    background-color: #383838;\n",
       "                }\n",
       "\n",
       "                .geemap-dark .jupyter-button {\n",
       "                    --jp-layout-color3: #383838;\n",
       "                }\n",
       "\n",
       "                .geemap-colab {\n",
       "                    background-color: var(--colab-primary-surface-color, white);\n",
       "                }\n",
       "\n",
       "                .geemap-colab .jupyter-button {\n",
       "                    --jp-layout-color3: var(--colab-primary-surface-color, white);\n",
       "                }\n",
       "            </style>\n",
       "            "
      ],
      "text/plain": [
       "<IPython.core.display.HTML object>"
      ]
     },
     "metadata": {},
     "output_type": "display_data"
    },
    {
     "data": {
      "application/vnd.jupyter.widget-view+json": {
       "model_id": "834c651f503e4134a1044aeba9ad2bcd",
       "version_major": 2,
       "version_minor": 0
      },
      "text/plain": [
       "Map(center=[65, -135], controls=(WidgetControl(options=['position', 'transparent_bg'], widget=SearchDataGUI(ch…"
      ]
     },
     "execution_count": 6,
     "metadata": {},
     "output_type": "execute_result"
    }
   ],
   "source": []
  },
  {
   "cell_type": "code",
   "execution_count": 6,
   "id": "df832fb0-2fd0-4cc4-9455-116d6d0b1bee",
   "metadata": {},
   "outputs": [
    {
     "data": {
      "text/html": [
       "\n",
       "            <style>\n",
       "                .geemap-dark {\n",
       "                    --jp-widgets-color: white;\n",
       "                    --jp-widgets-label-color: white;\n",
       "                    --jp-ui-font-color1: white;\n",
       "                    --jp-layout-color2: #454545;\n",
       "                    background-color: #383838;\n",
       "                }\n",
       "\n",
       "                .geemap-dark .jupyter-button {\n",
       "                    --jp-layout-color3: #383838;\n",
       "                }\n",
       "\n",
       "                .geemap-colab {\n",
       "                    background-color: var(--colab-primary-surface-color, white);\n",
       "                }\n",
       "\n",
       "                .geemap-colab .jupyter-button {\n",
       "                    --jp-layout-color3: var(--colab-primary-surface-color, white);\n",
       "                }\n",
       "            </style>\n",
       "            "
      ],
      "text/plain": [
       "<IPython.core.display.HTML object>"
      ]
     },
     "metadata": {},
     "output_type": "display_data"
    }
   ],
   "source": [
    "task = ee.batch.Export.image.toDrive(\n",
    "    image=wtr_occurance_frac,\n",
    "    description='test4real',\n",
    "    folder='temp',\n",
    "    fileNamePrefix='test4real',\n",
    "    scale=10,\n",
    "    crs='EPSG:4326',\n",
    "    maxPixels=1e13\n",
    ")\n",
    "task.start()"
   ]
  },
  {
   "cell_type": "code",
   "execution_count": null,
   "id": "b4c45d6e-b2e9-4782-8709-5bfc12736c3e",
   "metadata": {},
   "outputs": [],
   "source": []
  },
  {
   "cell_type": "code",
   "execution_count": null,
   "id": "56e4790b-fa0d-4dd4-9142-8dd388dc7bde",
   "metadata": {},
   "outputs": [],
   "source": [
    "obs_viz = {\n",
    "    'bands': ['observed'],\n",
    "    'min': 0,\n",
    "    'max': 1,\n",
    "    'palette': ['red', 'green']\n",
    "}\n",
    "lakes_viz = {\n",
    "    'bands': ['buffered_lake'],\n",
    "    'min': 0,\n",
    "    'max': 1, \n",
    "    'palette': ['white', 'blue']\n",
    "}\n",
    "qk_viz = {\n",
    "    'bands': ['wtr_occurance'],\n",
    "    'min': 0,\n",
    "    'max': 2, \n",
    "    'palette': ['white', 'blue']\n",
    "}\n",
    "qk_viz2 = {\n",
    "    'bands': ['land_occurance'],\n",
    "    'min': 0,\n",
    "    'max': 1, \n",
    "    'palette': ['white', 'brown']\n",
    "}\n",
    "\n",
    "conditional_palette = ['grey', 'brown', 'blue', 'pink']\n",
    "conditional_viz = {\n",
    "    'band': ['class'],\n",
    "    'min': 0,\n",
    "    'max': 3,\n",
    "    'palette': conditional_palette,\n",
    "}\n",
    "\n",
    "conditional_test = ee.Image(conditional_images[22])\n",
    "\n",
    "# Create a map to display the results\n",
    "Map = geemap.Map(center=(65, -135), zoom=4)\n",
    "#Map.addLayer(obs_mask, obs_viz, 'Observation Mask')\n",
    "Map.addLayer(conditional_test, conditional_viz, 'Conditional Test')\n",
    "#Map.addLayer(lakes_binary, lakes_viz, 'Buffered Lakes')\n",
    "#Map.addLayer(img_wtr, qk_viz, 'water')\n",
    "#Map.addLayer(img_land, qk_viz2, 'land?')\n",
    "\n",
    "Map"
   ]
  }
 ],
 "metadata": {
  "kernelspec": {
   "display_name": "Python 3 (ipykernel)",
   "language": "python",
   "name": "python3"
  },
  "language_info": {
   "codemirror_mode": {
    "name": "ipython",
    "version": 3
   },
   "file_extension": ".py",
   "mimetype": "text/x-python",
   "name": "python",
   "nbconvert_exporter": "python",
   "pygments_lexer": "ipython3",
   "version": "3.12.4"
  }
 },
 "nbformat": 4,
 "nbformat_minor": 5
}
