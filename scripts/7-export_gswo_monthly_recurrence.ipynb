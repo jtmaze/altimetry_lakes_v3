{
 "cells": [
  {
   "cell_type": "markdown",
   "id": "499e6c33-5e97-4192-9af5-4500b269ce1f",
   "metadata": {},
   "source": [
    "### 1.0 Libraries and directories"
   ]
  },
  {
   "cell_type": "code",
   "execution_count": 1,
   "id": "98e379c8-9309-469f-83f1-df6f40fbe48b",
   "metadata": {},
   "outputs": [
    {
     "name": "stdout",
     "output_type": "stream",
     "text": [
      "['projects/alpod-412314/assets/ROIs/AKCP_roi',\n",
      " 'projects/alpod-412314/assets/ROIs/MRD_TUK_Anderson_roi',\n",
      " 'projects/alpod-412314/assets/ROIs/MRD_roi',\n",
      " 'projects/alpod-412314/assets/ROIs/TUK_roi',\n",
      " 'projects/alpod-412314/assets/ROIs/YKdelta_roi',\n",
      " 'projects/alpod-412314/assets/ROIs/YKflats_roi',\n",
      " 'projects/alpod-412314/assets/ROIs/anderson_plain_roi']\n"
     ]
    }
   ],
   "source": [
    "import glob\n",
    "import pprint as pp\n",
    "import pandas as pd\n",
    "import geopandas as gpd\n",
    "import ee\n",
    "import geemap\n",
    "\n",
    "ee.Authenticate()\n",
    "ee.Initialize()\n",
    "\n",
    "rois = ee.data.listAssets('projects/alpod-412314/assets/ROIs/')\n",
    "rois_ids = [roi['id'] for roi in rois['assets']]\n",
    "rois_ids.remove('projects/alpod-412314/assets/ROIs/all_regions')\n",
    "pp.pp(rois_ids)\n"
   ]
  },
  {
   "cell_type": "markdown",
   "id": "78ad19e3-8331-4f84-856e-e1bac9707577",
   "metadata": {},
   "source": [
    "## !! 2.0 Run these for Monthly Recurrence (all years)"
   ]
  },
  {
   "cell_type": "code",
   "execution_count": 2,
   "id": "74ba0648-ed82-46fe-bd49-1d5571e97928",
   "metadata": {},
   "outputs": [
    {
     "data": {
      "text/html": [
       "\n",
       "            <style>\n",
       "                .geemap-dark {\n",
       "                    --jp-widgets-color: white;\n",
       "                    --jp-widgets-label-color: white;\n",
       "                    --jp-ui-font-color1: white;\n",
       "                    --jp-layout-color2: #454545;\n",
       "                    background-color: #383838;\n",
       "                }\n",
       "\n",
       "                .geemap-dark .jupyter-button {\n",
       "                    --jp-layout-color3: #383838;\n",
       "                }\n",
       "\n",
       "                .geemap-colab {\n",
       "                    background-color: var(--colab-primary-surface-color, white);\n",
       "                }\n",
       "\n",
       "                .geemap-colab .jupyter-button {\n",
       "                    --jp-layout-color3: var(--colab-primary-surface-color, white);\n",
       "                }\n",
       "            </style>\n",
       "            "
      ],
      "text/plain": [
       "<IPython.core.display.HTML object>"
      ]
     },
     "metadata": {},
     "output_type": "display_data"
    }
   ],
   "source": [
    "# rois = ee.data.listAssets('projects/alpod-412314/assets/ROIs/')\n",
    "# rois_ids = [roi['id'] for roi in rois['assets']]\n",
    "# rois_ids.remove('projects/alpod-412314/assets/ROIs/all_regions')\n",
    "# pp.pp(rois_ids)\n",
    "\n",
    "\n",
    "# gswo_monthly_recurrence = ee.ImageCollection('JRC/GSW1_4/MonthlyRecurrence')\n",
    "# june = 6\n",
    "# aug = 8\n",
    "# june_data = gswo_monthly_recurrence.filter(ee.Filter.eq('month', june)).first()\n",
    "# aug_data = gswo_monthly_recurrence.filter(ee.Filter.eq('month', aug)).first()"
   ]
  },
  {
   "cell_type": "code",
   "execution_count": 3,
   "id": "d0d2921c-afab-4981-a98e-488442cdd489",
   "metadata": {},
   "outputs": [
    {
     "data": {
      "text/html": [
       "\n",
       "            <style>\n",
       "                .geemap-dark {\n",
       "                    --jp-widgets-color: white;\n",
       "                    --jp-widgets-label-color: white;\n",
       "                    --jp-ui-font-color1: white;\n",
       "                    --jp-layout-color2: #454545;\n",
       "                    background-color: #383838;\n",
       "                }\n",
       "\n",
       "                .geemap-dark .jupyter-button {\n",
       "                    --jp-layout-color3: #383838;\n",
       "                }\n",
       "\n",
       "                .geemap-colab {\n",
       "                    background-color: var(--colab-primary-surface-color, white);\n",
       "                }\n",
       "\n",
       "                .geemap-colab .jupyter-button {\n",
       "                    --jp-layout-color3: var(--colab-primary-surface-color, white);\n",
       "                }\n",
       "            </style>\n",
       "            "
      ],
      "text/plain": [
       "<IPython.core.display.HTML object>"
      ]
     },
     "metadata": {},
     "output_type": "display_data"
    }
   ],
   "source": [
    "# def export_rois(roi_id, target_img, month_name):\n",
    "    \n",
    "#     roi_name_temp = roi_id.split('/')[-1]\n",
    "#     roi_name = roi_name_temp.split('_roi')[0]\n",
    "#     feature = ee.FeatureCollection(roi_id).first()\n",
    "#     bounds = feature.geometry()\n",
    "\n",
    "#     clipped_img = target_img.clip(bounds)\n",
    "\n",
    "#     export_params = {\n",
    "#         'image': clipped_img,\n",
    "#         'description': f'GSWORecurrence_{roi_name}_month_{month_name}_', \n",
    "#         'fileNamePrefix': f'GSWORecurrence_{roi_name}_month_{month_name}_',\n",
    "#         'folder': 'gswo_exports', \n",
    "#         'scale': 30,\n",
    "#         'crs': 'EPSG:4326',\n",
    "#         'region': bounds,\n",
    "#         'fileFormat': 'GeoTIFF',\n",
    "#         'maxPixels': 1e13\n",
    "#     }\n",
    "\n",
    "#     ee.batch.Export.image.toDrive(**export_params).start()"
   ]
  },
  {
   "cell_type": "code",
   "execution_count": 4,
   "id": "a9c7a5f1-5ac1-44f2-8a50-bfbd353ef527",
   "metadata": {},
   "outputs": [
    {
     "data": {
      "text/html": [
       "\n",
       "            <style>\n",
       "                .geemap-dark {\n",
       "                    --jp-widgets-color: white;\n",
       "                    --jp-widgets-label-color: white;\n",
       "                    --jp-ui-font-color1: white;\n",
       "                    --jp-layout-color2: #454545;\n",
       "                    background-color: #383838;\n",
       "                }\n",
       "\n",
       "                .geemap-dark .jupyter-button {\n",
       "                    --jp-layout-color3: #383838;\n",
       "                }\n",
       "\n",
       "                .geemap-colab {\n",
       "                    background-color: var(--colab-primary-surface-color, white);\n",
       "                }\n",
       "\n",
       "                .geemap-colab .jupyter-button {\n",
       "                    --jp-layout-color3: var(--colab-primary-surface-color, white);\n",
       "                }\n",
       "            </style>\n",
       "            "
      ],
      "text/plain": [
       "<IPython.core.display.HTML object>"
      ]
     },
     "metadata": {},
     "output_type": "display_data"
    }
   ],
   "source": [
    "# datasets = [june_data, aug_data]\n",
    "# month_names = ['june', 'aug']\n",
    "\n",
    "# monthly_datasets = list(zip(month_names, datasets))\n",
    "\n",
    "# for month, ds in monthly_datasets:\n",
    "#     for roi_id in rois_ids:\n",
    "#         export_rois(roi_id, ds, month)"
   ]
  },
  {
   "cell_type": "markdown",
   "id": "a3293970-d23a-4982-8be4-ba9c959c87c0",
   "metadata": {},
   "source": [
    "## !! Run these for Monthly History (specific years)"
   ]
  },
  {
   "cell_type": "code",
   "execution_count": 5,
   "id": "5c54de73-8157-4c4c-9c65-d9f5d39d0566",
   "metadata": {},
   "outputs": [
    {
     "data": {
      "text/html": [
       "\n",
       "            <style>\n",
       "                .geemap-dark {\n",
       "                    --jp-widgets-color: white;\n",
       "                    --jp-widgets-label-color: white;\n",
       "                    --jp-ui-font-color1: white;\n",
       "                    --jp-layout-color2: #454545;\n",
       "                    background-color: #383838;\n",
       "                }\n",
       "\n",
       "                .geemap-dark .jupyter-button {\n",
       "                    --jp-layout-color3: #383838;\n",
       "                }\n",
       "\n",
       "                .geemap-colab {\n",
       "                    background-color: var(--colab-primary-surface-color, white);\n",
       "                }\n",
       "\n",
       "                .geemap-colab .jupyter-button {\n",
       "                    --jp-layout-color3: var(--colab-primary-surface-color, white);\n",
       "                }\n",
       "            </style>\n",
       "            "
      ],
      "text/plain": [
       "<IPython.core.display.HTML object>"
      ]
     },
     "metadata": {},
     "output_type": "display_data"
    },
    {
     "name": "stdout",
     "output_type": "stream",
     "text": [
      "['2016_06', '2017_06', '2018_06', '2019_06', '2020_06']\n",
      "['2016_08', '2017_08', '2018_08', '2019_08', '2020_08']\n",
      "5 5\n"
     ]
    }
   ],
   "source": [
    "gswo_monthly_water_hist = ee.ImageCollection('JRC/GSW1_4/MonthlyHistory')\n",
    "years = range(2016, 2021) # 2016 through 2020 is common timeframe | 1984 through 2021 is full timeframe\n",
    "\n",
    "june_idx = [f'{year}_06' for year in years]\n",
    "print(june_idx)\n",
    "aug_idx = [f'{year}_08' for year in years]\n",
    "print(aug_idx)\n",
    "\n",
    "june_imgs = gswo_monthly_water_hist.filter(ee.Filter.inList('system:index', june_idx))\n",
    "aug_imgs = gswo_monthly_water_hist.filter(ee.Filter.inList('system:index', aug_idx))\n",
    "\n",
    "june_max_obs = june_imgs.size().getInfo()\n",
    "aug_max_obs = aug_imgs.size().getInfo()\n",
    "print(june_max_obs, aug_max_obs)"
   ]
  },
  {
   "cell_type": "code",
   "execution_count": 6,
   "id": "62f5ba7a-dcb3-4707-90a0-c6ee3d49e3f7",
   "metadata": {},
   "outputs": [
    {
     "data": {
      "text/html": [
       "\n",
       "            <style>\n",
       "                .geemap-dark {\n",
       "                    --jp-widgets-color: white;\n",
       "                    --jp-widgets-label-color: white;\n",
       "                    --jp-ui-font-color1: white;\n",
       "                    --jp-layout-color2: #454545;\n",
       "                    background-color: #383838;\n",
       "                }\n",
       "\n",
       "                .geemap-dark .jupyter-button {\n",
       "                    --jp-layout-color3: #383838;\n",
       "                }\n",
       "\n",
       "                .geemap-colab {\n",
       "                    background-color: var(--colab-primary-surface-color, white);\n",
       "                }\n",
       "\n",
       "                .geemap-colab .jupyter-button {\n",
       "                    --jp-layout-color3: var(--colab-primary-surface-color, white);\n",
       "                }\n",
       "            </style>\n",
       "            "
      ],
      "text/plain": [
       "<IPython.core.display.HTML object>"
      ]
     },
     "metadata": {},
     "output_type": "display_data"
    }
   ],
   "source": [
    "\"\"\"GSWO bitmask for water is...\n",
    "0: no data\n",
    "1: no water \n",
    "2: water\n",
    "\"\"\"\n",
    "def select_invalid_pixels(img, mask_val):\n",
    "\n",
    "    img_unmasked = img.unmask(mask_val)\n",
    "    inval_pixels = img_unmasked.eq(mask_val)\n",
    "    inval_pixels = inval_pixels.updateMask(ee.Image.constant(1))\n",
    "    return inval_pixels\n",
    "\n",
    "def select_water_pixels(img, water_val):\n",
    "    water_pixels = img.eq(water_val)\n",
    "    return water_pixels"
   ]
  },
  {
   "cell_type": "code",
   "execution_count": 7,
   "id": "2f1a4647-f02d-4c16-9f84-61699f2a7f2c",
   "metadata": {},
   "outputs": [
    {
     "data": {
      "text/html": [
       "\n",
       "            <style>\n",
       "                .geemap-dark {\n",
       "                    --jp-widgets-color: white;\n",
       "                    --jp-widgets-label-color: white;\n",
       "                    --jp-ui-font-color1: white;\n",
       "                    --jp-layout-color2: #454545;\n",
       "                    background-color: #383838;\n",
       "                }\n",
       "\n",
       "                .geemap-dark .jupyter-button {\n",
       "                    --jp-layout-color3: #383838;\n",
       "                }\n",
       "\n",
       "                .geemap-colab {\n",
       "                    background-color: var(--colab-primary-surface-color, white);\n",
       "                }\n",
       "\n",
       "                .geemap-colab .jupyter-button {\n",
       "                    --jp-layout-color3: var(--colab-primary-surface-color, white);\n",
       "                }\n",
       "            </style>\n",
       "            "
      ],
      "text/plain": [
       "<IPython.core.display.HTML object>"
      ]
     },
     "metadata": {},
     "output_type": "display_data"
    }
   ],
   "source": [
    "def mask_invalid_pixels(img, mask_val):\n",
    "    data_mask = img.neq(mask_val)\n",
    "    data = img.updateMask(data_mask)\n",
    "    return data"
   ]
  },
  {
   "cell_type": "code",
   "execution_count": null,
   "id": "639df25f-6240-4785-88a8-fe7d09955c74",
   "metadata": {},
   "outputs": [
    {
     "data": {
      "text/html": [
       "\n",
       "            <style>\n",
       "                .geemap-dark {\n",
       "                    --jp-widgets-color: white;\n",
       "                    --jp-widgets-label-color: white;\n",
       "                    --jp-ui-font-color1: white;\n",
       "                    --jp-layout-color2: #454545;\n",
       "                    background-color: #383838;\n",
       "                }\n",
       "\n",
       "                .geemap-dark .jupyter-button {\n",
       "                    --jp-layout-color3: #383838;\n",
       "                }\n",
       "\n",
       "                .geemap-colab {\n",
       "                    background-color: var(--colab-primary-surface-color, white);\n",
       "                }\n",
       "\n",
       "                .geemap-colab .jupyter-button {\n",
       "                    --jp-layout-color3: var(--colab-primary-surface-color, white);\n",
       "                }\n",
       "            </style>\n",
       "            "
      ],
      "text/plain": [
       "<IPython.core.display.HTML object>"
      ]
     },
     "metadata": {},
     "output_type": "display_data"
    }
   ],
   "source": [
    "def calc_valid_occurrence(img_collection, max_obs, mask_val, water_val):\n",
    "    # \n",
    "    invalid_masks = img_collection.map(lambda img: select_invalid_pixels(img, mask_val))\n",
    "    sum_invalid = invalid_masks.reduce(ee.Reducer.sum())\n",
    "\n",
    "    # Sum valid water obsergations in each image\n",
    "    data = img_collection.map(lambda img: mask_invalid_pixels(img, mask_val))\n",
    "    wtr_imgs = data.map(lambda img: select_water_pixels(img, water_val))\n",
    "    sum_water = wtr_imgs.reduce(ee.Reducer.sum())\n",
    "\n",
    "    # Calculate the % of valid water occurence. \n",
    "    max_obs_img = ee.Image.constant(max_obs)\n",
    "    valid_obs = max_obs_img= max_obs_img.subtract(sum_invalid)\n",
    "    valid_occurrence = sum_water.divide(valid_obs).multiply(100)\n",
    "\n",
    "    return valid_occurrence\n",
    "    "
   ]
  },
  {
   "cell_type": "code",
   "execution_count": 9,
   "id": "416f84da-1923-4136-97c7-bfa95b08850d",
   "metadata": {},
   "outputs": [
    {
     "data": {
      "text/html": [
       "\n",
       "            <style>\n",
       "                .geemap-dark {\n",
       "                    --jp-widgets-color: white;\n",
       "                    --jp-widgets-label-color: white;\n",
       "                    --jp-ui-font-color1: white;\n",
       "                    --jp-layout-color2: #454545;\n",
       "                    background-color: #383838;\n",
       "                }\n",
       "\n",
       "                .geemap-dark .jupyter-button {\n",
       "                    --jp-layout-color3: #383838;\n",
       "                }\n",
       "\n",
       "                .geemap-colab {\n",
       "                    background-color: var(--colab-primary-surface-color, white);\n",
       "                }\n",
       "\n",
       "                .geemap-colab .jupyter-button {\n",
       "                    --jp-layout-color3: var(--colab-primary-surface-color, white);\n",
       "                }\n",
       "            </style>\n",
       "            "
      ],
      "text/plain": [
       "<IPython.core.display.HTML object>"
      ]
     },
     "metadata": {},
     "output_type": "display_data"
    }
   ],
   "source": [
    "aug_occurrence = calc_valid_occurrence(aug_imgs, aug_max_obs, mask_val=0, water_val=2)\n",
    "june_occurrence = calc_valid_occurrence(june_imgs, june_max_obs, mask_val=0, water_val=2)\n",
    "\n",
    "month_names = ['june', 'aug']\n",
    "datasets = [june_occurrence, aug_occurrence]\n",
    "\n",
    "monthly_datasets = list(zip(month_names, datasets))\n"
   ]
  },
  {
   "cell_type": "code",
   "execution_count": 10,
   "id": "0a641772-c277-4752-bc14-e5ab8856f5c7",
   "metadata": {},
   "outputs": [
    {
     "data": {
      "text/html": [
       "\n",
       "            <style>\n",
       "                .geemap-dark {\n",
       "                    --jp-widgets-color: white;\n",
       "                    --jp-widgets-label-color: white;\n",
       "                    --jp-ui-font-color1: white;\n",
       "                    --jp-layout-color2: #454545;\n",
       "                    background-color: #383838;\n",
       "                }\n",
       "\n",
       "                .geemap-dark .jupyter-button {\n",
       "                    --jp-layout-color3: #383838;\n",
       "                }\n",
       "\n",
       "                .geemap-colab {\n",
       "                    background-color: var(--colab-primary-surface-color, white);\n",
       "                }\n",
       "\n",
       "                .geemap-colab .jupyter-button {\n",
       "                    --jp-layout-color3: var(--colab-primary-surface-color, white);\n",
       "                }\n",
       "            </style>\n",
       "            "
      ],
      "text/plain": [
       "<IPython.core.display.HTML object>"
      ]
     },
     "metadata": {},
     "output_type": "display_data"
    },
    {
     "data": {
      "application/vnd.jupyter.widget-view+json": {
       "model_id": "a728eb563e134a31987869749eb9aea5",
       "version_major": 2,
       "version_minor": 0
      },
      "text/plain": [
       "Map(center=[0, 0], controls=(WidgetControl(options=['position', 'transparent_bg'], widget=SearchDataGUI(childr…"
      ]
     },
     "execution_count": 10,
     "metadata": {},
     "output_type": "execute_result"
    }
   ],
   "source": [
    "Map = geemap.Map(center=[0, 0], zoom=2)\n",
    "Map.addLayer(aug_occurrence, {'min': 0, 'max': 1, 'palette': ['red', 'yellow', 'blue']}, \"Water Mask\")\n",
    "Map.addLayerControl()\n",
    "Map"
   ]
  },
  {
   "cell_type": "markdown",
   "id": "0847393e-babd-433c-b8f5-0d2994eb7bc8",
   "metadata": {},
   "source": [
    "## Batch the export"
   ]
  },
  {
   "cell_type": "code",
   "execution_count": 17,
   "id": "fe808ddb-90f5-4b06-9701-603c89080974",
   "metadata": {},
   "outputs": [
    {
     "data": {
      "text/html": [
       "\n",
       "            <style>\n",
       "                .geemap-dark {\n",
       "                    --jp-widgets-color: white;\n",
       "                    --jp-widgets-label-color: white;\n",
       "                    --jp-ui-font-color1: white;\n",
       "                    --jp-layout-color2: #454545;\n",
       "                    background-color: #383838;\n",
       "                }\n",
       "\n",
       "                .geemap-dark .jupyter-button {\n",
       "                    --jp-layout-color3: #383838;\n",
       "                }\n",
       "\n",
       "                .geemap-colab {\n",
       "                    background-color: var(--colab-primary-surface-color, white);\n",
       "                }\n",
       "\n",
       "                .geemap-colab .jupyter-button {\n",
       "                    --jp-layout-color3: var(--colab-primary-surface-color, white);\n",
       "                }\n",
       "            </style>\n",
       "            "
      ],
      "text/plain": [
       "<IPython.core.display.HTML object>"
      ]
     },
     "metadata": {},
     "output_type": "display_data"
    }
   ],
   "source": [
    "def export_rois(roi_id, target_img, month_name):\n",
    "    \n",
    "    roi_name_temp = roi_id.split('/')[-1]\n",
    "    roi_name = roi_name_temp.split('_roi')[0]\n",
    "    feature = ee.FeatureCollection(roi_id).first()\n",
    "    bounds = feature.geometry()\n",
    "\n",
    "    clipped_img = target_img.clip(bounds)\n",
    "\n",
    "    export_params = {\n",
    "        'image': clipped_img,\n",
    "        'description': f'GSWORecurrenceFullMonthly_{roi_name}_month_{month_name}_', \n",
    "        'fileNamePrefix': f'GSWORecurrenceFullMonthly_{roi_name}_month_{month_name}_',\n",
    "        'folder': 'gswo_exports_full', \n",
    "        'scale': 30,\n",
    "        'crs': 'EPSG:4326',\n",
    "        'region': bounds,\n",
    "        'fileFormat': 'GeoTIFF',\n",
    "        'maxPixels': 1e13\n",
    "    }\n",
    "\n",
    "    ee.batch.Export.image.toDrive(**export_params).start()"
   ]
  },
  {
   "cell_type": "code",
   "execution_count": 18,
   "id": "aa009911-33bd-44c7-8d46-12301c38441f",
   "metadata": {},
   "outputs": [
    {
     "data": {
      "text/html": [
       "\n",
       "            <style>\n",
       "                .geemap-dark {\n",
       "                    --jp-widgets-color: white;\n",
       "                    --jp-widgets-label-color: white;\n",
       "                    --jp-ui-font-color1: white;\n",
       "                    --jp-layout-color2: #454545;\n",
       "                    background-color: #383838;\n",
       "                }\n",
       "\n",
       "                .geemap-dark .jupyter-button {\n",
       "                    --jp-layout-color3: #383838;\n",
       "                }\n",
       "\n",
       "                .geemap-colab {\n",
       "                    background-color: var(--colab-primary-surface-color, white);\n",
       "                }\n",
       "\n",
       "                .geemap-colab .jupyter-button {\n",
       "                    --jp-layout-color3: var(--colab-primary-surface-color, white);\n",
       "                }\n",
       "            </style>\n",
       "            "
      ],
      "text/plain": [
       "<IPython.core.display.HTML object>"
      ]
     },
     "metadata": {},
     "output_type": "display_data"
    }
   ],
   "source": [
    "# for month, ds in monthly_datasets:\n",
    "#     for roi_id in rois_ids:\n",
    "#         export_rois(roi_id, ds, month)"
   ]
  },
  {
   "cell_type": "code",
   "execution_count": null,
   "id": "2c003627-c725-4099-bb31-a6f6ccfaaebd",
   "metadata": {},
   "outputs": [],
   "source": []
  }
 ],
 "metadata": {
  "kernelspec": {
   "display_name": "Python 3 (ipykernel)",
   "language": "python",
   "name": "python3"
  },
  "language_info": {
   "codemirror_mode": {
    "name": "ipython",
    "version": 3
   },
   "file_extension": ".py",
   "mimetype": "text/x-python",
   "name": "python",
   "nbconvert_exporter": "python",
   "pygments_lexer": "ipython3",
   "version": "3.12.4"
  }
 },
 "nbformat": 4,
 "nbformat_minor": 5
}
