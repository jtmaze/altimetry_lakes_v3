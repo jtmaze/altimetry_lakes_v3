{
 "cells": [
  {
   "cell_type": "markdown",
   "id": "0be1c316-cc0b-43de-a559-b57fdd4c66ac",
   "metadata": {},
   "source": [
    "### 1.0 Libraries and set-up"
   ]
  },
  {
   "cell_type": "code",
   "execution_count": 1,
   "id": "65d88148-10fb-44ee-89c9-8216048a2770",
   "metadata": {},
   "outputs": [],
   "source": [
    "import ee\n",
    "import os\n",
    "import math\n",
    "import geemap\n",
    "import json\n",
    "from shapely.geometry import shape\n",
    "import geopandas as gpd"
   ]
  },
  {
   "cell_type": "code",
   "execution_count": 2,
   "id": "6818441d-5e40-4033-bb83-8dd2bf10a0f4",
   "metadata": {},
   "outputs": [
    {
     "data": {
      "text/html": [
       "\n",
       "            <style>\n",
       "                .geemap-dark {\n",
       "                    --jp-widgets-color: white;\n",
       "                    --jp-widgets-label-color: white;\n",
       "                    --jp-ui-font-color1: white;\n",
       "                    --jp-layout-color2: #454545;\n",
       "                    background-color: #383838;\n",
       "                }\n",
       "\n",
       "                .geemap-dark .jupyter-button {\n",
       "                    --jp-layout-color3: #383838;\n",
       "                }\n",
       "\n",
       "                .geemap-colab {\n",
       "                    background-color: var(--colab-primary-surface-color, white);\n",
       "                }\n",
       "\n",
       "                .geemap-colab .jupyter-button {\n",
       "                    --jp-layout-color3: var(--colab-primary-surface-color, white);\n",
       "                }\n",
       "            </style>\n",
       "            "
      ],
      "text/plain": [
       "<IPython.core.display.HTML object>"
      ]
     },
     "metadata": {},
     "output_type": "display_data"
    },
    {
     "data": {
      "text/plain": [
       "True"
      ]
     },
     "execution_count": 2,
     "metadata": {},
     "output_type": "execute_result"
    }
   ],
   "source": [
    "ee.Authenticate()"
   ]
  },
  {
   "cell_type": "code",
   "execution_count": 3,
   "id": "821e9461-2589-4edf-b1dc-3c64e0268775",
   "metadata": {},
   "outputs": [
    {
     "data": {
      "text/html": [
       "\n",
       "            <style>\n",
       "                .geemap-dark {\n",
       "                    --jp-widgets-color: white;\n",
       "                    --jp-widgets-label-color: white;\n",
       "                    --jp-ui-font-color1: white;\n",
       "                    --jp-layout-color2: #454545;\n",
       "                    background-color: #383838;\n",
       "                }\n",
       "\n",
       "                .geemap-dark .jupyter-button {\n",
       "                    --jp-layout-color3: #383838;\n",
       "                }\n",
       "\n",
       "                .geemap-colab {\n",
       "                    background-color: var(--colab-primary-surface-color, white);\n",
       "                }\n",
       "\n",
       "                .geemap-colab .jupyter-button {\n",
       "                    --jp-layout-color3: var(--colab-primary-surface-color, white);\n",
       "                }\n",
       "            </style>\n",
       "            "
      ],
      "text/plain": [
       "<IPython.core.display.HTML object>"
      ]
     },
     "metadata": {},
     "output_type": "display_data"
    }
   ],
   "source": [
    "ee.Initialize()"
   ]
  },
  {
   "cell_type": "code",
   "execution_count": 4,
   "id": "7b630f0c-71e0-4416-8473-3b25c2b6336b",
   "metadata": {},
   "outputs": [
    {
     "data": {
      "text/html": [
       "\n",
       "            <style>\n",
       "                .geemap-dark {\n",
       "                    --jp-widgets-color: white;\n",
       "                    --jp-widgets-label-color: white;\n",
       "                    --jp-ui-font-color1: white;\n",
       "                    --jp-layout-color2: #454545;\n",
       "                    background-color: #383838;\n",
       "                }\n",
       "\n",
       "                .geemap-dark .jupyter-button {\n",
       "                    --jp-layout-color3: #383838;\n",
       "                }\n",
       "\n",
       "                .geemap-colab {\n",
       "                    background-color: var(--colab-primary-surface-color, white);\n",
       "                }\n",
       "\n",
       "                .geemap-colab .jupyter-button {\n",
       "                    --jp-layout-color3: var(--colab-primary-surface-color, white);\n",
       "                }\n",
       "            </style>\n",
       "            "
      ],
      "text/plain": [
       "<IPython.core.display.HTML object>"
      ]
     },
     "metadata": {},
     "output_type": "display_data"
    }
   ],
   "source": [
    "# region = 'YKD_weekly'\n",
    "# region = 'AKCP_weekly'\n",
    "# region = 'TUK_MKD_weekly'\n",
    "region = 'YKF_weekly'\n",
    "folder = 'projects/alpod-412314/assets/' + region"
   ]
  },
  {
   "cell_type": "code",
   "execution_count": 5,
   "id": "df9d8484-0420-41f9-80ea-a1c50af187fd",
   "metadata": {},
   "outputs": [
    {
     "data": {
      "text/html": [
       "\n",
       "            <style>\n",
       "                .geemap-dark {\n",
       "                    --jp-widgets-color: white;\n",
       "                    --jp-widgets-label-color: white;\n",
       "                    --jp-ui-font-color1: white;\n",
       "                    --jp-layout-color2: #454545;\n",
       "                    background-color: #383838;\n",
       "                }\n",
       "\n",
       "                .geemap-dark .jupyter-button {\n",
       "                    --jp-layout-color3: #383838;\n",
       "                }\n",
       "\n",
       "                .geemap-colab {\n",
       "                    background-color: var(--colab-primary-surface-color, white);\n",
       "                }\n",
       "\n",
       "                .geemap-colab .jupyter-button {\n",
       "                    --jp-layout-color3: var(--colab-primary-surface-color, white);\n",
       "                }\n",
       "            </style>\n",
       "            "
      ],
      "text/plain": [
       "<IPython.core.display.HTML object>"
      ]
     },
     "metadata": {},
     "output_type": "display_data"
    }
   ],
   "source": [
    "image_list = ee.data.listImages(folder)\n",
    "image_list = image_list.get('images')"
   ]
  },
  {
   "cell_type": "code",
   "execution_count": 6,
   "id": "fc978946-0af2-42ad-92d8-d43126a8bf01",
   "metadata": {},
   "outputs": [
    {
     "data": {
      "text/html": [
       "\n",
       "            <style>\n",
       "                .geemap-dark {\n",
       "                    --jp-widgets-color: white;\n",
       "                    --jp-widgets-label-color: white;\n",
       "                    --jp-ui-font-color1: white;\n",
       "                    --jp-layout-color2: #454545;\n",
       "                    background-color: #383838;\n",
       "                }\n",
       "\n",
       "                .geemap-dark .jupyter-button {\n",
       "                    --jp-layout-color3: #383838;\n",
       "                }\n",
       "\n",
       "                .geemap-colab {\n",
       "                    background-color: var(--colab-primary-surface-color, white);\n",
       "                }\n",
       "\n",
       "                .geemap-colab .jupyter-button {\n",
       "                    --jp-layout-color3: var(--colab-primary-surface-color, white);\n",
       "                }\n",
       "            </style>\n",
       "            "
      ],
      "text/plain": [
       "<IPython.core.display.HTML object>"
      ]
     },
     "metadata": {},
     "output_type": "display_data"
    }
   ],
   "source": [
    "#print(image_list[0:5])\n",
    "# rando_img = ee.Image(image_list[0]['id'])\n",
    "# rando_img_stats = rando_img.reduceRegion(\n",
    "#     reducer = ee.Reducer.minMax(),\n",
    "#     scale = 10\n",
    "# )\n",
    "\n",
    "# rando_properties = rando_img.getInfo()['properties']\n",
    "# rando_coords = rando_properties['system:footprint']['coordinates']\n",
    "# print(rando_coords)\n",
    "# polygon = ee.Geometry.Polygon(rando_coords)"
   ]
  },
  {
   "cell_type": "markdown",
   "id": "69f97112-e63c-4a03-b35e-badb17edfdd9",
   "metadata": {},
   "source": [
    "### 2.0 Images for target time period"
   ]
  },
  {
   "cell_type": "code",
   "execution_count": 8,
   "id": "98160a83-e1b2-4c0e-ab9e-ee984eaa0226",
   "metadata": {},
   "outputs": [
    {
     "data": {
      "text/html": [
       "\n",
       "            <style>\n",
       "                .geemap-dark {\n",
       "                    --jp-widgets-color: white;\n",
       "                    --jp-widgets-label-color: white;\n",
       "                    --jp-ui-font-color1: white;\n",
       "                    --jp-layout-color2: #454545;\n",
       "                    background-color: #383838;\n",
       "                }\n",
       "\n",
       "                .geemap-dark .jupyter-button {\n",
       "                    --jp-layout-color3: #383838;\n",
       "                }\n",
       "\n",
       "                .geemap-colab {\n",
       "                    background-color: var(--colab-primary-surface-color, white);\n",
       "                }\n",
       "\n",
       "                .geemap-colab .jupyter-button {\n",
       "                    --jp-layout-color3: var(--colab-primary-surface-color, white);\n",
       "                }\n",
       "            </style>\n",
       "            "
      ],
      "text/plain": [
       "<IPython.core.display.HTML object>"
      ]
     },
     "metadata": {},
     "output_type": "display_data"
    },
    {
     "name": "stdout",
     "output_type": "stream",
     "text": [
      "['2019', '2020', '2021', '2022', '2023']\n",
      "['35', '36', '37', '38', '39']\n",
      "25\n"
     ]
    }
   ],
   "source": [
    "target_years = list(range(2019, 2024))\n",
    "target_years = [str(year) for year in target_years]\n",
    "print(target_years)\n",
    "\n",
    "# June\n",
    "#target_weeks = list(range(22, 27))\n",
    "#August \n",
    "#target_weeks = list(range(31, 36))\n",
    "# September\n",
    "target_weeks = list(range(35, 40))\n",
    "\n",
    "\n",
    "target_weeks = [str(week) for week in target_weeks]\n",
    "print(target_weeks)\n",
    "\n",
    "max_times = len(target_years) * len(target_weeks)\n",
    "print(max_times)"
   ]
  },
  {
   "cell_type": "code",
   "execution_count": 9,
   "id": "db2a4767-b983-4aed-8df1-1e7f8cca0592",
   "metadata": {},
   "outputs": [
    {
     "data": {
      "text/html": [
       "\n",
       "            <style>\n",
       "                .geemap-dark {\n",
       "                    --jp-widgets-color: white;\n",
       "                    --jp-widgets-label-color: white;\n",
       "                    --jp-ui-font-color1: white;\n",
       "                    --jp-layout-color2: #454545;\n",
       "                    background-color: #383838;\n",
       "                }\n",
       "\n",
       "                .geemap-dark .jupyter-button {\n",
       "                    --jp-layout-color3: #383838;\n",
       "                }\n",
       "\n",
       "                .geemap-colab {\n",
       "                    background-color: var(--colab-primary-surface-color, white);\n",
       "                }\n",
       "\n",
       "                .geemap-colab .jupyter-button {\n",
       "                    --jp-layout-color3: var(--colab-primary-surface-color, white);\n",
       "                }\n",
       "            </style>\n",
       "            "
      ],
      "text/plain": [
       "<IPython.core.display.HTML object>"
      ]
     },
     "metadata": {},
     "output_type": "display_data"
    },
    {
     "name": "stdout",
     "output_type": "stream",
     "text": [
      "150\n"
     ]
    }
   ],
   "source": [
    "target_imgs = []\n",
    "target_polygons = []\n",
    "\n",
    "for image in image_list:\n",
    "    img_id = image['id']\n",
    "    year = img_id.split('_')[-2]\n",
    "    week = img_id.split('_')[-1]\n",
    "\n",
    "    if week in target_weeks and year in target_years:\n",
    "        img_ee = ee.Image(img_id)\n",
    "        img_properties = img_ee.getInfo()['properties']\n",
    "        img_coords = img_properties['system:footprint']['coordinates']\n",
    "        polygon_ee = ee.Geometry.Polygon(img_coords)\n",
    "        \n",
    "        target_imgs.append(img_ee)\n",
    "        target_polygons.append(polygon_ee)\n",
    "\n",
    "print(len(target_imgs))"
   ]
  },
  {
   "cell_type": "markdown",
   "id": "31b0a9c6-b744-4d39-970b-dc53a4de0945",
   "metadata": {},
   "source": [
    "### 3.0 Export the ROI foot print"
   ]
  },
  {
   "cell_type": "code",
   "execution_count": 10,
   "id": "cb2906df-df22-4016-bbd6-234e7fbd1753",
   "metadata": {},
   "outputs": [
    {
     "data": {
      "text/html": [
       "\n",
       "            <style>\n",
       "                .geemap-dark {\n",
       "                    --jp-widgets-color: white;\n",
       "                    --jp-widgets-label-color: white;\n",
       "                    --jp-ui-font-color1: white;\n",
       "                    --jp-layout-color2: #454545;\n",
       "                    background-color: #383838;\n",
       "                }\n",
       "\n",
       "                .geemap-dark .jupyter-button {\n",
       "                    --jp-layout-color3: #383838;\n",
       "                }\n",
       "\n",
       "                .geemap-colab {\n",
       "                    background-color: var(--colab-primary-surface-color, white);\n",
       "                }\n",
       "\n",
       "                .geemap-colab .jupyter-button {\n",
       "                    --jp-layout-color3: var(--colab-primary-surface-color, white);\n",
       "                }\n",
       "            </style>\n",
       "            "
      ],
      "text/plain": [
       "<IPython.core.display.HTML object>"
      ]
     },
     "metadata": {},
     "output_type": "display_data"
    }
   ],
   "source": [
    "p1 = target_polygons[0]\n",
    "p2 = target_polygons[1]\n",
    "\n",
    "combined_footprint = p1.union(p2)\n",
    "\n",
    "for i in range(2, len(target_polygons)):\n",
    "    p = target_polygons[i]\n",
    "    combined_footprint = combined_footprint.union(p)\n",
    "\n",
    "# combined_footprint_info = combined_footprint.getInfo()\n",
    "# geojson_footprint = json.dumps(combined_footprint_info)\n",
    "# geometry = shape(json.loads(geojson_footprint))\n",
    "# roi_gdf = gpd.GeoDataFrame([{'geometry': geometry, 'roi': f'{region}'}], crs=\"EPSG:4326\")\n",
    "# os.chdir('/Users/jmaze/Documents/projects/altimetry_lakes_v3/')\n",
    "# roi_gdf.to_file(f'./data/ew_rois/{region}.shp')"
   ]
  },
  {
   "cell_type": "markdown",
   "id": "cd9a951d-90e2-44ea-9cec-b834258a2406",
   "metadata": {},
   "source": [
    "### 4.0 Use Reducer to Aggregate for Time Interval"
   ]
  },
  {
   "cell_type": "code",
   "execution_count": 11,
   "id": "12cd4419-c782-41c1-99bf-dae5cba82889",
   "metadata": {},
   "outputs": [
    {
     "data": {
      "text/html": [
       "\n",
       "            <style>\n",
       "                .geemap-dark {\n",
       "                    --jp-widgets-color: white;\n",
       "                    --jp-widgets-label-color: white;\n",
       "                    --jp-ui-font-color1: white;\n",
       "                    --jp-layout-color2: #454545;\n",
       "                    background-color: #383838;\n",
       "                }\n",
       "\n",
       "                .geemap-dark .jupyter-button {\n",
       "                    --jp-layout-color3: #383838;\n",
       "                }\n",
       "\n",
       "                .geemap-colab {\n",
       "                    background-color: var(--colab-primary-surface-color, white);\n",
       "                }\n",
       "\n",
       "                .geemap-colab .jupyter-button {\n",
       "                    --jp-layout-color3: var(--colab-primary-surface-color, white);\n",
       "                }\n",
       "            </style>\n",
       "            "
      ],
      "text/plain": [
       "<IPython.core.display.HTML object>"
      ]
     },
     "metadata": {},
     "output_type": "display_data"
    }
   ],
   "source": [
    "target_collection = ee.ImageCollection(target_imgs)\n",
    "wtr_sum_img = target_collection.select('water_occurance').sum()\n",
    "wtr_sum_img = wtr_sum_img.clip(combined_footprint)"
   ]
  },
  {
   "cell_type": "markdown",
   "id": "aa3bcfc0-dc4b-4f06-9e8d-5a19190d11a4",
   "metadata": {},
   "source": [
    "### 5.0 Binary image based on > x number of occurances"
   ]
  },
  {
   "cell_type": "code",
   "execution_count": 12,
   "id": "21ae9b27-11cd-40b9-ad13-4949c8ed4518",
   "metadata": {},
   "outputs": [
    {
     "data": {
      "text/html": [
       "\n",
       "            <style>\n",
       "                .geemap-dark {\n",
       "                    --jp-widgets-color: white;\n",
       "                    --jp-widgets-label-color: white;\n",
       "                    --jp-ui-font-color1: white;\n",
       "                    --jp-layout-color2: #454545;\n",
       "                    background-color: #383838;\n",
       "                }\n",
       "\n",
       "                .geemap-dark .jupyter-button {\n",
       "                    --jp-layout-color3: #383838;\n",
       "                }\n",
       "\n",
       "                .geemap-colab {\n",
       "                    background-color: var(--colab-primary-surface-color, white);\n",
       "                }\n",
       "\n",
       "                .geemap-colab .jupyter-button {\n",
       "                    --jp-layout-color3: var(--colab-primary-surface-color, white);\n",
       "                }\n",
       "            </style>\n",
       "            "
      ],
      "text/plain": [
       "<IPython.core.display.HTML object>"
      ]
     },
     "metadata": {},
     "output_type": "display_data"
    },
    {
     "name": "stdout",
     "output_type": "stream",
     "text": [
      "[5.0, 4.166666666666666, 3.571428571428571, 2.5]\n",
      "{5: <ee.image.Image object at 0x1624138c0>, 4: <ee.image.Image object at 0x1624103b0>, 3: <ee.image.Image object at 0x162410920>, 2: <ee.image.Image object at 0x162412480>}\n"
     ]
    }
   ],
   "source": [
    "time_fractions = [1/5, 1/6, 1/7, 1/10]\n",
    "#print(time_fractions)\n",
    "water_thresholds = [time_fraction * max_times for time_fraction in time_fractions]\n",
    "print(water_thresholds)\n",
    "\n",
    "binary_images = {}\n",
    "for threshold in water_thresholds:\n",
    "    threshold_round = math.floor(threshold)\n",
    "    wtr_img_binary = wtr_sum_img.gt(threshold)\n",
    "    binary_images[threshold_round] = wtr_img_binary\n",
    "\n",
    "print(binary_images)"
   ]
  },
  {
   "cell_type": "markdown",
   "id": "e10b1f23-a4a7-427a-a65b-31492b2edae5",
   "metadata": {},
   "source": [
    "### 6.0 Visualize results"
   ]
  },
  {
   "cell_type": "code",
   "execution_count": 14,
   "id": "85d5eb44-0f05-4193-9447-1c711fa31238",
   "metadata": {},
   "outputs": [
    {
     "data": {
      "text/html": [
       "\n",
       "            <style>\n",
       "                .geemap-dark {\n",
       "                    --jp-widgets-color: white;\n",
       "                    --jp-widgets-label-color: white;\n",
       "                    --jp-ui-font-color1: white;\n",
       "                    --jp-layout-color2: #454545;\n",
       "                    background-color: #383838;\n",
       "                }\n",
       "\n",
       "                .geemap-dark .jupyter-button {\n",
       "                    --jp-layout-color3: #383838;\n",
       "                }\n",
       "\n",
       "                .geemap-colab {\n",
       "                    background-color: var(--colab-primary-surface-color, white);\n",
       "                }\n",
       "\n",
       "                .geemap-colab .jupyter-button {\n",
       "                    --jp-layout-color3: var(--colab-primary-surface-color, white);\n",
       "                }\n",
       "            </style>\n",
       "            "
      ],
      "text/plain": [
       "<IPython.core.display.HTML object>"
      ]
     },
     "metadata": {},
     "output_type": "display_data"
    },
    {
     "name": "stdout",
     "output_type": "stream",
     "text": [
      "dict_keys([5, 4, 3, 2])\n"
     ]
    },
    {
     "data": {
      "application/vnd.jupyter.widget-view+json": {
       "model_id": "a0c7b11c34344c449cf393900f7e0ca0",
       "version_major": 2,
       "version_minor": 0
      },
      "text/plain": [
       "Map(center=[65, -135], controls=(WidgetControl(options=['position', 'transparent_bg'], widget=SearchDataGUI(ch…"
      ]
     },
     "execution_count": 14,
     "metadata": {},
     "output_type": "execute_result"
    }
   ],
   "source": [
    "viz1 = {\n",
    "    'bands': ['water_occurance'],\n",
    "    'min': 0,\n",
    "    'max': 1,\n",
    "    'palette': ['ff0000', '00ff00', '0000ff']\n",
    "}\n",
    "\n",
    "Map = geemap.Map(center=(65, -135), zoom=4)\n",
    "\n",
    "occurance_cnts = binary_images.keys()\n",
    "print(occurance_cnts)\n",
    "\n",
    "for cnt in occurance_cnts:\n",
    "    Map.addLayer(binary_images[cnt], viz1, f'{region}, {cnt}, {target_weeks[0]}')\n",
    "\n",
    "\n",
    "#Map.addLayer(combined_footprint, {}, 'roi_bounds')\n",
    "Map\n"
   ]
  },
  {
   "cell_type": "markdown",
   "id": "c0955d6b-46d2-4ae8-9438-44f53628470e",
   "metadata": {},
   "source": [
    "### 7.1 Export the .GeoTiff to Drive"
   ]
  },
  {
   "cell_type": "code",
   "execution_count": 15,
   "id": "e4357ba0-73ef-49ee-aee8-7a9cdf3618d5",
   "metadata": {},
   "outputs": [
    {
     "data": {
      "text/html": [
       "\n",
       "            <style>\n",
       "                .geemap-dark {\n",
       "                    --jp-widgets-color: white;\n",
       "                    --jp-widgets-label-color: white;\n",
       "                    --jp-ui-font-color1: white;\n",
       "                    --jp-layout-color2: #454545;\n",
       "                    background-color: #383838;\n",
       "                }\n",
       "\n",
       "                .geemap-dark .jupyter-button {\n",
       "                    --jp-layout-color3: #383838;\n",
       "                }\n",
       "\n",
       "                .geemap-colab {\n",
       "                    background-color: var(--colab-primary-surface-color, white);\n",
       "                }\n",
       "\n",
       "                .geemap-colab .jupyter-button {\n",
       "                    --jp-layout-color3: var(--colab-primary-surface-color, white);\n",
       "                }\n",
       "            </style>\n",
       "            "
      ],
      "text/plain": [
       "<IPython.core.display.HTML object>"
      ]
     },
     "metadata": {},
     "output_type": "display_data"
    }
   ],
   "source": [
    "for cnt in occurance_cnts:\n",
    "\n",
    "    img = binary_images[cnt]\n",
    "\n",
    "    export_task = ee.batch.Export.image.toDrive(\n",
    "        image=img,\n",
    "        description=f'{region}_count{cnt}_years{target_years[0]}-{target_years[-1]}_weeks{target_weeks[0]}-{target_weeks[-1]}',\n",
    "        folder='ewebb_s2',\n",
    "        fileNamePrefix=f'{region}_count{cnt}_years{target_years[0]}-{target_years[-1]}_weeks{target_weeks[0]}-{target_weeks[-1]}',\n",
    "        region=combined_footprint,\n",
    "        scale=10,\n",
    "        fileFormat='GeoTIFF',\n",
    "        maxPixels=1e13\n",
    "    )\n",
    "    \n",
    "    export_task.start()"
   ]
  },
  {
   "cell_type": "markdown",
   "id": "fe8dde47-37be-4607-b6c8-59ecfea403ba",
   "metadata": {},
   "source": [
    "### X.2 Export the .shp files to Drive??"
   ]
  },
  {
   "cell_type": "markdown",
   "id": "3364a9de-1829-4c72-819c-3dd0b415bc4a",
   "metadata": {},
   "source": [
    "### * Scrap workspace"
   ]
  },
  {
   "cell_type": "code",
   "execution_count": null,
   "id": "887c2f27-5138-4563-aa2a-dd480ecb8a26",
   "metadata": {},
   "outputs": [],
   "source": [
    "# binary_sum = weekly_sum.gt(3)\n",
    "\n",
    "# vectors = binary_sum.reduceToVectors(\n",
    "#     geometryType='polygon',\n",
    "#     reducer=ee.Reducer.countEvery(),\n",
    "#     scale=10,\n",
    "#     maxPixels=1e13\n",
    "# )\n",
    "# # !!! Need to switch to a for-loop, becuase .getInfo() won't map to the server-side. \n",
    "# def get_geojson(vectors):\n",
    "#     return ee.Feature(vectors).geometry().getInfo()\n",
    "\n",
    "# vector_geoms = vectors.map(get_geojson)\n",
    "\n",
    "# print(vector_geoms)"
   ]
  },
  {
   "cell_type": "code",
   "execution_count": 43,
   "id": "075bb96a-7c97-4615-87ec-b085b9fe5ee4",
   "metadata": {},
   "outputs": [
    {
     "data": {
      "text/html": [
       "\n",
       "            <style>\n",
       "                .geemap-dark {\n",
       "                    --jp-widgets-color: white;\n",
       "                    --jp-widgets-label-color: white;\n",
       "                    --jp-ui-font-color1: white;\n",
       "                    --jp-layout-color2: #454545;\n",
       "                    background-color: #383838;\n",
       "                }\n",
       "\n",
       "                .geemap-dark .jupyter-button {\n",
       "                    --jp-layout-color3: #383838;\n",
       "                }\n",
       "\n",
       "                .geemap-colab {\n",
       "                    background-color: var(--colab-primary-surface-color, white);\n",
       "                }\n",
       "\n",
       "                .geemap-colab .jupyter-button {\n",
       "                    --jp-layout-color3: var(--colab-primary-surface-color, white);\n",
       "                }\n",
       "            </style>\n",
       "            "
      ],
      "text/plain": [
       "<IPython.core.display.HTML object>"
      ]
     },
     "metadata": {},
     "output_type": "display_data"
    }
   ],
   "source": [
    "# np_img = geemap.ee_to_numpy(clipped_mosaic)"
   ]
  },
  {
   "cell_type": "code",
   "execution_count": 44,
   "id": "1943c301-8c90-47b1-8473-30cddf8b354f",
   "metadata": {},
   "outputs": [
    {
     "data": {
      "text/html": [
       "\n",
       "            <style>\n",
       "                .geemap-dark {\n",
       "                    --jp-widgets-color: white;\n",
       "                    --jp-widgets-label-color: white;\n",
       "                    --jp-ui-font-color1: white;\n",
       "                    --jp-layout-color2: #454545;\n",
       "                    background-color: #383838;\n",
       "                }\n",
       "\n",
       "                .geemap-dark .jupyter-button {\n",
       "                    --jp-layout-color3: #383838;\n",
       "                }\n",
       "\n",
       "                .geemap-colab {\n",
       "                    background-color: var(--colab-primary-surface-color, white);\n",
       "                }\n",
       "\n",
       "                .geemap-colab .jupyter-button {\n",
       "                    --jp-layout-color3: var(--colab-primary-surface-color, white);\n",
       "                }\n",
       "            </style>\n",
       "            "
      ],
      "text/plain": [
       "<IPython.core.display.HTML object>"
      ]
     },
     "metadata": {},
     "output_type": "display_data"
    },
    {
     "name": "stdout",
     "output_type": "stream",
     "text": [
      "60\n"
     ]
    }
   ],
   "source": [
    "# t = target_collection.clip(combined_footprint)\n",
    "# target_mosaic = target_collection.mosaic()\n",
    "# clipped_mosaic = target_mosaic.clip(combined_footprint)"
   ]
  },
  {
   "cell_type": "code",
   "execution_count": null,
   "id": "c8cb4b12-9784-42c0-9d23-37c90baa95ee",
   "metadata": {},
   "outputs": [],
   "source": []
  }
 ],
 "metadata": {
  "kernelspec": {
   "display_name": "Python 3 (ipykernel)",
   "language": "python",
   "name": "python3"
  },
  "language_info": {
   "codemirror_mode": {
    "name": "ipython",
    "version": 3
   },
   "file_extension": ".py",
   "mimetype": "text/x-python",
   "name": "python",
   "nbconvert_exporter": "python",
   "pygments_lexer": "ipython3",
   "version": "3.12.4"
  }
 },
 "nbformat": 4,
 "nbformat_minor": 5
}
