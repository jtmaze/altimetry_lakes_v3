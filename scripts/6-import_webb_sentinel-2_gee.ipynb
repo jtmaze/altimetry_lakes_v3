{
 "cells": [
  {
   "cell_type": "markdown",
   "id": "0be1c316-cc0b-43de-a559-b57fdd4c66ac",
   "metadata": {},
   "source": [
    "### 1.0 Libraries and set-up"
   ]
  },
  {
   "cell_type": "code",
   "execution_count": 2,
   "id": "65d88148-10fb-44ee-89c9-8216048a2770",
   "metadata": {},
   "outputs": [],
   "source": [
    "import ee\n",
    "import os\n",
    "import math\n",
    "import geemap\n",
    "import json\n",
    "from shapely.geometry import shape\n",
    "import geopandas as gpd"
   ]
  },
  {
   "cell_type": "code",
   "execution_count": 3,
   "id": "6818441d-5e40-4033-bb83-8dd2bf10a0f4",
   "metadata": {},
   "outputs": [
    {
     "data": {
      "text/html": [
       "\n",
       "            <style>\n",
       "                .geemap-dark {\n",
       "                    --jp-widgets-color: white;\n",
       "                    --jp-widgets-label-color: white;\n",
       "                    --jp-ui-font-color1: white;\n",
       "                    --jp-layout-color2: #454545;\n",
       "                    background-color: #383838;\n",
       "                }\n",
       "\n",
       "                .geemap-dark .jupyter-button {\n",
       "                    --jp-layout-color3: #383838;\n",
       "                }\n",
       "\n",
       "                .geemap-colab {\n",
       "                    background-color: var(--colab-primary-surface-color, white);\n",
       "                }\n",
       "\n",
       "                .geemap-colab .jupyter-button {\n",
       "                    --jp-layout-color3: var(--colab-primary-surface-color, white);\n",
       "                }\n",
       "            </style>\n",
       "            "
      ],
      "text/plain": [
       "<IPython.core.display.HTML object>"
      ]
     },
     "metadata": {},
     "output_type": "display_data"
    },
    {
     "data": {
      "text/plain": [
       "True"
      ]
     },
     "execution_count": 3,
     "metadata": {},
     "output_type": "execute_result"
    }
   ],
   "source": [
    "ee.Authenticate()"
   ]
  },
  {
   "cell_type": "code",
   "execution_count": 4,
   "id": "821e9461-2589-4edf-b1dc-3c64e0268775",
   "metadata": {},
   "outputs": [
    {
     "data": {
      "text/html": [
       "\n",
       "            <style>\n",
       "                .geemap-dark {\n",
       "                    --jp-widgets-color: white;\n",
       "                    --jp-widgets-label-color: white;\n",
       "                    --jp-ui-font-color1: white;\n",
       "                    --jp-layout-color2: #454545;\n",
       "                    background-color: #383838;\n",
       "                }\n",
       "\n",
       "                .geemap-dark .jupyter-button {\n",
       "                    --jp-layout-color3: #383838;\n",
       "                }\n",
       "\n",
       "                .geemap-colab {\n",
       "                    background-color: var(--colab-primary-surface-color, white);\n",
       "                }\n",
       "\n",
       "                .geemap-colab .jupyter-button {\n",
       "                    --jp-layout-color3: var(--colab-primary-surface-color, white);\n",
       "                }\n",
       "            </style>\n",
       "            "
      ],
      "text/plain": [
       "<IPython.core.display.HTML object>"
      ]
     },
     "metadata": {},
     "output_type": "display_data"
    }
   ],
   "source": [
    "ee.Initialize()"
   ]
  },
  {
   "cell_type": "code",
   "execution_count": 5,
   "id": "7b630f0c-71e0-4416-8473-3b25c2b6336b",
   "metadata": {},
   "outputs": [
    {
     "data": {
      "text/html": [
       "\n",
       "            <style>\n",
       "                .geemap-dark {\n",
       "                    --jp-widgets-color: white;\n",
       "                    --jp-widgets-label-color: white;\n",
       "                    --jp-ui-font-color1: white;\n",
       "                    --jp-layout-color2: #454545;\n",
       "                    background-color: #383838;\n",
       "                }\n",
       "\n",
       "                .geemap-dark .jupyter-button {\n",
       "                    --jp-layout-color3: #383838;\n",
       "                }\n",
       "\n",
       "                .geemap-colab {\n",
       "                    background-color: var(--colab-primary-surface-color, white);\n",
       "                }\n",
       "\n",
       "                .geemap-colab .jupyter-button {\n",
       "                    --jp-layout-color3: var(--colab-primary-surface-color, white);\n",
       "                }\n",
       "            </style>\n",
       "            "
      ],
      "text/plain": [
       "<IPython.core.display.HTML object>"
      ]
     },
     "metadata": {},
     "output_type": "display_data"
    }
   ],
   "source": [
    "project_dir = 'projects/alpod-412314/assets/' \n",
    "\n",
    "region = 'YKD'\n",
    "region_path = f'{region}_weekly'\n",
    "folder = project_dir + region_path"
   ]
  },
  {
   "cell_type": "code",
   "execution_count": 6,
   "id": "df9d8484-0420-41f9-80ea-a1c50af187fd",
   "metadata": {},
   "outputs": [
    {
     "data": {
      "text/html": [
       "\n",
       "            <style>\n",
       "                .geemap-dark {\n",
       "                    --jp-widgets-color: white;\n",
       "                    --jp-widgets-label-color: white;\n",
       "                    --jp-ui-font-color1: white;\n",
       "                    --jp-layout-color2: #454545;\n",
       "                    background-color: #383838;\n",
       "                }\n",
       "\n",
       "                .geemap-dark .jupyter-button {\n",
       "                    --jp-layout-color3: #383838;\n",
       "                }\n",
       "\n",
       "                .geemap-colab {\n",
       "                    background-color: var(--colab-primary-surface-color, white);\n",
       "                }\n",
       "\n",
       "                .geemap-colab .jupyter-button {\n",
       "                    --jp-layout-color3: var(--colab-primary-surface-color, white);\n",
       "                }\n",
       "            </style>\n",
       "            "
      ],
      "text/plain": [
       "<IPython.core.display.HTML object>"
      ]
     },
     "metadata": {},
     "output_type": "display_data"
    }
   ],
   "source": [
    "image_list = ee.data.listImages(folder)\n",
    "image_list = image_list.get('images')"
   ]
  },
  {
   "cell_type": "code",
   "execution_count": 7,
   "id": "7113cd5b-ab74-47e8-8713-7eff34308da1",
   "metadata": {},
   "outputs": [
    {
     "data": {
      "text/html": [
       "\n",
       "            <style>\n",
       "                .geemap-dark {\n",
       "                    --jp-widgets-color: white;\n",
       "                    --jp-widgets-label-color: white;\n",
       "                    --jp-ui-font-color1: white;\n",
       "                    --jp-layout-color2: #454545;\n",
       "                    background-color: #383838;\n",
       "                }\n",
       "\n",
       "                .geemap-dark .jupyter-button {\n",
       "                    --jp-layout-color3: #383838;\n",
       "                }\n",
       "\n",
       "                .geemap-colab {\n",
       "                    background-color: var(--colab-primary-surface-color, white);\n",
       "                }\n",
       "\n",
       "                .geemap-colab .jupyter-button {\n",
       "                    --jp-layout-color3: var(--colab-primary-surface-color, white);\n",
       "                }\n",
       "            </style>\n",
       "            "
      ],
      "text/plain": [
       "<IPython.core.display.HTML object>"
      ]
     },
     "metadata": {},
     "output_type": "display_data"
    }
   ],
   "source": [
    "lake_extractions_list = ee.data.listAssets({'parent':  project_dir + 'Lake_extractions/'})\n",
    "#print(lake_extractions_list)"
   ]
  },
  {
   "cell_type": "code",
   "execution_count": 8,
   "id": "969ab1ed-94ea-46a6-8a1c-46393d48a16d",
   "metadata": {},
   "outputs": [
    {
     "data": {
      "text/html": [
       "\n",
       "            <style>\n",
       "                .geemap-dark {\n",
       "                    --jp-widgets-color: white;\n",
       "                    --jp-widgets-label-color: white;\n",
       "                    --jp-ui-font-color1: white;\n",
       "                    --jp-layout-color2: #454545;\n",
       "                    background-color: #383838;\n",
       "                }\n",
       "\n",
       "                .geemap-dark .jupyter-button {\n",
       "                    --jp-layout-color3: #383838;\n",
       "                }\n",
       "\n",
       "                .geemap-colab {\n",
       "                    background-color: var(--colab-primary-surface-color, white);\n",
       "                }\n",
       "\n",
       "                .geemap-colab .jupyter-button {\n",
       "                    --jp-layout-color3: var(--colab-primary-surface-color, white);\n",
       "                }\n",
       "            </style>\n",
       "            "
      ],
      "text/plain": [
       "<IPython.core.display.HTML object>"
      ]
     },
     "metadata": {},
     "output_type": "display_data"
    }
   ],
   "source": [
    "lakes_path = f'{project_dir}Lake_extractions/{region}_extraction'\n",
    "lake_polygons = ee.FeatureCollection(lakes_path)"
   ]
  },
  {
   "cell_type": "code",
   "execution_count": 9,
   "id": "8459a71b-122d-41dd-9eb0-5c75ae17f2a2",
   "metadata": {},
   "outputs": [
    {
     "data": {
      "text/html": [
       "\n",
       "            <style>\n",
       "                .geemap-dark {\n",
       "                    --jp-widgets-color: white;\n",
       "                    --jp-widgets-label-color: white;\n",
       "                    --jp-ui-font-color1: white;\n",
       "                    --jp-layout-color2: #454545;\n",
       "                    background-color: #383838;\n",
       "                }\n",
       "\n",
       "                .geemap-dark .jupyter-button {\n",
       "                    --jp-layout-color3: #383838;\n",
       "                }\n",
       "\n",
       "                .geemap-colab {\n",
       "                    background-color: var(--colab-primary-surface-color, white);\n",
       "                }\n",
       "\n",
       "                .geemap-colab .jupyter-button {\n",
       "                    --jp-layout-color3: var(--colab-primary-surface-color, white);\n",
       "                }\n",
       "            </style>\n",
       "            "
      ],
      "text/plain": [
       "<IPython.core.display.HTML object>"
      ]
     },
     "metadata": {},
     "output_type": "display_data"
    },
    {
     "name": "stdout",
     "output_type": "stream",
     "text": [
      "<bound method Collection.getInfo of <ee.featurecollection.FeatureCollection object at 0x15bcb1520>>\n"
     ]
    }
   ],
   "source": [
    "print(lake_polygons.getInfo)"
   ]
  },
  {
   "cell_type": "markdown",
   "id": "69f97112-e63c-4a03-b35e-badb17edfdd9",
   "metadata": {},
   "source": [
    "### 2.0 Images for target time period and region"
   ]
  },
  {
   "cell_type": "code",
   "execution_count": 10,
   "id": "98160a83-e1b2-4c0e-ab9e-ee984eaa0226",
   "metadata": {},
   "outputs": [
    {
     "data": {
      "text/html": [
       "\n",
       "            <style>\n",
       "                .geemap-dark {\n",
       "                    --jp-widgets-color: white;\n",
       "                    --jp-widgets-label-color: white;\n",
       "                    --jp-ui-font-color1: white;\n",
       "                    --jp-layout-color2: #454545;\n",
       "                    background-color: #383838;\n",
       "                }\n",
       "\n",
       "                .geemap-dark .jupyter-button {\n",
       "                    --jp-layout-color3: #383838;\n",
       "                }\n",
       "\n",
       "                .geemap-colab {\n",
       "                    background-color: var(--colab-primary-surface-color, white);\n",
       "                }\n",
       "\n",
       "                .geemap-colab .jupyter-button {\n",
       "                    --jp-layout-color3: var(--colab-primary-surface-color, white);\n",
       "                }\n",
       "            </style>\n",
       "            "
      ],
      "text/plain": [
       "<IPython.core.display.HTML object>"
      ]
     },
     "metadata": {},
     "output_type": "display_data"
    },
    {
     "name": "stdout",
     "output_type": "stream",
     "text": [
      "['2016', '2017', '2018', '2019', '2020', '2021', '2022', '2023']\n",
      "['22', '23', '24', '25', '26']\n",
      "40\n"
     ]
    }
   ],
   "source": [
    "target_years = list(range(2016, 2024))\n",
    "target_years = [str(year) for year in target_years]\n",
    "print(target_years)\n",
    "\n",
    "# June\n",
    "target_weeks = list(range(22, 27))\n",
    "#August \n",
    "#target_weeks = list(range(31, 36))\n",
    "# September\n",
    "#target_weeks = list(range(35, 41))\n",
    "\n",
    "\n",
    "target_weeks = [str(week) for week in target_weeks]\n",
    "print(target_weeks)\n",
    "\n",
    "max_times = len(target_years) * len(target_weeks)\n",
    "print(max_times)"
   ]
  },
  {
   "cell_type": "code",
   "execution_count": 11,
   "id": "db2a4767-b983-4aed-8df1-1e7f8cca0592",
   "metadata": {},
   "outputs": [
    {
     "data": {
      "text/html": [
       "\n",
       "            <style>\n",
       "                .geemap-dark {\n",
       "                    --jp-widgets-color: white;\n",
       "                    --jp-widgets-label-color: white;\n",
       "                    --jp-ui-font-color1: white;\n",
       "                    --jp-layout-color2: #454545;\n",
       "                    background-color: #383838;\n",
       "                }\n",
       "\n",
       "                .geemap-dark .jupyter-button {\n",
       "                    --jp-layout-color3: #383838;\n",
       "                }\n",
       "\n",
       "                .geemap-colab {\n",
       "                    background-color: var(--colab-primary-surface-color, white);\n",
       "                }\n",
       "\n",
       "                .geemap-colab .jupyter-button {\n",
       "                    --jp-layout-color3: var(--colab-primary-surface-color, white);\n",
       "                }\n",
       "            </style>\n",
       "            "
      ],
      "text/plain": [
       "<IPython.core.display.HTML object>"
      ]
     },
     "metadata": {},
     "output_type": "display_data"
    },
    {
     "name": "stdout",
     "output_type": "stream",
     "text": [
      "319\n"
     ]
    }
   ],
   "source": [
    "target_imgs = []\n",
    "target_polygons = []\n",
    "\n",
    "for image in image_list:\n",
    "    img_id = image['id']\n",
    "    year = img_id.split('_')[-2]\n",
    "    week = img_id.split('_')[-1]\n",
    "\n",
    "    if week in target_weeks and year in target_years:\n",
    "        img_ee = ee.Image(img_id)\n",
    "        img_properties = img_ee.getInfo()['properties']\n",
    "        img_coords = img_properties['system:footprint']['coordinates']\n",
    "        polygon_ee = ee.Geometry.Polygon(img_coords)\n",
    "        \n",
    "        target_imgs.append(img_ee)\n",
    "        target_polygons.append(polygon_ee)\n",
    "\n",
    "print(len(target_imgs))"
   ]
  },
  {
   "cell_type": "markdown",
   "id": "31b0a9c6-b744-4d39-970b-dc53a4de0945",
   "metadata": {},
   "source": [
    "### 3.0 Export the ROI foot-print"
   ]
  },
  {
   "cell_type": "code",
   "execution_count": 12,
   "id": "cb2906df-df22-4016-bbd6-234e7fbd1753",
   "metadata": {},
   "outputs": [
    {
     "data": {
      "text/html": [
       "\n",
       "            <style>\n",
       "                .geemap-dark {\n",
       "                    --jp-widgets-color: white;\n",
       "                    --jp-widgets-label-color: white;\n",
       "                    --jp-ui-font-color1: white;\n",
       "                    --jp-layout-color2: #454545;\n",
       "                    background-color: #383838;\n",
       "                }\n",
       "\n",
       "                .geemap-dark .jupyter-button {\n",
       "                    --jp-layout-color3: #383838;\n",
       "                }\n",
       "\n",
       "                .geemap-colab {\n",
       "                    background-color: var(--colab-primary-surface-color, white);\n",
       "                }\n",
       "\n",
       "                .geemap-colab .jupyter-button {\n",
       "                    --jp-layout-color3: var(--colab-primary-surface-color, white);\n",
       "                }\n",
       "            </style>\n",
       "            "
      ],
      "text/plain": [
       "<IPython.core.display.HTML object>"
      ]
     },
     "metadata": {},
     "output_type": "display_data"
    }
   ],
   "source": [
    "p1 = target_polygons[0]\n",
    "p2 = target_polygons[1]\n",
    "\n",
    "combined_footprint = p1.union(p2)\n",
    "\n",
    "for i in range(2, len(target_polygons)):\n",
    "    p = target_polygons[i]\n",
    "    combined_footprint = combined_footprint.union(p)\n",
    "\n",
    "# combined_footprint_info = combined_footprint.getInfo()\n",
    "# geojson_footprint = json.dumps(combined_footprint_info)\n",
    "# geometry = shape(json.loads(geojson_footprint))\n",
    "# roi_gdf = gpd.GeoDataFrame([{'geometry': geometry, 'roi': f'{region}'}], crs=\"EPSG:4326\")\n",
    "# os.chdir('/Users/jmaze/Documents/projects/altimetry_lakes_v3/')\n",
    "# roi_gdf.to_file(f'./data/ew_rois/{region}.shp')"
   ]
  },
  {
   "cell_type": "markdown",
   "id": "b94f02b0-0c0e-46fb-a919-9ca66ef8d8da",
   "metadata": {},
   "source": [
    "### 4.0 Determine the observation counts for each pixel"
   ]
  },
  {
   "cell_type": "code",
   "execution_count": 40,
   "id": "52acfbf6-8de6-4815-8c0b-b8722e704256",
   "metadata": {},
   "outputs": [
    {
     "data": {
      "text/html": [
       "\n",
       "            <style>\n",
       "                .geemap-dark {\n",
       "                    --jp-widgets-color: white;\n",
       "                    --jp-widgets-label-color: white;\n",
       "                    --jp-ui-font-color1: white;\n",
       "                    --jp-layout-color2: #454545;\n",
       "                    background-color: #383838;\n",
       "                }\n",
       "\n",
       "                .geemap-dark .jupyter-button {\n",
       "                    --jp-layout-color3: #383838;\n",
       "                }\n",
       "\n",
       "                .geemap-colab {\n",
       "                    background-color: var(--colab-primary-surface-color, white);\n",
       "                }\n",
       "\n",
       "                .geemap-colab .jupyter-button {\n",
       "                    --jp-layout-color3: var(--colab-primary-surface-color, white);\n",
       "                }\n",
       "            </style>\n",
       "            "
      ],
      "text/plain": [
       "<IPython.core.display.HTML object>"
      ]
     },
     "metadata": {},
     "output_type": "display_data"
    },
    {
     "name": "stdout",
     "output_type": "stream",
     "text": [
      "<bound method Collection.getInfo of <ee.featurecollection.FeatureCollection object at 0x15bcb1520>>\n",
      "{'area_km2': 4.8e-05, 'chain_id': 50441, 'lake_id': 'YKDaaaniR', 'n_lakes': 1, 'perim_km': 0.03, 'region': 'YKD'}\n"
     ]
    }
   ],
   "source": [
    "print(lake_polygons.getInfo)\n",
    "t = ee.Feature(lake_polygons.first())\n",
    "print(t.toDictionary().getInfo())"
   ]
  },
  {
   "cell_type": "code",
   "execution_count": 58,
   "id": "aaa25d04-eb26-42ba-a0bd-08ea2ca41c0d",
   "metadata": {},
   "outputs": [
    {
     "data": {
      "text/html": [
       "\n",
       "            <style>\n",
       "                .geemap-dark {\n",
       "                    --jp-widgets-color: white;\n",
       "                    --jp-widgets-label-color: white;\n",
       "                    --jp-ui-font-color1: white;\n",
       "                    --jp-layout-color2: #454545;\n",
       "                    background-color: #383838;\n",
       "                }\n",
       "\n",
       "                .geemap-dark .jupyter-button {\n",
       "                    --jp-layout-color3: #383838;\n",
       "                }\n",
       "\n",
       "                .geemap-colab {\n",
       "                    background-color: var(--colab-primary-surface-color, white);\n",
       "                }\n",
       "\n",
       "                .geemap-colab .jupyter-button {\n",
       "                    --jp-layout-color3: var(--colab-primary-surface-color, white);\n",
       "                }\n",
       "            </style>\n",
       "            "
      ],
      "text/plain": [
       "<IPython.core.display.HTML object>"
      ]
     },
     "metadata": {},
     "output_type": "display_data"
    },
    {
     "name": "stdout",
     "output_type": "stream",
     "text": [
      "{'type': 'Image', 'bands': [{'id': 'constant', 'data_type': {'type': 'PixelType', 'precision': 'int', 'min': 0, 'max': 100}, 'dimensions': [4, 3], 'origin': [-164, 59], 'crs': 'EPSG:4326', 'crs_transform': [1, 0, 0, 0, 1, 0]}], 'properties': {'system:footprint': {'type': 'Polygon', 'coordinates': [[[-162.9256914239813, 61.32165149933874], [-163.18881581112868, 61.32165138295492], [-163.18880979106663, 60.294337706358654], [-163.05715976763253, 60.2943378112966], [-162.85995711888265, 60.29428907198459], [-162.59702019226236, 60.2942891516568], [-162.39981761085133, 60.294337803721575], [-162.2026149633654, 60.29428907928763], [-162.00541231592624, 60.29433782970371], [-161.80820965330386, 60.294289088168846], [-161.54527278022567, 60.29428911633803], [-161.28233580583495, 60.29428914769383], [-161.0849515531911, 60.294337687002965], [-161.08494560654447, 61.321651414516175], [-161.47953852761117, 61.321651526300926], [-161.7424752968401, 61.32165150834502], [-162.1368806967916, 61.32165144456626], [-162.6627544909194, 61.32165147138602], [-162.9256914239813, 61.32165149933874]]]}}}\n"
     ]
    },
    {
     "data": {
      "application/vnd.jupyter.widget-view+json": {
       "model_id": "cc90b628f13147d5996db93ec7fa577e",
       "version_major": 2,
       "version_minor": 0
      },
      "text/plain": [
       "Map(center=[65, -135], controls=(WidgetControl(options=['position', 'transparent_bg'], widget=SearchDataGUI(ch…"
      ]
     },
     "execution_count": 58,
     "metadata": {},
     "output_type": "execute_result"
    }
   ],
   "source": [
    "test_num = 130\n",
    "rando_img = target_imgs[test_num]\n",
    "\n",
    "#print(rando_img.getInfo())\n",
    "temp = ee.Image().byte()\n",
    "\n",
    "buffered_lakes_rast = temp.paint(\n",
    "    featureCollection=lake_polygons,\n",
    "    color=1\n",
    ")\n",
    "buffered_lakes_rast = buffered_lakes_rast.unmask(0)\n",
    "\n",
    "#rando_img_obs = rando_img.where(rando_img.eq(0).And(rando_img.eq(1)), 1).unmask(0)\n",
    "\n",
    "conditional_image = buffered_lakes_rast.expression(\n",
    "    '((buffered_lakes_rast == 1) && (rando_img == 1)) ? 100 : '  # Condition 1: both images equal 1\n",
    "    '((buffered_lakes_rast == 1) && (rando_img == 0)) ? 50 : 0', # Condition 2: buffered_lakes_rast equals 1, rando_img equals 0\n",
    "    {\n",
    "        'buffered_lakes_rast': buffered_lakes_rast, \n",
    "        'rando_img': rando_img,\n",
    "    }\n",
    ")\n",
    "\n",
    "conditional_image = conditional_image.clip(target_polygons[test_num])\n",
    "\n",
    "water_viz = {\n",
    "    'bands': ['constant'],\n",
    "    'min': 0,\n",
    "    'max': 100,\n",
    "    'palette': ['red', 'brown', 'blue']\n",
    "}\n",
    "\n",
    "buffered_lakes_viz = {\n",
    "    'min': 0,\n",
    "    'max': 1,\n",
    "    'palette': ['white', 'pink']\n",
    "}\n",
    "\n",
    "print(conditional_image.getInfo())\n",
    "\n",
    "Map = geemap.Map(center=(65, -135), zoom=4)\n",
    "Map.addLayer(conditional_image, water_viz, 'test')\n",
    "#Map.addLayer(buffered_lakes_rast, buffered_lakes_viz, 'hmm')\n",
    "Map\n"
   ]
  },
  {
   "cell_type": "markdown",
   "id": "0b8b284b-047c-43ef-a61d-54f91b2adda4",
   "metadata": {},
   "source": [
    "### 4.1 Visualize the observation counts"
   ]
  },
  {
   "cell_type": "code",
   "execution_count": null,
   "id": "3acfb2fd-b21e-4ca4-b677-a14156b7f1e9",
   "metadata": {},
   "outputs": [],
   "source": [
    "viz_obs = {\n",
    "    'bands': ['constant'],\n",
    "    'min': 0,\n",
    "    'max': max_times,\n",
    "    'palette': ['ff0000', 'ffff00', '00ff00']\n",
    "}\n",
    "\n",
    "Map = geemap.Map(center=(65, -135), zoom=4)\n",
    "Map.addLayer(lake_polygons, {}, '.')\n",
    "Map.addLayer(pixel_observations, viz_obs, f'{max_times}')\n",
    "Map"
   ]
  },
  {
   "cell_type": "markdown",
   "id": "cd9a951d-90e2-44ea-9cec-b834258a2406",
   "metadata": {},
   "source": [
    "### 5.0 Calculate the number of water occurances for each pixel"
   ]
  },
  {
   "cell_type": "code",
   "execution_count": 21,
   "id": "12cd4419-c782-41c1-99bf-dae5cba82889",
   "metadata": {},
   "outputs": [
    {
     "data": {
      "text/html": [
       "\n",
       "            <style>\n",
       "                .geemap-dark {\n",
       "                    --jp-widgets-color: white;\n",
       "                    --jp-widgets-label-color: white;\n",
       "                    --jp-ui-font-color1: white;\n",
       "                    --jp-layout-color2: #454545;\n",
       "                    background-color: #383838;\n",
       "                }\n",
       "\n",
       "                .geemap-dark .jupyter-button {\n",
       "                    --jp-layout-color3: #383838;\n",
       "                }\n",
       "\n",
       "                .geemap-colab {\n",
       "                    background-color: var(--colab-primary-surface-color, white);\n",
       "                }\n",
       "\n",
       "                .geemap-colab .jupyter-button {\n",
       "                    --jp-layout-color3: var(--colab-primary-surface-color, white);\n",
       "                }\n",
       "            </style>\n",
       "            "
      ],
      "text/plain": [
       "<IPython.core.display.HTML object>"
      ]
     },
     "metadata": {},
     "output_type": "display_data"
    }
   ],
   "source": [
    "target_collection = ee.ImageCollection(target_imgs)\n",
    "wtr_sum_img = target_collection.select('water_occurance').sum()\n",
    "wtr_sum_img = wtr_sum_img.clip(combined_footprint)"
   ]
  },
  {
   "cell_type": "markdown",
   "id": "d8f9eeca-c246-43e1-b999-cb3bde8668d5",
   "metadata": {},
   "source": [
    "### 6.0 Dived each pixels water occurance by total observations"
   ]
  },
  {
   "cell_type": "code",
   "execution_count": 21,
   "id": "b633e75b-56b9-43ea-9578-57617ef23e2c",
   "metadata": {},
   "outputs": [
    {
     "data": {
      "text/html": [
       "\n",
       "            <style>\n",
       "                .geemap-dark {\n",
       "                    --jp-widgets-color: white;\n",
       "                    --jp-widgets-label-color: white;\n",
       "                    --jp-ui-font-color1: white;\n",
       "                    --jp-layout-color2: #454545;\n",
       "                    background-color: #383838;\n",
       "                }\n",
       "\n",
       "                .geemap-dark .jupyter-button {\n",
       "                    --jp-layout-color3: #383838;\n",
       "                }\n",
       "\n",
       "                .geemap-colab {\n",
       "                    background-color: var(--colab-primary-surface-color, white);\n",
       "                }\n",
       "\n",
       "                .geemap-colab .jupyter-button {\n",
       "                    --jp-layout-color3: var(--colab-primary-surface-color, white);\n",
       "                }\n",
       "            </style>\n",
       "            "
      ],
      "text/plain": [
       "<IPython.core.display.HTML object>"
      ]
     },
     "metadata": {},
     "output_type": "display_data"
    }
   ],
   "source": [
    "wtr_proportion = wtr_sum_img.select('water_occurance').divide(pixel_observations.select('constant'))"
   ]
  },
  {
   "cell_type": "markdown",
   "id": "a43c0bde-7d35-4d99-b4bc-058b785198e6",
   "metadata": {},
   "source": [
    "### 6.1 Visualize the water occurance proportions"
   ]
  },
  {
   "cell_type": "code",
   "execution_count": null,
   "id": "2e7e34c4-b2ca-4912-a26e-98875114023c",
   "metadata": {},
   "outputs": [],
   "source": [
    "viz_prop = {\n",
    "    'bands': ['water_occurance'],\n",
    "    'min': 0,\n",
    "    'max': 1,\n",
    "    'palette': ['ff0000', '00ff00', '0000ff']\n",
    "}\n",
    "\n",
    "Map = geemap.Map(center=(65, -135), zoom=4)\n",
    "Map.addLayer(wtr_proportion, viz_prop, '.')\n",
    "Map\n",
    "\n"
   ]
  },
  {
   "cell_type": "markdown",
   "id": "aa3bcfc0-dc4b-4f06-9e8d-5a19190d11a4",
   "metadata": {},
   "source": [
    "### 7.0 Binary image based on number of occurances"
   ]
  },
  {
   "cell_type": "code",
   "execution_count": 12,
   "id": "21ae9b27-11cd-40b9-ad13-4949c8ed4518",
   "metadata": {},
   "outputs": [
    {
     "data": {
      "text/html": [
       "\n",
       "            <style>\n",
       "                .geemap-dark {\n",
       "                    --jp-widgets-color: white;\n",
       "                    --jp-widgets-label-color: white;\n",
       "                    --jp-ui-font-color1: white;\n",
       "                    --jp-layout-color2: #454545;\n",
       "                    background-color: #383838;\n",
       "                }\n",
       "\n",
       "                .geemap-dark .jupyter-button {\n",
       "                    --jp-layout-color3: #383838;\n",
       "                }\n",
       "\n",
       "                .geemap-colab {\n",
       "                    background-color: var(--colab-primary-surface-color, white);\n",
       "                }\n",
       "\n",
       "                .geemap-colab .jupyter-button {\n",
       "                    --jp-layout-color3: var(--colab-primary-surface-color, white);\n",
       "                }\n",
       "            </style>\n",
       "            "
      ],
      "text/plain": [
       "<IPython.core.display.HTML object>"
      ]
     },
     "metadata": {},
     "output_type": "display_data"
    },
    {
     "name": "stdout",
     "output_type": "stream",
     "text": [
      "[8.0, 6.666666666666666, 5.7142857142857135, 4.0, 2.6666666666666665]\n",
      "{8: <ee.image.Image object at 0x165929460>, 6: <ee.image.Image object at 0x165a1fb90>, 5: <ee.image.Image object at 0x165a1d9a0>, 4: <ee.image.Image object at 0x165a1d8b0>, 2: <ee.image.Image object at 0x165a1ffb0>}\n"
     ]
    }
   ],
   "source": [
    "time_fractions = [1/5, 1/6, 1/7, 1/10, 1/15]\n",
    "#print(time_fractions)\n",
    "water_thresholds = [time_fraction * max_times for time_fraction in time_fractions]\n",
    "print(water_thresholds)\n",
    "\n",
    "binary_images = {}\n",
    "for threshold in water_thresholds:\n",
    "    threshold_round = math.floor(threshold)\n",
    "    wtr_img_binary = wtr_sum_img.gt(threshold)\n",
    "    binary_images[threshold_round] = wtr_img_binary\n",
    "\n",
    "print(binary_images)"
   ]
  },
  {
   "cell_type": "markdown",
   "id": "e10b1f23-a4a7-427a-a65b-31492b2edae5",
   "metadata": {},
   "source": [
    "### 6.0 Visualize results"
   ]
  },
  {
   "cell_type": "code",
   "execution_count": 13,
   "id": "85d5eb44-0f05-4193-9447-1c711fa31238",
   "metadata": {},
   "outputs": [
    {
     "data": {
      "text/html": [
       "\n",
       "            <style>\n",
       "                .geemap-dark {\n",
       "                    --jp-widgets-color: white;\n",
       "                    --jp-widgets-label-color: white;\n",
       "                    --jp-ui-font-color1: white;\n",
       "                    --jp-layout-color2: #454545;\n",
       "                    background-color: #383838;\n",
       "                }\n",
       "\n",
       "                .geemap-dark .jupyter-button {\n",
       "                    --jp-layout-color3: #383838;\n",
       "                }\n",
       "\n",
       "                .geemap-colab {\n",
       "                    background-color: var(--colab-primary-surface-color, white);\n",
       "                }\n",
       "\n",
       "                .geemap-colab .jupyter-button {\n",
       "                    --jp-layout-color3: var(--colab-primary-surface-color, white);\n",
       "                }\n",
       "            </style>\n",
       "            "
      ],
      "text/plain": [
       "<IPython.core.display.HTML object>"
      ]
     },
     "metadata": {},
     "output_type": "display_data"
    },
    {
     "name": "stdout",
     "output_type": "stream",
     "text": [
      "dict_keys([8, 6, 5, 4, 2])\n"
     ]
    },
    {
     "data": {
      "application/vnd.jupyter.widget-view+json": {
       "model_id": "d76d06162fdf44cbbe6a7a505fa67fa8",
       "version_major": 2,
       "version_minor": 0
      },
      "text/plain": [
       "Map(center=[65, -135], controls=(WidgetControl(options=['position', 'transparent_bg'], widget=SearchDataGUI(ch…"
      ]
     },
     "execution_count": 13,
     "metadata": {},
     "output_type": "execute_result"
    }
   ],
   "source": [
    "viz1 = {\n",
    "    'bands': ['water_occurance'],\n",
    "    'min': 0,\n",
    "    'max': 1,\n",
    "    'palette': ['ff0000', '00ff00', '0000ff']\n",
    "}\n",
    "\n",
    "Map = geemap.Map(center=(65, -135), zoom=4)\n",
    "\n",
    "occurance_cnts = binary_images.keys()\n",
    "print(occurance_cnts)\n",
    "\n",
    "for cnt in occurance_cnts:\n",
    "    Map.addLayer(binary_images[cnt], viz1, f'{region}, {cnt}, {target_weeks[0]}')\n",
    "\n",
    "\n",
    "#Map.addLayer(combined_footprint, {}, 'roi_bounds')\n",
    "Map\n"
   ]
  },
  {
   "cell_type": "code",
   "execution_count": 18,
   "id": "50ba031e-8402-4fb1-a92e-727ce79ac181",
   "metadata": {},
   "outputs": [
    {
     "data": {
      "text/html": [
       "\n",
       "            <style>\n",
       "                .geemap-dark {\n",
       "                    --jp-widgets-color: white;\n",
       "                    --jp-widgets-label-color: white;\n",
       "                    --jp-ui-font-color1: white;\n",
       "                    --jp-layout-color2: #454545;\n",
       "                    background-color: #383838;\n",
       "                }\n",
       "\n",
       "                .geemap-dark .jupyter-button {\n",
       "                    --jp-layout-color3: #383838;\n",
       "                }\n",
       "\n",
       "                .geemap-colab {\n",
       "                    background-color: var(--colab-primary-surface-color, white);\n",
       "                }\n",
       "\n",
       "                .geemap-colab .jupyter-button {\n",
       "                    --jp-layout-color3: var(--colab-primary-surface-color, white);\n",
       "                }\n",
       "            </style>\n",
       "            "
      ],
      "text/plain": [
       "<IPython.core.display.HTML object>"
      ]
     },
     "metadata": {},
     "output_type": "display_data"
    },
    {
     "data": {
      "application/vnd.jupyter.widget-view+json": {
       "model_id": "22278601de4f4ce19c9ae68b76992408",
       "version_major": 2,
       "version_minor": 0
      },
      "text/plain": [
       "Map(center=[65, -135], controls=(WidgetControl(options=['position', 'transparent_bg'], widget=SearchDataGUI(ch…"
      ]
     },
     "execution_count": 18,
     "metadata": {},
     "output_type": "execute_result"
    }
   ],
   "source": [
    "viz2 = {\n",
    "    'bands': ['water_occurance'],\n",
    "    'min': 0,\n",
    "    'max': 4,\n",
    "    'palette': ['ff0000', '00ff00', '0000ff']\n",
    "}\n",
    "\n",
    "Map2 = geemap.Map(center=(65,-135), zoom=4)\n",
    "Map2.addLayer(wtr_sum_img , viz2, f'Occurence sums')\n",
    "Map2"
   ]
  },
  {
   "cell_type": "code",
   "execution_count": null,
   "id": "3840e871-8df9-4e9f-b84e-1ff81003f50a",
   "metadata": {},
   "outputs": [],
   "source": [
    "\n",
    "\n",
    "### 7.1 Export the .GeoTiff to Drive"
   ]
  },
  {
   "cell_type": "code",
   "execution_count": 13,
   "id": "e4357ba0-73ef-49ee-aee8-7a9cdf3618d5",
   "metadata": {},
   "outputs": [
    {
     "data": {
      "text/html": [
       "\n",
       "            <style>\n",
       "                .geemap-dark {\n",
       "                    --jp-widgets-color: white;\n",
       "                    --jp-widgets-label-color: white;\n",
       "                    --jp-ui-font-color1: white;\n",
       "                    --jp-layout-color2: #454545;\n",
       "                    background-color: #383838;\n",
       "                }\n",
       "\n",
       "                .geemap-dark .jupyter-button {\n",
       "                    --jp-layout-color3: #383838;\n",
       "                }\n",
       "\n",
       "                .geemap-colab {\n",
       "                    background-color: var(--colab-primary-surface-color, white);\n",
       "                }\n",
       "\n",
       "                .geemap-colab .jupyter-button {\n",
       "                    --jp-layout-color3: var(--colab-primary-surface-color, white);\n",
       "                }\n",
       "            </style>\n",
       "            "
      ],
      "text/plain": [
       "<IPython.core.display.HTML object>"
      ]
     },
     "metadata": {},
     "output_type": "display_data"
    }
   ],
   "source": [
    "for cnt in occurance_cnts:\n",
    "\n",
    "    img = binary_images[cnt]\n",
    "\n",
    "    export_task = ee.batch.Export.image.toDrive(\n",
    "        image=img,\n",
    "        description=f'{region}_count{cnt}_years{target_years[0]}-{target_years[-1]}_weeks{target_weeks[0]}-{target_weeks[-1]}',\n",
    "        folder='ewebb_s2',\n",
    "        fileNamePrefix=f'{region}_count{cnt}_years{target_years[0]}-{target_years[-1]}_weeks{target_weeks[0]}-{target_weeks[-1]}',\n",
    "        region=combined_footprint,\n",
    "        scale=10,\n",
    "        fileFormat='GeoTIFF',\n",
    "        maxPixels=1e13\n",
    "    )\n",
    "    \n",
    "    export_task.start()"
   ]
  },
  {
   "cell_type": "markdown",
   "id": "fe8dde47-37be-4607-b6c8-59ecfea403ba",
   "metadata": {},
   "source": [
    "### X.2 Export the .shp files to Drive??"
   ]
  },
  {
   "cell_type": "markdown",
   "id": "3364a9de-1829-4c72-819c-3dd0b415bc4a",
   "metadata": {},
   "source": [
    "### * Scrap workspace"
   ]
  },
  {
   "cell_type": "code",
   "execution_count": null,
   "id": "887c2f27-5138-4563-aa2a-dd480ecb8a26",
   "metadata": {},
   "outputs": [],
   "source": [
    "# obs_masks = []\n",
    "# for polygon in target_polygons:\n",
    "#     obs_mask = ee.Image.constant(1).clip(polygon)\n",
    "#     #obs_mask = obs_mask.set(1)\n",
    "#     obs_masks.append(obs_mask)\n",
    "    \n",
    "# obs_collection = ee.ImageCollection(obs_masks)\n",
    "\n",
    "# pixel_observations = obs_collection.select('constant').sum()\n",
    "# #print(pixel_observations)"
   ]
  },
  {
   "cell_type": "code",
   "execution_count": 20,
   "id": "28e3ad6a-970c-4875-a1f7-1d95623449b3",
   "metadata": {},
   "outputs": [
    {
     "data": {
      "text/html": [
       "\n",
       "            <style>\n",
       "                .geemap-dark {\n",
       "                    --jp-widgets-color: white;\n",
       "                    --jp-widgets-label-color: white;\n",
       "                    --jp-ui-font-color1: white;\n",
       "                    --jp-layout-color2: #454545;\n",
       "                    background-color: #383838;\n",
       "                }\n",
       "\n",
       "                .geemap-dark .jupyter-button {\n",
       "                    --jp-layout-color3: #383838;\n",
       "                }\n",
       "\n",
       "                .geemap-colab {\n",
       "                    background-color: var(--colab-primary-surface-color, white);\n",
       "                }\n",
       "\n",
       "                .geemap-colab .jupyter-button {\n",
       "                    --jp-layout-color3: var(--colab-primary-surface-color, white);\n",
       "                }\n",
       "            </style>\n",
       "            "
      ],
      "text/plain": [
       "<IPython.core.display.HTML object>"
      ]
     },
     "metadata": {},
     "output_type": "display_data"
    },
    {
     "data": {
      "application/vnd.jupyter.widget-view+json": {
       "model_id": "471430c49bf94e00becacfe81ba49ce4",
       "version_major": 2,
       "version_minor": 0
      },
      "text/plain": [
       "Map(center=[65, -135], controls=(WidgetControl(options=['position', 'transparent_bg'], widget=SearchDataGUI(ch…"
      ]
     },
     "execution_count": 20,
     "metadata": {},
     "output_type": "execute_result"
    }
   ],
   "source": [
    "rando_img = target_imgs[58]\n",
    "viz2 = {\n",
    "    'bands': ['water_occurance'],\n",
    "    'min': 0,\n",
    "    'max': 1,\n",
    "    'palette': ['white', 'blue']\n",
    "}\n",
    "\n",
    "Map2 = geemap.Map(center=(65,-135), zoom=4)\n",
    "Map2.addLayer(rando_img , viz2, f'idk')\n",
    "Map2.addLayer(lake_polygons, {}, 'wtf')\n",
    "Map2\n",
    "#print(rando_img.getInfo)"
   ]
  },
  {
   "cell_type": "code",
   "execution_count": null,
   "id": "c8cb4b12-9784-42c0-9d23-37c90baa95ee",
   "metadata": {},
   "outputs": [],
   "source": []
  }
 ],
 "metadata": {
  "kernelspec": {
   "display_name": "Python 3 (ipykernel)",
   "language": "python",
   "name": "python3"
  },
  "language_info": {
   "codemirror_mode": {
    "name": "ipython",
    "version": 3
   },
   "file_extension": ".py",
   "mimetype": "text/x-python",
   "name": "python",
   "nbconvert_exporter": "python",
   "pygments_lexer": "ipython3",
   "version": "3.12.4"
  }
 },
 "nbformat": 4,
 "nbformat_minor": 5
}
