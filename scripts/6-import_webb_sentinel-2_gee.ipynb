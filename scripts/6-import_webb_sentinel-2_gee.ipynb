{
 "cells": [
  {
   "cell_type": "markdown",
   "id": "0be1c316-cc0b-43de-a559-b57fdd4c66ac",
   "metadata": {},
   "source": [
    "### 1.0 Libraries and set-up"
   ]
  },
  {
   "cell_type": "code",
   "execution_count": 13,
   "id": "65d88148-10fb-44ee-89c9-8216048a2770",
   "metadata": {},
   "outputs": [
    {
     "data": {
      "text/html": [
       "\n",
       "            <style>\n",
       "                .geemap-dark {\n",
       "                    --jp-widgets-color: white;\n",
       "                    --jp-widgets-label-color: white;\n",
       "                    --jp-ui-font-color1: white;\n",
       "                    --jp-layout-color2: #454545;\n",
       "                    background-color: #383838;\n",
       "                }\n",
       "\n",
       "                .geemap-dark .jupyter-button {\n",
       "                    --jp-layout-color3: #383838;\n",
       "                }\n",
       "\n",
       "                .geemap-colab {\n",
       "                    background-color: var(--colab-primary-surface-color, white);\n",
       "                }\n",
       "\n",
       "                .geemap-colab .jupyter-button {\n",
       "                    --jp-layout-color3: var(--colab-primary-surface-color, white);\n",
       "                }\n",
       "            </style>\n",
       "            "
      ],
      "text/plain": [
       "<IPython.core.display.HTML object>"
      ]
     },
     "metadata": {},
     "output_type": "display_data"
    }
   ],
   "source": [
    "import ee\n",
    "import os\n",
    "import math\n",
    "import geemap\n",
    "import json\n",
    "from shapely.geometry import shape\n",
    "import geopandas as gpd"
   ]
  },
  {
   "cell_type": "code",
   "execution_count": 14,
   "id": "6818441d-5e40-4033-bb83-8dd2bf10a0f4",
   "metadata": {},
   "outputs": [
    {
     "data": {
      "text/html": [
       "\n",
       "            <style>\n",
       "                .geemap-dark {\n",
       "                    --jp-widgets-color: white;\n",
       "                    --jp-widgets-label-color: white;\n",
       "                    --jp-ui-font-color1: white;\n",
       "                    --jp-layout-color2: #454545;\n",
       "                    background-color: #383838;\n",
       "                }\n",
       "\n",
       "                .geemap-dark .jupyter-button {\n",
       "                    --jp-layout-color3: #383838;\n",
       "                }\n",
       "\n",
       "                .geemap-colab {\n",
       "                    background-color: var(--colab-primary-surface-color, white);\n",
       "                }\n",
       "\n",
       "                .geemap-colab .jupyter-button {\n",
       "                    --jp-layout-color3: var(--colab-primary-surface-color, white);\n",
       "                }\n",
       "            </style>\n",
       "            "
      ],
      "text/plain": [
       "<IPython.core.display.HTML object>"
      ]
     },
     "metadata": {},
     "output_type": "display_data"
    },
    {
     "data": {
      "text/plain": [
       "True"
      ]
     },
     "execution_count": 14,
     "metadata": {},
     "output_type": "execute_result"
    }
   ],
   "source": [
    "ee.Authenticate()"
   ]
  },
  {
   "cell_type": "code",
   "execution_count": 15,
   "id": "821e9461-2589-4edf-b1dc-3c64e0268775",
   "metadata": {},
   "outputs": [
    {
     "data": {
      "text/html": [
       "\n",
       "            <style>\n",
       "                .geemap-dark {\n",
       "                    --jp-widgets-color: white;\n",
       "                    --jp-widgets-label-color: white;\n",
       "                    --jp-ui-font-color1: white;\n",
       "                    --jp-layout-color2: #454545;\n",
       "                    background-color: #383838;\n",
       "                }\n",
       "\n",
       "                .geemap-dark .jupyter-button {\n",
       "                    --jp-layout-color3: #383838;\n",
       "                }\n",
       "\n",
       "                .geemap-colab {\n",
       "                    background-color: var(--colab-primary-surface-color, white);\n",
       "                }\n",
       "\n",
       "                .geemap-colab .jupyter-button {\n",
       "                    --jp-layout-color3: var(--colab-primary-surface-color, white);\n",
       "                }\n",
       "            </style>\n",
       "            "
      ],
      "text/plain": [
       "<IPython.core.display.HTML object>"
      ]
     },
     "metadata": {},
     "output_type": "display_data"
    }
   ],
   "source": [
    "ee.Initialize()"
   ]
  },
  {
   "cell_type": "code",
   "execution_count": 16,
   "id": "7b630f0c-71e0-4416-8473-3b25c2b6336b",
   "metadata": {},
   "outputs": [
    {
     "data": {
      "text/html": [
       "\n",
       "            <style>\n",
       "                .geemap-dark {\n",
       "                    --jp-widgets-color: white;\n",
       "                    --jp-widgets-label-color: white;\n",
       "                    --jp-ui-font-color1: white;\n",
       "                    --jp-layout-color2: #454545;\n",
       "                    background-color: #383838;\n",
       "                }\n",
       "\n",
       "                .geemap-dark .jupyter-button {\n",
       "                    --jp-layout-color3: #383838;\n",
       "                }\n",
       "\n",
       "                .geemap-colab {\n",
       "                    background-color: var(--colab-primary-surface-color, white);\n",
       "                }\n",
       "\n",
       "                .geemap-colab .jupyter-button {\n",
       "                    --jp-layout-color3: var(--colab-primary-surface-color, white);\n",
       "                }\n",
       "            </style>\n",
       "            "
      ],
      "text/plain": [
       "<IPython.core.display.HTML object>"
      ]
     },
     "metadata": {},
     "output_type": "display_data"
    }
   ],
   "source": [
    "region = 'YKD_weekly'\n",
    "# region = 'AKCP_weekly'\n",
    "# region = 'TUK_MKD_weekly'\n",
    "# region = 'YKF_weekly'\n",
    "folder = 'projects/alpod-412314/assets/' + region"
   ]
  },
  {
   "cell_type": "code",
   "execution_count": 17,
   "id": "df9d8484-0420-41f9-80ea-a1c50af187fd",
   "metadata": {},
   "outputs": [
    {
     "data": {
      "text/html": [
       "\n",
       "            <style>\n",
       "                .geemap-dark {\n",
       "                    --jp-widgets-color: white;\n",
       "                    --jp-widgets-label-color: white;\n",
       "                    --jp-ui-font-color1: white;\n",
       "                    --jp-layout-color2: #454545;\n",
       "                    background-color: #383838;\n",
       "                }\n",
       "\n",
       "                .geemap-dark .jupyter-button {\n",
       "                    --jp-layout-color3: #383838;\n",
       "                }\n",
       "\n",
       "                .geemap-colab {\n",
       "                    background-color: var(--colab-primary-surface-color, white);\n",
       "                }\n",
       "\n",
       "                .geemap-colab .jupyter-button {\n",
       "                    --jp-layout-color3: var(--colab-primary-surface-color, white);\n",
       "                }\n",
       "            </style>\n",
       "            "
      ],
      "text/plain": [
       "<IPython.core.display.HTML object>"
      ]
     },
     "metadata": {},
     "output_type": "display_data"
    }
   ],
   "source": [
    "image_list = ee.data.listImages(folder)\n",
    "image_list = image_list.get('images')"
   ]
  },
  {
   "cell_type": "code",
   "execution_count": 31,
   "id": "fc978946-0af2-42ad-92d8-d43126a8bf01",
   "metadata": {},
   "outputs": [
    {
     "data": {
      "text/html": [
       "\n",
       "            <style>\n",
       "                .geemap-dark {\n",
       "                    --jp-widgets-color: white;\n",
       "                    --jp-widgets-label-color: white;\n",
       "                    --jp-ui-font-color1: white;\n",
       "                    --jp-layout-color2: #454545;\n",
       "                    background-color: #383838;\n",
       "                }\n",
       "\n",
       "                .geemap-dark .jupyter-button {\n",
       "                    --jp-layout-color3: #383838;\n",
       "                }\n",
       "\n",
       "                .geemap-colab {\n",
       "                    background-color: var(--colab-primary-surface-color, white);\n",
       "                }\n",
       "\n",
       "                .geemap-colab .jupyter-button {\n",
       "                    --jp-layout-color3: var(--colab-primary-surface-color, white);\n",
       "                }\n",
       "            </style>\n",
       "            "
      ],
      "text/plain": [
       "<IPython.core.display.HTML object>"
      ]
     },
     "metadata": {},
     "output_type": "display_data"
    },
    {
     "name": "stdout",
     "output_type": "stream",
     "text": [
      "{'type': 'Image', 'bands': [{'id': 'water_occurance', 'data_type': {'type': 'PixelType', 'precision': 'int', 'min': 0, 'max': 255}, 'dimensions': [22834, 11111], 'crs': 'EPSG:4326', 'crs_transform': [8.983152841195215e-05, 0, -166.86880138983202, 0, -8.983152841195215e-05, 61.33436248535698]}], 'version': 1719797633687643, 'id': 'projects/alpod-412314/assets/YKD_weekly/03VVH_2016_25', 'properties': {'system:footprint': {'type': 'LinearRing', 'coordinates': [[-165.84319482922518, 61.334407594596996], [-166.09958530214465, 61.33440757070055], [-166.4841708075412, 61.33440755767273], [-166.86894410533003, 61.33440750232537], [-166.86893836721399, 60.33619919540345], [-166.676463585461, 60.33615307524081], [-166.42007326744408, 60.33615308977307], [-166.22778045805273, 60.33619929212763], [-166.03548764518138, 60.33615308084961], [-165.7790971444423, 60.336153061499246], [-165.52270678371238, 60.33615305980325], [-165.3304139971633, 60.33619932740822], [-165.1381211612177, 60.33615306454182], [-164.94582836152594, 60.336199316844436], [-164.81745141921837, 60.33619922418118], [-164.8174455604192, 61.33440746584451], [-165.20221886181534, 61.33440753660442], [-165.5868044202101, 61.33440752947061], [-165.84319482922518, 61.334407594596996]]}, 'system:asset_size': 2866883}}\n",
      "{'system:footprint': {'type': 'LinearRing', 'coordinates': [[-165.84319482922518, 61.334407594596996], [-166.09958530214465, 61.33440757070055], [-166.4841708075412, 61.33440755767273], [-166.86894410533003, 61.33440750232537], [-166.86893836721399, 60.33619919540345], [-166.676463585461, 60.33615307524081], [-166.42007326744408, 60.33615308977307], [-166.22778045805273, 60.33619929212763], [-166.03548764518138, 60.33615308084961], [-165.7790971444423, 60.336153061499246], [-165.52270678371238, 60.33615305980325], [-165.3304139971633, 60.33619932740822], [-165.1381211612177, 60.33615306454182], [-164.94582836152594, 60.336199316844436], [-164.81745141921837, 60.33619922418118], [-164.8174455604192, 61.33440746584451], [-165.20221886181534, 61.33440753660442], [-165.5868044202101, 61.33440752947061], [-165.84319482922518, 61.334407594596996]]}, 'system:asset_size': 2866883}\n"
     ]
    }
   ],
   "source": [
    "rando_img = target_imgs[0]\n",
    "print(rando_img.getInfo())\n",
    "rando_properties = rando_img.getInfo()['properties']\n",
    "print(rando_properties)\n",
    "\n",
    "rando_img = rando_img.clip(combined_footprint)\n",
    "\n",
    "export_task = ee.batch.Export.image.toDrive(\n",
    "        image= rando_img,\n",
    "        description='test_no_data',\n",
    "        folder='',\n",
    "        fileNamePrefix='test_no_data',\n",
    "        region=combined_footprint,\n",
    "        scale=10,\n",
    "        fileFormat='GeoTIFF',\n",
    "        maxPixels=1e13\n",
    "    )\n",
    "    \n",
    "export_task.start()"
   ]
  },
  {
   "cell_type": "markdown",
   "id": "69f97112-e63c-4a03-b35e-badb17edfdd9",
   "metadata": {},
   "source": [
    "### 2.0 Images for target time period and region"
   ]
  },
  {
   "cell_type": "code",
   "execution_count": 19,
   "id": "98160a83-e1b2-4c0e-ab9e-ee984eaa0226",
   "metadata": {},
   "outputs": [
    {
     "data": {
      "text/html": [
       "\n",
       "            <style>\n",
       "                .geemap-dark {\n",
       "                    --jp-widgets-color: white;\n",
       "                    --jp-widgets-label-color: white;\n",
       "                    --jp-ui-font-color1: white;\n",
       "                    --jp-layout-color2: #454545;\n",
       "                    background-color: #383838;\n",
       "                }\n",
       "\n",
       "                .geemap-dark .jupyter-button {\n",
       "                    --jp-layout-color3: #383838;\n",
       "                }\n",
       "\n",
       "                .geemap-colab {\n",
       "                    background-color: var(--colab-primary-surface-color, white);\n",
       "                }\n",
       "\n",
       "                .geemap-colab .jupyter-button {\n",
       "                    --jp-layout-color3: var(--colab-primary-surface-color, white);\n",
       "                }\n",
       "            </style>\n",
       "            "
      ],
      "text/plain": [
       "<IPython.core.display.HTML object>"
      ]
     },
     "metadata": {},
     "output_type": "display_data"
    },
    {
     "name": "stdout",
     "output_type": "stream",
     "text": [
      "['2016', '2017', '2018', '2019', '2020', '2021', '2022', '2023']\n",
      "['22', '23', '24', '25', '26']\n",
      "40\n"
     ]
    }
   ],
   "source": [
    "target_years = list(range(2016, 2024))\n",
    "target_years = [str(year) for year in target_years]\n",
    "print(target_years)\n",
    "\n",
    "# June\n",
    "target_weeks = list(range(22, 27))\n",
    "#August \n",
    "#target_weeks = list(range(31, 36))\n",
    "# September\n",
    "#target_weeks = list(range(35, 41))\n",
    "\n",
    "\n",
    "target_weeks = [str(week) for week in target_weeks]\n",
    "print(target_weeks)\n",
    "\n",
    "max_times = len(target_years) * len(target_weeks)\n",
    "print(max_times)"
   ]
  },
  {
   "cell_type": "code",
   "execution_count": 20,
   "id": "db2a4767-b983-4aed-8df1-1e7f8cca0592",
   "metadata": {},
   "outputs": [
    {
     "data": {
      "text/html": [
       "\n",
       "            <style>\n",
       "                .geemap-dark {\n",
       "                    --jp-widgets-color: white;\n",
       "                    --jp-widgets-label-color: white;\n",
       "                    --jp-ui-font-color1: white;\n",
       "                    --jp-layout-color2: #454545;\n",
       "                    background-color: #383838;\n",
       "                }\n",
       "\n",
       "                .geemap-dark .jupyter-button {\n",
       "                    --jp-layout-color3: #383838;\n",
       "                }\n",
       "\n",
       "                .geemap-colab {\n",
       "                    background-color: var(--colab-primary-surface-color, white);\n",
       "                }\n",
       "\n",
       "                .geemap-colab .jupyter-button {\n",
       "                    --jp-layout-color3: var(--colab-primary-surface-color, white);\n",
       "                }\n",
       "            </style>\n",
       "            "
      ],
      "text/plain": [
       "<IPython.core.display.HTML object>"
      ]
     },
     "metadata": {},
     "output_type": "display_data"
    },
    {
     "name": "stdout",
     "output_type": "stream",
     "text": [
      "306\n"
     ]
    }
   ],
   "source": [
    "target_imgs = []\n",
    "target_polygons = []\n",
    "\n",
    "for image in image_list:\n",
    "    img_id = image['id']\n",
    "    year = img_id.split('_')[-2]\n",
    "    week = img_id.split('_')[-1]\n",
    "\n",
    "    if week in target_weeks and year in target_years:\n",
    "        img_ee = ee.Image(img_id)\n",
    "        img_properties = img_ee.getInfo()['properties']\n",
    "        img_coords = img_properties['system:footprint']['coordinates']\n",
    "        polygon_ee = ee.Geometry.Polygon(img_coords)\n",
    "        \n",
    "        target_imgs.append(img_ee)\n",
    "        target_polygons.append(polygon_ee)\n",
    "\n",
    "print(len(target_imgs))"
   ]
  },
  {
   "cell_type": "markdown",
   "id": "31b0a9c6-b744-4d39-970b-dc53a4de0945",
   "metadata": {},
   "source": [
    "### 3.0 Export the ROI foot-print"
   ]
  },
  {
   "cell_type": "code",
   "execution_count": 21,
   "id": "cb2906df-df22-4016-bbd6-234e7fbd1753",
   "metadata": {},
   "outputs": [
    {
     "data": {
      "text/html": [
       "\n",
       "            <style>\n",
       "                .geemap-dark {\n",
       "                    --jp-widgets-color: white;\n",
       "                    --jp-widgets-label-color: white;\n",
       "                    --jp-ui-font-color1: white;\n",
       "                    --jp-layout-color2: #454545;\n",
       "                    background-color: #383838;\n",
       "                }\n",
       "\n",
       "                .geemap-dark .jupyter-button {\n",
       "                    --jp-layout-color3: #383838;\n",
       "                }\n",
       "\n",
       "                .geemap-colab {\n",
       "                    background-color: var(--colab-primary-surface-color, white);\n",
       "                }\n",
       "\n",
       "                .geemap-colab .jupyter-button {\n",
       "                    --jp-layout-color3: var(--colab-primary-surface-color, white);\n",
       "                }\n",
       "            </style>\n",
       "            "
      ],
      "text/plain": [
       "<IPython.core.display.HTML object>"
      ]
     },
     "metadata": {},
     "output_type": "display_data"
    }
   ],
   "source": [
    "p1 = target_polygons[0]\n",
    "p2 = target_polygons[1]\n",
    "\n",
    "combined_footprint = p1.union(p2)\n",
    "\n",
    "for i in range(2, len(target_polygons)):\n",
    "    p = target_polygons[i]\n",
    "    combined_footprint = combined_footprint.union(p)\n",
    "\n",
    "# combined_footprint_info = combined_footprint.getInfo()\n",
    "# geojson_footprint = json.dumps(combined_footprint_info)\n",
    "# geometry = shape(json.loads(geojson_footprint))\n",
    "# roi_gdf = gpd.GeoDataFrame([{'geometry': geometry, 'roi': f'{region}'}], crs=\"EPSG:4326\")\n",
    "# os.chdir('/Users/jmaze/Documents/projects/altimetry_lakes_v3/')\n",
    "# roi_gdf.to_file(f'./data/ew_rois/{region}.shp')"
   ]
  },
  {
   "cell_type": "markdown",
   "id": "b94f02b0-0c0e-46fb-a919-9ca66ef8d8da",
   "metadata": {},
   "source": [
    "### 4.0 Determine the observation counts for each pixel"
   ]
  },
  {
   "cell_type": "code",
   "execution_count": 22,
   "id": "aaa25d04-eb26-42ba-a0bd-08ea2ca41c0d",
   "metadata": {},
   "outputs": [
    {
     "data": {
      "text/html": [
       "\n",
       "            <style>\n",
       "                .geemap-dark {\n",
       "                    --jp-widgets-color: white;\n",
       "                    --jp-widgets-label-color: white;\n",
       "                    --jp-ui-font-color1: white;\n",
       "                    --jp-layout-color2: #454545;\n",
       "                    background-color: #383838;\n",
       "                }\n",
       "\n",
       "                .geemap-dark .jupyter-button {\n",
       "                    --jp-layout-color3: #383838;\n",
       "                }\n",
       "\n",
       "                .geemap-colab {\n",
       "                    background-color: var(--colab-primary-surface-color, white);\n",
       "                }\n",
       "\n",
       "                .geemap-colab .jupyter-button {\n",
       "                    --jp-layout-color3: var(--colab-primary-surface-color, white);\n",
       "                }\n",
       "            </style>\n",
       "            "
      ],
      "text/plain": [
       "<IPython.core.display.HTML object>"
      ]
     },
     "metadata": {},
     "output_type": "display_data"
    }
   ],
   "source": [
    "obs_masks = []\n",
    "for polygon in target_polygons:\n",
    "    obs_mask = ee.Image.constant(1).clip(polygon)\n",
    "    #obs_mask = obs_mask.set(1)\n",
    "    obs_masks.append(obs_mask)\n",
    "    \n",
    "obs_collection = ee.ImageCollection(obs_masks)\n",
    "\n",
    "pixel_observations = obs_collection.select('constant').sum()\n",
    "#print(pixel_observations)\n"
   ]
  },
  {
   "cell_type": "markdown",
   "id": "0b8b284b-047c-43ef-a61d-54f91b2adda4",
   "metadata": {},
   "source": [
    "### 4.1 Visualize the observation counts"
   ]
  },
  {
   "cell_type": "code",
   "execution_count": 23,
   "id": "3acfb2fd-b21e-4ca4-b677-a14156b7f1e9",
   "metadata": {},
   "outputs": [
    {
     "data": {
      "text/html": [
       "\n",
       "            <style>\n",
       "                .geemap-dark {\n",
       "                    --jp-widgets-color: white;\n",
       "                    --jp-widgets-label-color: white;\n",
       "                    --jp-ui-font-color1: white;\n",
       "                    --jp-layout-color2: #454545;\n",
       "                    background-color: #383838;\n",
       "                }\n",
       "\n",
       "                .geemap-dark .jupyter-button {\n",
       "                    --jp-layout-color3: #383838;\n",
       "                }\n",
       "\n",
       "                .geemap-colab {\n",
       "                    background-color: var(--colab-primary-surface-color, white);\n",
       "                }\n",
       "\n",
       "                .geemap-colab .jupyter-button {\n",
       "                    --jp-layout-color3: var(--colab-primary-surface-color, white);\n",
       "                }\n",
       "            </style>\n",
       "            "
      ],
      "text/plain": [
       "<IPython.core.display.HTML object>"
      ]
     },
     "metadata": {},
     "output_type": "display_data"
    },
    {
     "data": {
      "application/vnd.jupyter.widget-view+json": {
       "model_id": "d8d84572c6864b04aa2f2108f2ddcba6",
       "version_major": 2,
       "version_minor": 0
      },
      "text/plain": [
       "Map(center=[65, -135], controls=(WidgetControl(options=['position', 'transparent_bg'], widget=SearchDataGUI(ch…"
      ]
     },
     "execution_count": 23,
     "metadata": {},
     "output_type": "execute_result"
    }
   ],
   "source": [
    "viz_obs = {\n",
    "    'bands': ['constant'],\n",
    "    'min': 0,\n",
    "    'max': max_times,\n",
    "    'palette': ['ff0000', 'ffff00', '00ff00']\n",
    "}\n",
    "\n",
    "Map = geemap.Map(center=(65, -135), zoom=4)\n",
    "Map.addLayer(pixel_observations, viz_obs, f'{max_times}')\n",
    "Map"
   ]
  },
  {
   "cell_type": "markdown",
   "id": "cd9a951d-90e2-44ea-9cec-b834258a2406",
   "metadata": {},
   "source": [
    "### 5.0 Calculate the number of water occurances for each pixel"
   ]
  },
  {
   "cell_type": "code",
   "execution_count": 24,
   "id": "12cd4419-c782-41c1-99bf-dae5cba82889",
   "metadata": {},
   "outputs": [
    {
     "data": {
      "text/html": [
       "\n",
       "            <style>\n",
       "                .geemap-dark {\n",
       "                    --jp-widgets-color: white;\n",
       "                    --jp-widgets-label-color: white;\n",
       "                    --jp-ui-font-color1: white;\n",
       "                    --jp-layout-color2: #454545;\n",
       "                    background-color: #383838;\n",
       "                }\n",
       "\n",
       "                .geemap-dark .jupyter-button {\n",
       "                    --jp-layout-color3: #383838;\n",
       "                }\n",
       "\n",
       "                .geemap-colab {\n",
       "                    background-color: var(--colab-primary-surface-color, white);\n",
       "                }\n",
       "\n",
       "                .geemap-colab .jupyter-button {\n",
       "                    --jp-layout-color3: var(--colab-primary-surface-color, white);\n",
       "                }\n",
       "            </style>\n",
       "            "
      ],
      "text/plain": [
       "<IPython.core.display.HTML object>"
      ]
     },
     "metadata": {},
     "output_type": "display_data"
    },
    {
     "name": "stdout",
     "output_type": "stream",
     "text": [
      "{'type': 'Image', 'bands': [{'id': 'water_occurance', 'data_type': {'type': 'PixelType', 'precision': 'int', 'min': -9.223372036854776e+18, 'max': 9.223372036854776e+18}, 'dimensions': [12, 7], 'origin': [-168, 58], 'crs': 'EPSG:4326', 'crs_transform': [1, 0, 0, 0, 1, 0]}], 'properties': {'system:footprint': {'type': 'Polygon', 'coordinates': [[[-158.81741875650087, 61.23052765733927], [-158.8024522843577, 61.23051393955594], [-158.53850485582242, 61.23051386862255], [-158.27455731411695, 61.23051389030812], [-158.07659673534127, 61.23056200207664], [-157.87863604281475, 61.23051392429156], [-157.68067542567456, 61.230561973854776], [-157.4827148939237, 61.23051390657826], [-157.21876743052007, 61.230513916691315], [-157.02080673539527, 61.23056203920838], [-156.88864599989088, 61.230561926907775], [-156.88863985881972, 62.23182441090425], [-157.28475425913766, 62.231824559132846], [-157.68067542065853, 62.231824495749755], [-157.94462289368752, 62.23182455417869], [-158.20857045214677, 62.23182451168546], [-158.7364654313869, 62.23182456970849], [-158.9505743597129, 62.231863000717176], [-159.20817084398723, 62.23173467457619], [-159.47214068246814, 62.23173464449094], [-159.73611055544094, 62.231734726308105], [-160.00008053757017, 62.231734685667526], [-160.2640504672847, 62.23173472085178], [-160.5280204503304, 62.23173469703035], [-160.72965631830195, 62.23187575165052], [-160.7296548754543, 62.456877193744454], [-160.72965142843475, 62.98102633346478], [-160.71357157853012, 62.981019024918794], [-160.713564307057, 64.01282433106482], [-160.78255478578973, 64.01291072804516], [-160.78255476639697, 64.01551928091537], [-161.21474316254842, 64.01551933876202], [-161.50273182820843, 64.01551937633171], [-161.79072050569678, 64.0155193101358], [-162.0787092414168, 64.01551933149564], [-162.51069216596164, 64.01551936724992], [-162.75426709613674, 64.01579774313271], [-162.7542670125378, 64.02728714867457], [-163.0352185427033, 64.02728725826871], [-163.31596447884672, 64.02728733422303], [-163.66690517516307, 64.02737189522311], [-163.83449775607716, 64.0274370337725], [-163.87743759180512, 64.02742266309392], [-164.08802606607267, 64.02737189406339], [-164.43894842562221, 64.02728731515447], [-164.8132803403984, 64.0273474612699], [-165.00064578269564, 64.02728713889812], [-165.00063947458335, 63.1296572364766], [-165.1692931325968, 63.12956886098843], [-165.28257801960433, 63.12955981621855], [-165.28310247896135, 63.129560066522124], [-165.28367137516628, 63.1295603358452], [-165.28385305142456, 63.12956042137339], [-165.28678539485043, 63.12956176971264], [-165.3313458095044, 63.12957481339775], [-165.37456914054368, 63.12957411592977], [-165.39972943629778, 63.12956765639894], [-165.4187422997201, 63.12955982019695], [-165.53198712654307, 63.12956884733193], [-165.89480314746638, 63.12951095637052], [-166.16688025070584, 63.129510946887855], [-166.43895757372866, 63.129511012105816], [-166.71103484139505, 63.12951097870879], [-166.98331116848584, 63.12951086465739], [-166.98330455098125, 62.13058394867723], [-166.9241953508059, 62.13060042936424], [-166.92418982767012, 61.23316703247037], [-166.868943506897, 61.23318272335389], [-166.86893836721399, 60.33619919540345], [-166.676463585461, 60.33615307524081], [-166.42007326744408, 60.33615308977307], [-166.22778045805273, 60.33619929212763], [-166.03548764518138, 60.33615308084961], [-165.7790971444423, 60.336153061499246], [-165.52270678371238, 60.33615305980325], [-165.3304139971633, 60.33619932740822], [-165.1381211612177, 60.33615306454182], [-165.0005323318832, 60.33621440556565], [-165.00052744279506, 59.43608726540513], [-164.87571489638324, 59.436087412058455], [-164.75107928242016, 59.43608736345349], [-164.75106192930642, 59.43608737171774], [-164.68876145507005, 59.43604284769141], [-164.62644529085287, 59.43608737409453], [-164.56412573733698, 59.436042861897114], [-164.50178609844374, 59.43608738632225], [-164.43949010496684, 59.43604289135404], [-164.3772116940832, 59.436087390255665], [-164.31485459620515, 59.436042853138886], [-164.2524928206387, 59.43608739098671], [-164.19021894520927, 59.43604289713497], [-164.1279253193034, 59.43608738289945], [-164.0655832387263, 59.43604285571414], [-164.00327912263288, 59.436087362957636], [-164.00326550369707, 59.43608735646849], [-163.8163119681469, 59.43604283462758], [-163.7539938434165, 59.436087367495645], [-163.69167635033128, 59.43604285293095], [-163.62933145491806, 59.436087387397684], [-163.56704079851954, 59.4360429005856], [-163.50475202320453, 59.43608739899934], [-163.44240519444557, 59.436042874303354], [-163.2369549375884, 59.43607727583957], [-163.23695473739951, 59.398088536659], [-163.1090599467178, 59.398088607586885], [-162.91748299790189, 59.39804185730348], [-162.6620470236355, 59.39804185232717], [-162.47047004286614, 59.398088675426735], [-162.27889311390368, 59.398041834698596], [-162.02345713002327, 59.39804183361714], [-161.76802124907195, 59.39804184715289], [-161.7041538319007, 59.39808863457594], [-161.64030332044112, 59.3980418390622], [-161.5764326562026, 59.39808863243299], [-161.51258524542314, 59.398041862407815], [-161.4487324429093, 59.39808864607637], [-161.38486731954643, 59.398041871764754], [-161.19311347481022, 59.398088588363144], [-161.1931134502896, 59.402828417393536], [-161.16387330469706, 59.40280319632966], [-160.90901003624157, 59.402803121252944], [-160.7178626550598, 59.40284971933327], [-160.59025412267104, 59.40284961677151], [-160.59025393422465, 59.43850013763969], [-160.44304548199858, 59.43851284921641], [-160.25607518751903, 59.43846832553901], [-160.0067814859973, 59.43846833078199], [-159.81981125671277, 59.43851281405614], [-159.632840826573, 59.438468343728104], [-159.3835472038025, 59.43846832630921], [-159.1342535284844, 59.43846828099047], [-158.94728315998725, 59.43851280193357], [-158.82245930808958, 59.43851276862955], [-158.82245449152663, 60.336201508440624], [-158.81742389051584, 60.33619917608912], [-158.81741875650087, 61.23052765733927]], [[-163.13743227566545, 61.33454461307263], [-163.13743708589783, 62.12790325411523], [-163.23208420789263, 62.127889105123785], [-163.36811162597823, 62.12788910693249], [-163.57215277483206, 62.12783910809676], [-163.84420745640304, 62.127839091109976], [-164.11626233026516, 62.127839059327684], [-164.38831700587875, 62.127839098125854], [-164.59235819084944, 62.1278891154745], [-164.79639921659583, 62.12783903662468], [-164.81205086129938, 62.12785351096088], [-164.8120556886266, 61.33472194927858], [-164.48761462204232, 61.334497345979564], [-164.23124671140712, 61.33449737614209], [-163.97487872076175, 61.33449742512652], [-163.71851076365206, 61.33449735983454], [-163.46214283861, 61.334497400155875], [-163.205774841455, 61.33449738720913], [-163.13743227566545, 61.33454461307263]]]}}}\n"
     ]
    }
   ],
   "source": [
    "target_collection = ee.ImageCollection(target_imgs)\n",
    "wtr_sum_img = target_collection.select('water_occurance').sum()\n",
    "wtr_sum_img = wtr_sum_img.clip(combined_footprint)\n",
    "print(wtr_sum_img.getInfo())"
   ]
  },
  {
   "cell_type": "markdown",
   "id": "d8f9eeca-c246-43e1-b999-cb3bde8668d5",
   "metadata": {},
   "source": [
    "### 6.0 Dived each pixels water occurance by total observations"
   ]
  },
  {
   "cell_type": "code",
   "execution_count": 25,
   "id": "b633e75b-56b9-43ea-9578-57617ef23e2c",
   "metadata": {},
   "outputs": [
    {
     "data": {
      "text/html": [
       "\n",
       "            <style>\n",
       "                .geemap-dark {\n",
       "                    --jp-widgets-color: white;\n",
       "                    --jp-widgets-label-color: white;\n",
       "                    --jp-ui-font-color1: white;\n",
       "                    --jp-layout-color2: #454545;\n",
       "                    background-color: #383838;\n",
       "                }\n",
       "\n",
       "                .geemap-dark .jupyter-button {\n",
       "                    --jp-layout-color3: #383838;\n",
       "                }\n",
       "\n",
       "                .geemap-colab {\n",
       "                    background-color: var(--colab-primary-surface-color, white);\n",
       "                }\n",
       "\n",
       "                .geemap-colab .jupyter-button {\n",
       "                    --jp-layout-color3: var(--colab-primary-surface-color, white);\n",
       "                }\n",
       "            </style>\n",
       "            "
      ],
      "text/plain": [
       "<IPython.core.display.HTML object>"
      ]
     },
     "metadata": {},
     "output_type": "display_data"
    }
   ],
   "source": [
    "wtr_proportion = wtr_sum_img.select('water_occurance').divide(pixel_observations.select('constant'))"
   ]
  },
  {
   "cell_type": "code",
   "execution_count": 26,
   "id": "d70ef0db-cb9b-4fca-b774-d3776bd038c8",
   "metadata": {},
   "outputs": [
    {
     "data": {
      "text/html": [
       "\n",
       "            <style>\n",
       "                .geemap-dark {\n",
       "                    --jp-widgets-color: white;\n",
       "                    --jp-widgets-label-color: white;\n",
       "                    --jp-ui-font-color1: white;\n",
       "                    --jp-layout-color2: #454545;\n",
       "                    background-color: #383838;\n",
       "                }\n",
       "\n",
       "                .geemap-dark .jupyter-button {\n",
       "                    --jp-layout-color3: #383838;\n",
       "                }\n",
       "\n",
       "                .geemap-colab {\n",
       "                    background-color: var(--colab-primary-surface-color, white);\n",
       "                }\n",
       "\n",
       "                .geemap-colab .jupyter-button {\n",
       "                    --jp-layout-color3: var(--colab-primary-surface-color, white);\n",
       "                }\n",
       "            </style>\n",
       "            "
      ],
      "text/plain": [
       "<IPython.core.display.HTML object>"
      ]
     },
     "metadata": {},
     "output_type": "display_data"
    },
    {
     "name": "stdout",
     "output_type": "stream",
     "text": [
      "{'type': 'Image', 'bands': [{'id': 'water_occurance', 'data_type': {'type': 'PixelType', 'precision': 'float'}, 'dimensions': [12, 7], 'origin': [-168, 58], 'crs': 'EPSG:4326', 'crs_transform': [1, 0, 0, 0, 1, 0]}], 'properties': {'system:footprint': {'type': 'Polygon', 'coordinates': [[[-158.81741875650087, 61.23052765733927], [-158.8024522843577, 61.23051393955594], [-158.53850485582242, 61.23051386862255], [-158.27455731411695, 61.23051389030812], [-158.07659673534127, 61.23056200207664], [-157.87863604281475, 61.23051392429156], [-157.68067542567456, 61.230561973854776], [-157.4827148939237, 61.23051390657826], [-157.21876743052007, 61.230513916691315], [-157.02080673539527, 61.23056203920838], [-156.88864599989088, 61.230561926907775], [-156.88863985881972, 62.23182441090425], [-157.28475425913766, 62.231824559132846], [-157.68067542065853, 62.231824495749755], [-157.94462289368752, 62.23182455417869], [-158.20857045214677, 62.23182451168546], [-158.7364654313869, 62.23182456970849], [-158.9505743597129, 62.231863000717176], [-159.20817084398723, 62.23173467457619], [-159.47214068246814, 62.23173464449094], [-159.73611055544094, 62.231734726308105], [-160.00008053757017, 62.231734685667526], [-160.2640504672847, 62.23173472085178], [-160.5280204503304, 62.23173469703035], [-160.72965631830195, 62.23187575165052], [-160.7296548754543, 62.456877193744454], [-160.72965142843475, 62.98102633346478], [-160.71357157853012, 62.981019024918794], [-160.713564307057, 64.01282433106482], [-160.78255478578973, 64.01291072804516], [-160.78255476639697, 64.01551928091537], [-161.21474316254842, 64.01551933876202], [-161.50273182820843, 64.01551937633171], [-161.79072050569678, 64.0155193101358], [-162.0787092414168, 64.01551933149564], [-162.51069216596164, 64.01551936724992], [-162.75426709613674, 64.01579774313271], [-162.7542670125378, 64.02728714867457], [-163.0352185427033, 64.02728725826871], [-163.31596447884672, 64.02728733422303], [-163.66690517516307, 64.02737189522311], [-163.83449775607716, 64.0274370337725], [-163.87743759180512, 64.02742266309392], [-164.08802606607267, 64.02737189406339], [-164.43894842562221, 64.02728731515447], [-164.8132803403984, 64.0273474612699], [-165.00064578269564, 64.02728713889812], [-165.00063947458335, 63.1296572364766], [-165.1692931325968, 63.12956886098843], [-165.28257801960433, 63.12955981621855], [-165.28310247896135, 63.129560066522124], [-165.28367137516628, 63.1295603358452], [-165.28385305142456, 63.12956042137339], [-165.28678539485043, 63.12956176971264], [-165.3313458095044, 63.12957481339775], [-165.37456914054368, 63.12957411592977], [-165.39972943629778, 63.12956765639894], [-165.4187422997201, 63.12955982019695], [-165.53198712654307, 63.12956884733193], [-165.89480314746638, 63.12951095637052], [-166.16688025070584, 63.129510946887855], [-166.43895757372866, 63.129511012105816], [-166.71103484139505, 63.12951097870879], [-166.98331116848584, 63.12951086465739], [-166.98330455098125, 62.13058394867723], [-166.9241953508059, 62.13060042936424], [-166.92418982767012, 61.23316703247037], [-166.868943506897, 61.23318272335389], [-166.86893836721399, 60.33619919540345], [-166.676463585461, 60.33615307524081], [-166.42007326744408, 60.33615308977307], [-166.22778045805273, 60.33619929212763], [-166.03548764518138, 60.33615308084961], [-165.7790971444423, 60.336153061499246], [-165.52270678371238, 60.33615305980325], [-165.3304139971633, 60.33619932740822], [-165.1381211612177, 60.33615306454182], [-165.0005323318832, 60.33621440556565], [-165.00052744279506, 59.43608726540513], [-164.87571489638324, 59.436087412058455], [-164.75107928242016, 59.43608736345349], [-164.75106192930642, 59.43608737171774], [-164.68876145507005, 59.43604284769141], [-164.62644529085287, 59.43608737409453], [-164.56412573733698, 59.436042861897114], [-164.50178609844374, 59.43608738632225], [-164.43949010496684, 59.43604289135404], [-164.3772116940832, 59.436087390255665], [-164.31485459620515, 59.436042853138886], [-164.2524928206387, 59.43608739098671], [-164.19021894520927, 59.43604289713497], [-164.1279253193034, 59.43608738289945], [-164.0655832387263, 59.43604285571414], [-164.00327912263288, 59.436087362957636], [-164.00326550369707, 59.43608735646849], [-163.8163119681469, 59.43604283462758], [-163.7539938434165, 59.436087367495645], [-163.69167635033128, 59.43604285293095], [-163.62933145491806, 59.436087387397684], [-163.56704079851954, 59.4360429005856], [-163.50475202320453, 59.43608739899934], [-163.44240519444557, 59.436042874303354], [-163.2369549375884, 59.43607727583957], [-163.23695473739951, 59.398088536659], [-163.1090599467178, 59.398088607586885], [-162.91748299790189, 59.39804185730348], [-162.6620470236355, 59.39804185232717], [-162.47047004286614, 59.398088675426735], [-162.27889311390368, 59.398041834698596], [-162.02345713002327, 59.39804183361714], [-161.76802124907195, 59.39804184715289], [-161.7041538319007, 59.39808863457594], [-161.64030332044112, 59.3980418390622], [-161.5764326562026, 59.39808863243299], [-161.51258524542314, 59.398041862407815], [-161.4487324429093, 59.39808864607637], [-161.38486731954643, 59.398041871764754], [-161.19311347481022, 59.398088588363144], [-161.1931134502896, 59.402828417393536], [-161.16387330469706, 59.40280319632966], [-160.90901003624157, 59.402803121252944], [-160.7178626550598, 59.40284971933327], [-160.59025412267104, 59.40284961677151], [-160.59025393422465, 59.43850013763969], [-160.44304548199858, 59.43851284921641], [-160.25607518751903, 59.43846832553901], [-160.0067814859973, 59.43846833078199], [-159.81981125671277, 59.43851281405614], [-159.632840826573, 59.438468343728104], [-159.3835472038025, 59.43846832630921], [-159.1342535284844, 59.43846828099047], [-158.94728315998725, 59.43851280193357], [-158.82245930808958, 59.43851276862955], [-158.82245449152663, 60.336201508440624], [-158.81742389051584, 60.33619917608912], [-158.81741875650087, 61.23052765733927]], [[-163.13743227566545, 61.33454461307263], [-163.13743708589783, 62.12790325411523], [-163.23208420789263, 62.127889105123785], [-163.36811162597823, 62.12788910693249], [-163.57215277483206, 62.12783910809676], [-163.84420745640304, 62.127839091109976], [-164.11626233026516, 62.127839059327684], [-164.38831700587875, 62.127839098125854], [-164.59235819084944, 62.1278891154745], [-164.79639921659583, 62.12783903662468], [-164.81205086129938, 62.12785351096088], [-164.8120556886266, 61.33472194927858], [-164.48761462204232, 61.334497345979564], [-164.23124671140712, 61.33449737614209], [-163.97487872076175, 61.33449742512652], [-163.71851076365206, 61.33449735983454], [-163.46214283861, 61.334497400155875], [-163.205774841455, 61.33449738720913], [-163.13743227566545, 61.33454461307263]]]}}}\n"
     ]
    }
   ],
   "source": [
    "print(wtr_proportion.getInfo())"
   ]
  },
  {
   "cell_type": "markdown",
   "id": "a43c0bde-7d35-4d99-b4bc-058b785198e6",
   "metadata": {},
   "source": [
    "### 6.1 Visualize the water occurance proportions"
   ]
  },
  {
   "cell_type": "code",
   "execution_count": 29,
   "id": "2e7e34c4-b2ca-4912-a26e-98875114023c",
   "metadata": {},
   "outputs": [
    {
     "data": {
      "text/html": [
       "\n",
       "            <style>\n",
       "                .geemap-dark {\n",
       "                    --jp-widgets-color: white;\n",
       "                    --jp-widgets-label-color: white;\n",
       "                    --jp-ui-font-color1: white;\n",
       "                    --jp-layout-color2: #454545;\n",
       "                    background-color: #383838;\n",
       "                }\n",
       "\n",
       "                .geemap-dark .jupyter-button {\n",
       "                    --jp-layout-color3: #383838;\n",
       "                }\n",
       "\n",
       "                .geemap-colab {\n",
       "                    background-color: var(--colab-primary-surface-color, white);\n",
       "                }\n",
       "\n",
       "                .geemap-colab .jupyter-button {\n",
       "                    --jp-layout-color3: var(--colab-primary-surface-color, white);\n",
       "                }\n",
       "            </style>\n",
       "            "
      ],
      "text/plain": [
       "<IPython.core.display.HTML object>"
      ]
     },
     "metadata": {},
     "output_type": "display_data"
    },
    {
     "data": {
      "application/vnd.jupyter.widget-view+json": {
       "model_id": "2f5b499c25994a238195d25cfa31c4eb",
       "version_major": 2,
       "version_minor": 0
      },
      "text/plain": [
       "Map(center=[65, -135], controls=(WidgetControl(options=['position', 'transparent_bg'], widget=SearchDataGUI(ch…"
      ]
     },
     "execution_count": 29,
     "metadata": {},
     "output_type": "execute_result"
    }
   ],
   "source": [
    "viz_prop = {\n",
    "    'bands': ['water_occurance'],\n",
    "    'min': 0,\n",
    "    'max': 1,\n",
    "    'palette': ['ff0000', '00ff00', '0000ff']\n",
    "}\n",
    "\n",
    "Map = geemap.Map(center=(65, -135), zoom=4)\n",
    "Map.addLayer(wtr_proportion, viz_prop, '.')\n",
    "Map\n",
    "\n"
   ]
  },
  {
   "cell_type": "markdown",
   "id": "aa3bcfc0-dc4b-4f06-9e8d-5a19190d11a4",
   "metadata": {},
   "source": [
    "### 7.0 Binary image based on number of occurances"
   ]
  },
  {
   "cell_type": "code",
   "execution_count": 12,
   "id": "21ae9b27-11cd-40b9-ad13-4949c8ed4518",
   "metadata": {},
   "outputs": [
    {
     "data": {
      "text/html": [
       "\n",
       "            <style>\n",
       "                .geemap-dark {\n",
       "                    --jp-widgets-color: white;\n",
       "                    --jp-widgets-label-color: white;\n",
       "                    --jp-ui-font-color1: white;\n",
       "                    --jp-layout-color2: #454545;\n",
       "                    background-color: #383838;\n",
       "                }\n",
       "\n",
       "                .geemap-dark .jupyter-button {\n",
       "                    --jp-layout-color3: #383838;\n",
       "                }\n",
       "\n",
       "                .geemap-colab {\n",
       "                    background-color: var(--colab-primary-surface-color, white);\n",
       "                }\n",
       "\n",
       "                .geemap-colab .jupyter-button {\n",
       "                    --jp-layout-color3: var(--colab-primary-surface-color, white);\n",
       "                }\n",
       "            </style>\n",
       "            "
      ],
      "text/plain": [
       "<IPython.core.display.HTML object>"
      ]
     },
     "metadata": {},
     "output_type": "display_data"
    },
    {
     "name": "stdout",
     "output_type": "stream",
     "text": [
      "[8.0, 6.666666666666666, 5.7142857142857135, 4.0, 2.6666666666666665]\n",
      "{8: <ee.image.Image object at 0x165929460>, 6: <ee.image.Image object at 0x165a1fb90>, 5: <ee.image.Image object at 0x165a1d9a0>, 4: <ee.image.Image object at 0x165a1d8b0>, 2: <ee.image.Image object at 0x165a1ffb0>}\n"
     ]
    }
   ],
   "source": [
    "time_fractions = [1/5, 1/6, 1/7, 1/10, 1/15]\n",
    "#print(time_fractions)\n",
    "water_thresholds = [time_fraction * max_times for time_fraction in time_fractions]\n",
    "print(water_thresholds)\n",
    "\n",
    "binary_images = {}\n",
    "for threshold in water_thresholds:\n",
    "    threshold_round = math.floor(threshold)\n",
    "    wtr_img_binary = wtr_sum_img.gt(threshold)\n",
    "    binary_images[threshold_round] = wtr_img_binary\n",
    "\n",
    "print(binary_images)"
   ]
  },
  {
   "cell_type": "markdown",
   "id": "e10b1f23-a4a7-427a-a65b-31492b2edae5",
   "metadata": {},
   "source": [
    "### 6.0 Visualize results"
   ]
  },
  {
   "cell_type": "code",
   "execution_count": 13,
   "id": "85d5eb44-0f05-4193-9447-1c711fa31238",
   "metadata": {},
   "outputs": [
    {
     "data": {
      "text/html": [
       "\n",
       "            <style>\n",
       "                .geemap-dark {\n",
       "                    --jp-widgets-color: white;\n",
       "                    --jp-widgets-label-color: white;\n",
       "                    --jp-ui-font-color1: white;\n",
       "                    --jp-layout-color2: #454545;\n",
       "                    background-color: #383838;\n",
       "                }\n",
       "\n",
       "                .geemap-dark .jupyter-button {\n",
       "                    --jp-layout-color3: #383838;\n",
       "                }\n",
       "\n",
       "                .geemap-colab {\n",
       "                    background-color: var(--colab-primary-surface-color, white);\n",
       "                }\n",
       "\n",
       "                .geemap-colab .jupyter-button {\n",
       "                    --jp-layout-color3: var(--colab-primary-surface-color, white);\n",
       "                }\n",
       "            </style>\n",
       "            "
      ],
      "text/plain": [
       "<IPython.core.display.HTML object>"
      ]
     },
     "metadata": {},
     "output_type": "display_data"
    },
    {
     "name": "stdout",
     "output_type": "stream",
     "text": [
      "dict_keys([8, 6, 5, 4, 2])\n"
     ]
    },
    {
     "data": {
      "application/vnd.jupyter.widget-view+json": {
       "model_id": "d76d06162fdf44cbbe6a7a505fa67fa8",
       "version_major": 2,
       "version_minor": 0
      },
      "text/plain": [
       "Map(center=[65, -135], controls=(WidgetControl(options=['position', 'transparent_bg'], widget=SearchDataGUI(ch…"
      ]
     },
     "execution_count": 13,
     "metadata": {},
     "output_type": "execute_result"
    }
   ],
   "source": [
    "viz1 = {\n",
    "    'bands': ['water_occurance'],\n",
    "    'min': 0,\n",
    "    'max': 1,\n",
    "    'palette': ['ff0000', '00ff00', '0000ff']\n",
    "}\n",
    "\n",
    "Map = geemap.Map(center=(65, -135), zoom=4)\n",
    "\n",
    "occurance_cnts = binary_images.keys()\n",
    "print(occurance_cnts)\n",
    "\n",
    "for cnt in occurance_cnts:\n",
    "    Map.addLayer(binary_images[cnt], viz1, f'{region}, {cnt}, {target_weeks[0]}')\n",
    "\n",
    "\n",
    "#Map.addLayer(combined_footprint, {}, 'roi_bounds')\n",
    "Map\n"
   ]
  },
  {
   "cell_type": "code",
   "execution_count": 18,
   "id": "50ba031e-8402-4fb1-a92e-727ce79ac181",
   "metadata": {},
   "outputs": [
    {
     "data": {
      "text/html": [
       "\n",
       "            <style>\n",
       "                .geemap-dark {\n",
       "                    --jp-widgets-color: white;\n",
       "                    --jp-widgets-label-color: white;\n",
       "                    --jp-ui-font-color1: white;\n",
       "                    --jp-layout-color2: #454545;\n",
       "                    background-color: #383838;\n",
       "                }\n",
       "\n",
       "                .geemap-dark .jupyter-button {\n",
       "                    --jp-layout-color3: #383838;\n",
       "                }\n",
       "\n",
       "                .geemap-colab {\n",
       "                    background-color: var(--colab-primary-surface-color, white);\n",
       "                }\n",
       "\n",
       "                .geemap-colab .jupyter-button {\n",
       "                    --jp-layout-color3: var(--colab-primary-surface-color, white);\n",
       "                }\n",
       "            </style>\n",
       "            "
      ],
      "text/plain": [
       "<IPython.core.display.HTML object>"
      ]
     },
     "metadata": {},
     "output_type": "display_data"
    },
    {
     "data": {
      "application/vnd.jupyter.widget-view+json": {
       "model_id": "22278601de4f4ce19c9ae68b76992408",
       "version_major": 2,
       "version_minor": 0
      },
      "text/plain": [
       "Map(center=[65, -135], controls=(WidgetControl(options=['position', 'transparent_bg'], widget=SearchDataGUI(ch…"
      ]
     },
     "execution_count": 18,
     "metadata": {},
     "output_type": "execute_result"
    }
   ],
   "source": [
    "viz2 = {\n",
    "    'bands': ['water_occurance'],\n",
    "    'min': 0,\n",
    "    'max': 4,\n",
    "    'palette': ['ff0000', '00ff00', '0000ff']\n",
    "}\n",
    "\n",
    "Map2 = geemap.Map(center=(65,-135), zoom=4)\n",
    "Map2.addLayer(wtr_sum_img , viz2, f'Occurence sums')\n",
    "Map2"
   ]
  },
  {
   "cell_type": "code",
   "execution_count": null,
   "id": "3840e871-8df9-4e9f-b84e-1ff81003f50a",
   "metadata": {},
   "outputs": [],
   "source": [
    "\n",
    "\n",
    "### 7.1 Export the .GeoTiff to Drive"
   ]
  },
  {
   "cell_type": "code",
   "execution_count": 13,
   "id": "e4357ba0-73ef-49ee-aee8-7a9cdf3618d5",
   "metadata": {},
   "outputs": [
    {
     "data": {
      "text/html": [
       "\n",
       "            <style>\n",
       "                .geemap-dark {\n",
       "                    --jp-widgets-color: white;\n",
       "                    --jp-widgets-label-color: white;\n",
       "                    --jp-ui-font-color1: white;\n",
       "                    --jp-layout-color2: #454545;\n",
       "                    background-color: #383838;\n",
       "                }\n",
       "\n",
       "                .geemap-dark .jupyter-button {\n",
       "                    --jp-layout-color3: #383838;\n",
       "                }\n",
       "\n",
       "                .geemap-colab {\n",
       "                    background-color: var(--colab-primary-surface-color, white);\n",
       "                }\n",
       "\n",
       "                .geemap-colab .jupyter-button {\n",
       "                    --jp-layout-color3: var(--colab-primary-surface-color, white);\n",
       "                }\n",
       "            </style>\n",
       "            "
      ],
      "text/plain": [
       "<IPython.core.display.HTML object>"
      ]
     },
     "metadata": {},
     "output_type": "display_data"
    }
   ],
   "source": [
    "for cnt in occurance_cnts:\n",
    "\n",
    "    img = binary_images[cnt]\n",
    "\n",
    "    export_task = ee.batch.Export.image.toDrive(\n",
    "        image=img,\n",
    "        description=f'{region}_count{cnt}_years{target_years[0]}-{target_years[-1]}_weeks{target_weeks[0]}-{target_weeks[-1]}',\n",
    "        folder='ewebb_s2',\n",
    "        fileNamePrefix=f'{region}_count{cnt}_years{target_years[0]}-{target_years[-1]}_weeks{target_weeks[0]}-{target_weeks[-1]}',\n",
    "        region=combined_footprint,\n",
    "        scale=10,\n",
    "        fileFormat='GeoTIFF',\n",
    "        maxPixels=1e13\n",
    "    )\n",
    "    \n",
    "    export_task.start()"
   ]
  },
  {
   "cell_type": "markdown",
   "id": "fe8dde47-37be-4607-b6c8-59ecfea403ba",
   "metadata": {},
   "source": [
    "### X.2 Export the .shp files to Drive??"
   ]
  },
  {
   "cell_type": "markdown",
   "id": "3364a9de-1829-4c72-819c-3dd0b415bc4a",
   "metadata": {},
   "source": [
    "### * Scrap workspace"
   ]
  },
  {
   "cell_type": "code",
   "execution_count": null,
   "id": "887c2f27-5138-4563-aa2a-dd480ecb8a26",
   "metadata": {},
   "outputs": [],
   "source": [
    "# binary_sum = weekly_sum.gt(3)\n",
    "\n",
    "# vectors = binary_sum.reduceToVectors(\n",
    "#     geometryType='polygon',\n",
    "#     reducer=ee.Reducer.countEvery(),\n",
    "#     scale=10,\n",
    "#     maxPixels=1e13\n",
    "# )\n",
    "# # !!! Need to switch to a for-loop, becuase .getInfo() won't map to the server-side. \n",
    "# def get_geojson(vectors):\n",
    "#     return ee.Feature(vectors).geometry().getInfo()\n",
    "\n",
    "# vector_geoms = vectors.map(get_geojson)\n",
    "\n",
    "# print(vector_geoms)"
   ]
  },
  {
   "cell_type": "code",
   "execution_count": 43,
   "id": "075bb96a-7c97-4615-87ec-b085b9fe5ee4",
   "metadata": {},
   "outputs": [
    {
     "data": {
      "text/html": [
       "\n",
       "            <style>\n",
       "                .geemap-dark {\n",
       "                    --jp-widgets-color: white;\n",
       "                    --jp-widgets-label-color: white;\n",
       "                    --jp-ui-font-color1: white;\n",
       "                    --jp-layout-color2: #454545;\n",
       "                    background-color: #383838;\n",
       "                }\n",
       "\n",
       "                .geemap-dark .jupyter-button {\n",
       "                    --jp-layout-color3: #383838;\n",
       "                }\n",
       "\n",
       "                .geemap-colab {\n",
       "                    background-color: var(--colab-primary-surface-color, white);\n",
       "                }\n",
       "\n",
       "                .geemap-colab .jupyter-button {\n",
       "                    --jp-layout-color3: var(--colab-primary-surface-color, white);\n",
       "                }\n",
       "            </style>\n",
       "            "
      ],
      "text/plain": [
       "<IPython.core.display.HTML object>"
      ]
     },
     "metadata": {},
     "output_type": "display_data"
    }
   ],
   "source": [
    "# np_img = geemap.ee_to_numpy(clipped_mosaic)"
   ]
  },
  {
   "cell_type": "code",
   "execution_count": 44,
   "id": "1943c301-8c90-47b1-8473-30cddf8b354f",
   "metadata": {},
   "outputs": [
    {
     "data": {
      "text/html": [
       "\n",
       "            <style>\n",
       "                .geemap-dark {\n",
       "                    --jp-widgets-color: white;\n",
       "                    --jp-widgets-label-color: white;\n",
       "                    --jp-ui-font-color1: white;\n",
       "                    --jp-layout-color2: #454545;\n",
       "                    background-color: #383838;\n",
       "                }\n",
       "\n",
       "                .geemap-dark .jupyter-button {\n",
       "                    --jp-layout-color3: #383838;\n",
       "                }\n",
       "\n",
       "                .geemap-colab {\n",
       "                    background-color: var(--colab-primary-surface-color, white);\n",
       "                }\n",
       "\n",
       "                .geemap-colab .jupyter-button {\n",
       "                    --jp-layout-color3: var(--colab-primary-surface-color, white);\n",
       "                }\n",
       "            </style>\n",
       "            "
      ],
      "text/plain": [
       "<IPython.core.display.HTML object>"
      ]
     },
     "metadata": {},
     "output_type": "display_data"
    },
    {
     "name": "stdout",
     "output_type": "stream",
     "text": [
      "60\n"
     ]
    }
   ],
   "source": [
    "# t = target_collection.clip(combined_footprint)\n",
    "# target_mosaic = target_collection.mosaic()\n",
    "# clipped_mosaic = target_mosaic.clip(combined_footprint)"
   ]
  },
  {
   "cell_type": "code",
   "execution_count": null,
   "id": "c8cb4b12-9784-42c0-9d23-37c90baa95ee",
   "metadata": {},
   "outputs": [],
   "source": []
  }
 ],
 "metadata": {
  "kernelspec": {
   "display_name": "Python 3 (ipykernel)",
   "language": "python",
   "name": "python3"
  },
  "language_info": {
   "codemirror_mode": {
    "name": "ipython",
    "version": 3
   },
   "file_extension": ".py",
   "mimetype": "text/x-python",
   "name": "python",
   "nbconvert_exporter": "python",
   "pygments_lexer": "ipython3",
   "version": "3.12.4"
  }
 },
 "nbformat": 4,
 "nbformat_minor": 5
}
